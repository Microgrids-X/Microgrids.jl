{
 "cells": [
  {
   "cell_type": "code",
   "execution_count": 1,
   "id": "a057597f-0993-4915-813c-915eff752105",
   "metadata": {},
   "outputs": [],
   "source": [
    "using CSV, DataFrames\n",
    "using Microgrids\n",
    "using NLopt # optimization solvers\n",
    "using Printf # pretty print results\n",
    "using PyPlot\n",
    "using PyCall\n",
    "using BenchmarkTools # for timing performance, optional"
   ]
  },
  {
   "cell_type": "code",
   "execution_count": 2,
   "id": "e483c6f8-940c-4072-ac8a-4c86bd17fb82",
   "metadata": {
    "tags": []
   },
   "outputs": [],
   "source": [
    "using Printf # pretty print results\n",
    "using Random, Statistics"
   ]
  },
  {
   "cell_type": "code",
   "execution_count": 3,
   "id": "3a87a676-9923-4d66-bac1-576ad1720dd8",
   "metadata": {
    "tags": []
   },
   "outputs": [],
   "source": [
    "\n",
    "np=pyimport(\"numpy\");\n",
    "td = collect((0:nsteps-1)/24) ;\n"
   ]
  },
  {
   "cell_type": "code",
   "execution_count": 4,
   "id": "7a3a52ff-9714-48c7-aad4-908c5f746401",
   "metadata": {
    "tags": []
   },
   "outputs": [
    {
     "data": {
      "text/plain": [
       "true"
      ]
     },
     "execution_count": 4,
     "metadata": {},
     "output_type": "execute_result"
    }
   ],
   "source": [
    "with_plots = isdefined(Main, :PyPlot)"
   ]
  },
  {
   "cell_type": "markdown",
   "id": "11e43d38-ea1c-4256-9546-dba78952c001",
   "metadata": {},
   "source": [
    "#### default Hydrogen prices scenario\n",
    "#electrolyzer and fuel cell investment price : 1600\\$/kW"
   ]
  },
  {
   "cell_type": "code",
   "execution_count": 5,
   "id": "40e20332-bb1f-4ad4-a054-4de92fefe834",
   "metadata": {
    "tags": []
   },
   "outputs": [
    {
     "data": {
      "text/plain": [
       "Microgrid{Float64}(Project(25, 0.05, 1.0, \"€\"), [1453.0, 1331.0, 1214.0, 1146.0, 1078.0, 1035.0, 1032.0, 1072.0, 1142.0, 1208.0  …  1479.0, 1508.0, 1410.0, 1370.0, 1467.0, 1587.0, 1561.0, 1472.0, 1533.0, 1483.0], DispatchableCompound{Float64}(ProductionUnit{Float64}[ProductionUnit{Float64}(2000.0, 0.0, 0.24, 1.0, 400.0, 0.02, 15000.0, 0.0, 1.0, 1.0, \"L\", \"KWh\")], ProductionUnit{Float64}[ProductionUnit{Float64}(1.8e6, 0.0, 0.0625, 0.0, 1600.0, 10.0, 45000.0, 0.05, 1.0, 1.0, \"Kg\", \"KWh\")]), ProductionUnit{Float64}[ProductionUnit{Float64}(2.0e6, 0.0, 56.0, 0.0, 1600.0, 10.0, 45000.0, 0.05, 1.0, 1.0, \"KWh\", \"Kg\")], TankCompound{Float64}(Tank{Float64}(0.0, 0.0, 0.0, 25.0, 0.0, 0.0, 0.0, 1.0, 1.0, 1.0, 1.0), Tank{Float64}(1.0e7, 500.0, 0.0025, 25.0, 0.0, 0.0, 0.1, 1.0, 14.0, 1.0, 1.0)), Battery{Float64}(5.0e6, 350.0, 10.0, 15.0, 3000.0, 1.0, 1.0, 0.05, 0.0, 1.0, 0.0, 1.0, 1.0), NonDispatchableSource[Photovoltaic{Float64}(3.0e6, [0.0, 0.0, 0.0, 0.0, 0.0, 0.0, 0.0, 0.0, 0.0, 7.000000000000001e-5  …  0.45131, 0.30678, 0.0, 0.0, 0.0, 0.0, 0.0, 0.0, 0.0, 0.0], 1200.0, 20.0, 25.0, 1.0, 1.0, 1.0), WindPower{Float64}(1.8e6, [0.03184904690521816, 0.1104932647748532, 0.24596484619739856, 0.44422012231738006, 0.6554128208926687, 0.8470913237698507, 0.9579413031865969, 0.9735278942424532, 0.9837469734016646, 0.9903667231838823  …  0.011233045262998936, 0.018460507449516883, 0.023644167600765466, 0.02969747711584798, 0.036359043012900244, 0.03713796382151399, 0.037530379586714784, 0.03792477182913709, 0.037530379586714784, 0.03674751985711801], 3500.0, 100.0, 25.0, 1.0, 1.0)])"
      ]
     },
     "execution_count": 5,
     "metadata": {},
     "output_type": "execute_result"
    }
   ],
   "source": [
    "mg_base = new_microgrid()"
   ]
  },
  {
   "cell_type": "code",
   "execution_count": 6,
   "id": "a14a3ea4-a3c4-40d1-9f66-f092261b1985",
   "metadata": {
    "tags": []
   },
   "outputs": [
    {
     "data": {
      "text/plain": [
       "500.0"
      ]
     },
     "execution_count": 6,
     "metadata": {},
     "output_type": "execute_result"
    }
   ],
   "source": [
    "mg_base.tanks.h2Tank.investment_price"
   ]
  },
  {
   "cell_type": "markdown",
   "id": "8f7753e1-cfe3-4d1f-b4e6-1f8665b442e4",
   "metadata": {
    "tags": []
   },
   "source": [
    "####  Hydrogen  High prices scenario\n",
    "#electrolyzer and fuel cell investment price : 2200\\$/kW"
   ]
  },
  {
   "cell_type": "code",
   "execution_count": 7,
   "id": "ef803eae-d36c-45e2-a124-4b3c236dbd10",
   "metadata": {
    "tags": []
   },
   "outputs": [
    {
     "data": {
      "text/plain": [
       "8-element Vector{Float64}:\n",
       "  400.0\n",
       "    0.0\n",
       " 2200.0\n",
       "  500.0\n",
       " 2200.0\n",
       "  350.0\n",
       " 1200.0\n",
       " 3500.0"
      ]
     },
     "execution_count": 7,
     "metadata": {},
     "output_type": "execute_result"
    }
   ],
   "source": [
    "capex_hi= [400., 0.0, 2200., 500., 2200., 350., 1200., 3500.]"
   ]
  },
  {
   "cell_type": "code",
   "execution_count": 8,
   "id": "9c0f76fc-8d18-463b-bbc4-a27a0f881d16",
   "metadata": {
    "tags": []
   },
   "outputs": [
    {
     "data": {
      "text/plain": [
       "Microgrid{Float64}(Project(25, 0.05, 1.0, \"€\"), [1453.0, 1331.0, 1214.0, 1146.0, 1078.0, 1035.0, 1032.0, 1072.0, 1142.0, 1208.0  …  1479.0, 1508.0, 1410.0, 1370.0, 1467.0, 1587.0, 1561.0, 1472.0, 1533.0, 1483.0], DispatchableCompound{Float64}(ProductionUnit{Float64}[ProductionUnit{Float64}(2000.0, 0.0, 0.24, 1.0, 400.0, 0.02, 15000.0, 0.0, 1.0, 1.0, \"L\", \"KWh\")], ProductionUnit{Float64}[ProductionUnit{Float64}(2.2e6, 0.0, 0.0625, 0.0, 1600.0, 10.0, 45000.0, 0.05, 1.0, 1.0, \"Kg\", \"KWh\")]), ProductionUnit{Float64}[ProductionUnit{Float64}(500000.0, 0.0, 56.0, 0.0, 1600.0, 10.0, 45000.0, 0.05, 1.0, 1.0, \"KWh\", \"Kg\")], TankCompound{Float64}(Tank{Float64}(0.0, 0.0, 0.0, 25.0, 0.0, 0.0, 0.0, 1.0, 1.0, 1.0, 1.0), Tank{Float64}(350000.0, 500.0, 0.0025, 25.0, 0.0, 0.0, 0.1, 1.0, 14.0, 1.0, 1.0)), Battery{Float64}(400000.0, 350.0, 10.0, 15.0, 3000.0, 1.0, 1.0, 0.05, 0.0, 1.0, 0.0, 1.0, 1.0), NonDispatchableSource[Photovoltaic{Float64}(0.0, [0.0, 0.0, 0.0, 0.0, 0.0, 0.0, 0.0, 0.0, 0.0, 7.000000000000001e-5  …  0.45131, 0.30678, 0.0, 0.0, 0.0, 0.0, 0.0, 0.0, 0.0, 0.0], 1200.0, 20.0, 25.0, 1.0, 1.0, 1.0), WindPower{Float64}(2.2e6, [0.03184904690521816, 0.1104932647748532, 0.24596484619739856, 0.44422012231738006, 0.6554128208926687, 0.8470913237698507, 0.9579413031865969, 0.9735278942424532, 0.9837469734016646, 0.9903667231838823  …  0.011233045262998936, 0.018460507449516883, 0.023644167600765466, 0.02969747711584798, 0.036359043012900244, 0.03713796382151399, 0.037530379586714784, 0.03792477182913709, 0.037530379586714784, 0.03674751985711801], 3500.0, 100.0, 25.0, 1.0, 1.0)])"
      ]
     },
     "execution_count": 8,
     "metadata": {},
     "output_type": "execute_result"
    }
   ],
   "source": [
    "mg_high= new_microgrid(capex_hi)"
   ]
  },
  {
   "cell_type": "markdown",
   "id": "819de33d-f525-4523-ab33-fedcde3675f3",
   "metadata": {},
   "source": [
    "#### function to compare 2 operations trajectories"
   ]
  },
  {
   "cell_type": "code",
   "execution_count": 9,
   "id": "c4b766e0-570d-4562-983b-7986cb97c364",
   "metadata": {
    "tags": []
   },
   "outputs": [
    {
     "data": {
      "text/plain": [
       "comp_oper_traj (generic function with 1 method)"
      ]
     },
     "execution_count": 9,
     "metadata": {},
     "output_type": "execute_result"
    }
   ],
   "source": [
    "function comp_oper_traj(mg1,mg2, oper_traj1, oper_traj2, costs1,costs2)\n",
    " \n",
    "  ns=Int64(nsteps/730)\n",
    "     z=zeros(Float64,ns)\n",
    "tm=zeros(Float64,ns +1)\n",
    "    tm[end]=nsteps/24\n",
    " for i=1:ns\n",
    "    z[i]= oper_traj1.LoH[i*730+1]\n",
    "    tm[i]=(i-1)*730/24 \n",
    "end\n",
    "    fig,( ax1, ax2) = plt.subplots(2,1,sharex=true)\n",
    "    y1 = min.(oper_traj1.Prenew_pot,mg1.load)\n",
    "    y2 = max.( oper_traj1.Pbatt,0.0)\n",
    "    y3 = oper_traj1.Pfc\n",
    "    y4 = abs.(min.( oper_traj1.Pbatt,0.0))\n",
    "    y5 = oper_traj1.Pelyz\n",
    "    y6 = oper_traj1.power_shedding\n",
    "    y7 = oper_traj1.power_curtailment\n",
    "    \n",
    "    Y1=np.vstack([y1,y2,y3,y4,y5,y6,y7])\n",
    "    \n",
    " \n",
    "    y1 = min.(oper_traj2.Prenew_pot,mg2.load)\n",
    "    y2 = max.( oper_traj2.Pbatt,0.0)\n",
    "    y3 = oper_traj2.Pfc\n",
    "    y4 = abs.(min.( oper_traj2.Pbatt,0.0))\n",
    "    y5 = oper_traj2.Pelyz\n",
    "    y6 = oper_traj2.power_shedding\n",
    "    y7 = oper_traj2.power_curtailment\n",
    "    \n",
    "    Y2=np.vstack([y1,y2,y3,y4,y5,y6,y7])\n",
    " \n",
    "        \n",
    "        fieldNames =([\"Pren used by the load\",\"battery_discharge\",\"fuel cell\",\"battery_charge\", \"elyz\",\"shedding\",\"spillage\"])\n",
    "    \n",
    "    fieldColors = ([\"orange\",\"green\",\"pink\",\"green\",\"magenta\",\"black\",\"red\"])\n",
    "         \n",
    "    \n",
    "    ax1.plot(td, oper_traj1.Prenew_pot,lw=2, \"tab:orange\", label=\"ren\")\n",
    "    ax1.plot(td, mg1.load,lw=2, label=\"load\")\n",
    "    stacks1 = ax1.stackplot(td,Y1,labels=fieldNames, colors = fieldColors,alpha=0.8)\n",
    "     ax2.plot(td, oper_traj2.Prenew_pot,lw=2, \"tab:orange\", label=\"ren\")\n",
    "    ax2.plot(td, mg2.load,lw=2, label=\"load\")\n",
    "    stacks2 = ax2.stackplot(td,Y2,labels=fieldNames, colors = fieldColors,alpha=0.8)\n",
    "    \n",
    "    \n",
    "    stacks1[2].set_hatch(\"-\")\n",
    "    stacks1[4].set_hatch(\"+\")\n",
    "    stacks1[6].set_hatch(\"\\\\\")   \n",
    "    stacks1[7].set_hatch(\"\\\\\") \n",
    "    \n",
    "    stacks2[2].set_hatch(\"-\")\n",
    "    stacks2[4].set_hatch(\"+\")\n",
    "    stacks2[6].set_hatch(\"\\\\\")   \n",
    "    stacks2[7].set_hatch(\"\\\\\") \n",
    "    \n",
    "    ax3=ax1.twinx()\n",
    "    ax3.set_ylim(0, 2)\n",
    "    ax3.plot(td, oper_traj1.Ebatt[1:end-1]/mg1.storage.energy_rated, ls=\"--\",\"C2\",label=\"hourly battery level\")\n",
    "\n",
    "    \n",
    "    \n",
    "    ax4=ax2.twinx()\n",
    "    ax4.set_ylim(0, 2)\n",
    "    ax4.plot(td, oper_traj2.Ebatt[1:end-1]/mg2.storage.energy_rated, ls=\"--\",\"C2\",label=\"hourly battery level\")\n",
    "\n",
    "    \n",
    "           \n",
    "    \n",
    "    ax1.set_title(\"hourly power repartition\")\n",
    "    ax2.set_title(\"hourly power repartition\")\n",
    "    ax1.legend()\n",
    "    ax1.grid(true)\n",
    "    ax1.set(ylabel=\"kW\")\n",
    "    ax2.legend()\n",
    "    ax3.legend()\n",
    "     ax4.legend()\n",
    "    ax2.grid(true)\n",
    "    ax2.set(ylabel=\"kw\")\n",
    "     fig.tight_layout()\n",
    "   \n",
    "     return fig,(ax1, ax2,ax3,ax4)\n",
    "    \n",
    "end\n"
   ]
  },
  {
   "cell_type": "markdown",
   "id": "d7b9e5a5-3de5-4371-afdb-7582fa493404",
   "metadata": {},
   "source": [
    "#### optimization setup"
   ]
  },
  {
   "cell_type": "code",
   "execution_count": 10,
   "id": "3a789b7d-eee8-4047-8bc2-34ad25ab09f0",
   "metadata": {},
   "outputs": [
    {
     "data": {
      "text/plain": [
       "simulate_microgrid"
      ]
     },
     "execution_count": 10,
     "metadata": {},
     "output_type": "execute_result"
    }
   ],
   "source": [
    "\"\"\"Simulate the performance of a Microgrid project of size `x`\n",
    "with x=[power_rated_gen, energy_rated_sto, power_rated_pv, power_rated_wind]\n",
    "\n",
    "Returns mg, traj, stats, costs\n",
    "\"\"\"\n",
    "    function simulate_microgrid(x,capex,dispatch)\n",
    "     mg=new_microgrid(x)\n",
    "    # Split decision variables (converted MW → kW):\n",
    "    oper_traj = operation(mg, dispatch)\n",
    "    ini=[0.0,oper_traj.LoH[end]/mg.tanks.h2Tank.capacity, oper_traj.Ebatt[end]/mg.storage.energy_rated]\n",
    "    mg=new_microgrid(x,capex,ini)\n",
    "    # Launch simulation:\n",
    "    traj, stats, costs = simulate(mg,dispatch)\n",
    "\n",
    "    return  traj ,stats, costs\n",
    "end"
   ]
  },
  {
   "cell_type": "code",
   "execution_count": 11,
   "id": "e695c1ab-4853-461a-8b3f-b6cd12dc3ecd",
   "metadata": {},
   "outputs": [
    {
     "data": {
      "text/plain": [
       "obj_multi"
      ]
     },
     "execution_count": 11,
     "metadata": {},
     "output_type": "execute_result"
    }
   ],
   "source": [
    "\"Multi-objective criterion for microgrid performance: lcoe, shedding rate\"\n",
    "function obj_multi(x,capex,dispatch)\n",
    "    traj,stats, costs = simulate_microgrid(x,capex,dispatch)\n",
    "    # Extract KPIs of interest\n",
    "    lcoe = costs.lcoe # $/kWh\n",
    "    shed_rate = stats.shed_rate; # in [0,1]\n",
    "    return lcoe, shed_rate, costs,traj\n",
    "end"
   ]
  },
  {
   "cell_type": "code",
   "execution_count": 12,
   "id": "31a72ca9-cec2-4325-8758-9b2374847d0b",
   "metadata": {},
   "outputs": [
    {
     "data": {
      "text/plain": [
       "obj (generic function with 2 methods)"
      ]
     },
     "execution_count": 12,
     "metadata": {},
     "output_type": "execute_result"
    }
   ],
   "source": [
    "function obj(x, grad,capex,dispatch, shed_max, w_shed_max=1e5)\n",
    "    lcoe, shed_rate,costs,traj = obj_multi(x,capex,dispatch)\n",
    "    over_shed = shed_rate - shed_max\n",
    "    if over_shed > 0.0\n",
    "        penalty = w_shed_max*over_shed\n",
    "    else\n",
    "        penalty = 0.0\n",
    "    end\n",
    "    J = lcoe + penalty\n",
    "end"
   ]
  },
  {
   "cell_type": "code",
   "execution_count": 13,
   "id": "60c0f843-3bb6-4944-ab52-1a25ef54767d",
   "metadata": {
    "tags": []
   },
   "outputs": [
    {
     "data": {
      "text/plain": [
       "6-element Vector{Float64}:\n",
       " 34.14\n",
       " 17.07\n",
       "  1.8777000000000001\n",
       "  8.535\n",
       "  3.414\n",
       " 25.605"
      ]
     },
     "execution_count": 13,
     "metadata": {},
     "output_type": "execute_result"
    }
   ],
   "source": [
    "Pload_max = maximum(Pload)\n",
    "\n",
    "xmin = [0., 1e-3, 0., 0., 0., 0.] # 1e-3 instead of 0.0, because LCOE is NaN if ther is exactly zero generation\n",
    "x0 = X * (1e-3)\n",
    "xmax = [20.0, 10.0, 1.1, 5., 2. , 15. ] * (Pload_max/1000)"
   ]
  },
  {
   "cell_type": "code",
   "execution_count": 14,
   "id": "8c71df41-6029-4e2d-ada6-bec22e395d7f",
   "metadata": {
    "tags": []
   },
   "outputs": [
    {
     "data": {
      "text/plain": [
       "6-element Vector{Float64}:\n",
       "  5.0\n",
       "  3.0\n",
       "  1.8\n",
       "  2.0\n",
       "  1.8\n",
       " 10.0"
      ]
     },
     "execution_count": 14,
     "metadata": {},
     "output_type": "execute_result"
    }
   ],
   "source": [
    "x0"
   ]
  },
  {
   "cell_type": "code",
   "execution_count": 15,
   "id": "e6507580-4fd7-470f-a392-8477e9d598ef",
   "metadata": {
    "tags": []
   },
   "outputs": [
    {
     "data": {
      "text/plain": [
       "optim_mg"
      ]
     },
     "execution_count": 15,
     "metadata": {},
     "output_type": "execute_result"
    }
   ],
   "source": [
    "\"\"\"Optimize sizing of microgrid based on the `obj` function\n",
    "\n",
    "Parameters:\n",
    "- `x0`: initial sizing (for the algorithms which need them)\n",
    "- `shed_max`: load shedding penalty threshold (same as in `obj`)\n",
    "- `algo` could be one of LN_SBPLX, GN_DIRECT, GN_ESCH...\n",
    "- `maxeval`: maximum allowed number of calls to the objective function,\n",
    "  that is to the microgrid simulation\n",
    "- `xtol_rel`: termination condition based on relative change of sizing, see NLopt doc.\n",
    "- `srand`: random number generation seed (for algorithms which use some stochastic search)\n",
    "\n",
    "Problem bounds are taken as the global variables `xmin`, `xmax`,\n",
    "but could be added to the parameters as well.\n",
    "\"\"\"\n",
    "function optim_mg(x0,capex, shed_max,dispatch, algo=:LN_SBPLX, maxeval=1000, xtol_rel=1e-8, srand=1)\n",
    "    nx = length(x0) # number of optim variables\n",
    "    opt = Opt(algo, nx)\n",
    "    NLopt.srand(srand)\n",
    "    \n",
    "    opt.lower_bounds = xmin\n",
    "    opt.upper_bounds = xmax\n",
    "    opt.min_objective = (x, grad) -> obj(x, grad,capex,dispatch, shed_max)\n",
    "    opt.xtol_rel = xtol_rel\n",
    "    opt.maxeval = maxeval\n",
    "    \n",
    "    (fopt, xopt, ret) = optimize(opt, x0)\n",
    "    return xopt, ret, opt.numevals\n",
    "end"
   ]
  },
  {
   "cell_type": "code",
   "execution_count": 25,
   "id": "8344f0ba-9fdf-47bd-b84a-ef24bb942cf5",
   "metadata": {
    "tags": []
   },
   "outputs": [
    {
     "data": {
      "text/plain": [
       "2-element Vector{Function}:\n",
       " dispatch_1 (generic function with 2 methods)\n",
       " dispatch_2 (generic function with 1 method)"
      ]
     },
     "execution_count": 25,
     "metadata": {},
     "output_type": "execute_result"
    }
   ],
   "source": [
    "capexlist=[capex_def,capex_hi]\n",
    "dispatchlist=[dispatch_1,dispatch_2]"
   ]
  },
  {
   "cell_type": "code",
   "execution_count": 40,
   "id": "626688e2-98e9-438d-9494-d44aecc5621f",
   "metadata": {},
   "outputs": [
    {
     "name": "stdout",
     "output_type": "stream",
     "text": [
      "GN_CRS2_LM algo: XTOL_REACHED after 44902 iterations. \n",
      "x*=[11380.11584, 16425.59372, 1499.74022, 354.72914, 1405.23487, 6377.35589]\n",
      "LCOE*: 0.472324294850319\n",
      "shed*: 0.0\n"
     ]
    }
   ],
   "source": [
    "algo = :GN_CRS2_LM # could be one of GN_CRS2_LM, GN_DIRECT, GN_ESCH, LN_SBPLX...\n",
    "shed_max = 0.00# in [0,1]\n",
    "maxeval=100000\n",
    "xtol_rel=1e-8\n",
    "xopt_base, ret, numevals = optim_mg(x0,capex_def, shed_max,dispatch_1, algo, maxeval,xtol_rel,6)\n",
    "\n",
    "@printf(\"%s algo: %s after %d iterations. \\nx*=\", algo, ret, numevals)\n",
    "println(round.(xopt_base*1000; digits=5)) # kW\n",
    "lcoe_opt, shed_rate_opt,costs,traj_opt = obj_multi(xopt_base,capex_def,dispatch_1)\n",
    "println(\"LCOE*: \", lcoe_opt)\n",
    "println(\"shed*: \", shed_rate_opt)"
   ]
  },
  {
   "cell_type": "code",
   "execution_count": 41,
   "id": "b1afbd7f-1e6c-4743-ac94-05749b3a947e",
   "metadata": {
    "tags": []
   },
   "outputs": [
    {
     "data": {
      "text/plain": [
       "0.13910787752736056"
      ]
     },
     "execution_count": 41,
     "metadata": {},
     "output_type": "execute_result"
    }
   ],
   "source": [
    "traj_opt.LoH[1]/(xopt_base[end]*1000)"
   ]
  },
  {
   "cell_type": "code",
   "execution_count": 42,
   "id": "0c5ad5a7-b088-46cc-981c-32a36013d445",
   "metadata": {
    "tags": []
   },
   "outputs": [
    {
     "data": {
      "text/plain": [
       "0.0"
      ]
     },
     "execution_count": 42,
     "metadata": {},
     "output_type": "execute_result"
    }
   ],
   "source": [
    "traj_opt.Ebatt[end]/(xopt_base[1]*1000)"
   ]
  },
  {
   "cell_type": "code",
   "execution_count": 43,
   "id": "22df5e8a-3293-48b6-8ed7-e00a0b22d866",
   "metadata": {
    "tags": []
   },
   "outputs": [
    {
     "data": {
      "text/plain": [
       "0.13910787752736056"
      ]
     },
     "execution_count": 43,
     "metadata": {},
     "output_type": "execute_result"
    }
   ],
   "source": [
    "traj_opt.LoH[end]/(xopt_base[end]*1000)"
   ]
  },
  {
   "cell_type": "code",
   "execution_count": 44,
   "id": "d4fbf0c6-8179-4027-ba00-8d171523ba0d",
   "metadata": {
    "tags": []
   },
   "outputs": [
    {
     "data": {
      "text/plain": [
       "0.0"
      ]
     },
     "execution_count": 44,
     "metadata": {},
     "output_type": "execute_result"
    }
   ],
   "source": [
    "traj_opt.Ebatt[1]/(xopt_base[1]*1000)"
   ]
  },
  {
   "cell_type": "code",
   "execution_count": 31,
   "id": "5bea2759-0a3f-42d4-a283-fe8da461c192",
   "metadata": {
    "tags": []
   },
   "outputs": [
    {
     "data": {
      "text/plain": [
       "3-element Vector{Float64}:\n",
       " 0.0\n",
       " 0.11191436669910618\n",
       " 3.8487770259517386e-7"
      ]
     },
     "execution_count": 31,
     "metadata": {},
     "output_type": "execute_result"
    }
   ],
   "source": [
    "ini_opt=[0.0,traj_opt.LoH[1]/(xopt_base[end]*1000),traj_opt.Ebatt[end]/(xopt_base[1]*1000)]"
   ]
  },
  {
   "cell_type": "code",
   "execution_count": 45,
   "id": "ef5f3774-8b30-4152-a449-1520c3d574b0",
   "metadata": {
    "tags": []
   },
   "outputs": [
    {
     "data": {
      "text/plain": [
       "Microgrid{Float64}(Project(25, 0.05, 1.0, \"€\"), [1453.0, 1331.0, 1214.0, 1146.0, 1078.0, 1035.0, 1032.0, 1072.0, 1142.0, 1208.0  …  1479.0, 1508.0, 1410.0, 1370.0, 1467.0, 1587.0, 1561.0, 1472.0, 1533.0, 1483.0], DispatchableCompound{Float64}(ProductionUnit{Float64}[ProductionUnit{Float64}(2000.0, 0.0, 0.24, 1.0, 400.0, 0.02, 15000.0, 0.0, 1.0, 1.0, \"L\", \"KWh\")], ProductionUnit{Float64}[ProductionUnit{Float64}(1405.2348706758517, 0.0, 0.0625, 0.0, 1600.0, 10.0, 45000.0, 0.05, 1.0, 1.0, \"Kg\", \"KWh\")]), ProductionUnit{Float64}[ProductionUnit{Float64}(354.7291392005546, 0.0, 56.0, 0.0, 1600.0, 10.0, 45000.0, 0.05, 1.0, 1.0, \"KWh\", \"Kg\")], TankCompound{Float64}(Tank{Float64}(0.0, 0.0, 0.0, 25.0, 0.0, 0.0, 0.0, 1.0, 1.0, 1.0, 1.0), Tank{Float64}(6377.355888656224, 500.0, 0.0025, 25.0, 0.0, 0.11191436669910618, 0.1, 1.0, 14.0, 1.0, 1.0)), Battery{Float64}(11380.115841362738, 350.0, 10.0, 15.0, 3000.0, 1.0, 1.0, 0.05, 0.0, 1.0, 3.8487770259517386e-7, 1.0, 1.0), NonDispatchableSource[Photovoltaic{Float64}(16425.593716119478, [0.0, 0.0, 0.0, 0.0, 0.0, 0.0, 0.0, 0.0, 0.0, 7.000000000000001e-5  …  0.45131, 0.30678, 0.0, 0.0, 0.0, 0.0, 0.0, 0.0, 0.0, 0.0], 1200.0, 20.0, 25.0, 1.0, 1.0, 1.0), WindPower{Float64}(1499.7402169294517, [0.03184904690521816, 0.1104932647748532, 0.24596484619739856, 0.44422012231738006, 0.6554128208926687, 0.8470913237698507, 0.9579413031865969, 0.9735278942424532, 0.9837469734016646, 0.9903667231838823  …  0.011233045262998936, 0.018460507449516883, 0.023644167600765466, 0.02969747711584798, 0.036359043012900244, 0.03713796382151399, 0.037530379586714784, 0.03792477182913709, 0.037530379586714784, 0.03674751985711801], 3500.0, 100.0, 25.0, 1.0, 1.0)])"
      ]
     },
     "execution_count": 45,
     "metadata": {},
     "output_type": "execute_result"
    }
   ],
   "source": [
    " mg=new_microgrid(xopt_base,capex_def,ini_opt)"
   ]
  },
  {
   "cell_type": "code",
   "execution_count": 46,
   "id": "45dae8ba-c879-4fc8-8a0b-a0543efeba13",
   "metadata": {
    "tags": []
   },
   "outputs": [
    {
     "data": {
      "text/plain": [
       "(OperationTraj{Float64}([1215.7186774341255, 0.0, 0.0, 0.0, 0.0, -235.4169256696523, -404.6630978467483, -388.0389352980492, -333.3648992931039, -278.442595827634  …  -354.7291392005545, -354.7291392005545, 1374.5398909533117, 1325.4614992280208, 1412.4708809444858, 1531.3027020820045, 1504.7141803771758, 1415.12269446997, 1476.7141803771758, 1427.8882665978665], [189.5160260512464, 1165.2888071173184, 845.1166282068943, 479.78521739130485, 95.05103381608512, 0.0, 0.0, 0.0, 0.0, 0.0  …  0.0, 0.0, 0.0, 0.0, 0.0, 0.0, 0.0, 0.0, 0.0, 0.0], [47.76529651462817, 165.71119288268167, 368.8833717931057, 666.2147826086951, 982.9489661839149, 1270.4169256696523, 1436.6630978467483, 1460.0389352980492, 1475.364899293104, 1486.442595827634  …  7429.88134976139, 5066.7296056781, 35.46010904668831, 44.53850077197928, 54.52911905551428, 55.69729791799552, 56.28581962282429, 56.877305530030014, 56.28581962282429, 55.111733402133495], [0.0, 0.0, 0.0, 0.0, 0.0, 0.0, 0.0, 0.0, 0.0, 0.0  …  0.0, 0.0, 0.0, 0.0, 0.0, 0.0, 0.0, 0.0, 0.0, 0.0], [1215.7145060504681, 0.0, 0.0, 0.0, 0.0, 0.0, 0.0, 0.0, 0.0, 0.0  …  0.0, 0.0, 0.0, 0.0, 0.0, 0.0, 0.0, 0.0, 0.0, 630.0087318274036], [0.0, 0.0, 0.0, 0.0, 0.0, 0.0, 0.0, 0.0, 0.0, 0.0  …  354.7291392005546, 354.7291392005546, 0.0, 0.0, 0.0, 0.0, 0.0, 0.0, 0.0, 0.0], [0.004379952840290634, 0.0, 0.0, 0.0, 0.0, 0.0, 223.64607938616967, 608.0760223405805, 976.7130108737272, 1293.4096652021758  …  11380.115841362738, 11380.115841362738, 9936.84895586176, 8545.114381672338, 7062.019956680628, 5454.1521194945235, 3874.202230098489, 2388.3234009050207, 837.7735115089861, 0.0], [0.0041713836574196516, 0.0, 0.0, 0.0, 0.0, -235.4169256696523, -404.6630978467483, -388.0389352980492, -333.3648992931039, -278.442595827634  …  -0.0, -0.0, 1374.5398909533117, 1325.4614992280208, 1412.4708809444858, 1531.3027020820045, 1504.7141803771758, 1415.12269446997, 1476.7141803771758, 797.8795347704629], [713.7177454937768, 637.7355888656225, 637.7355888656225, 637.7355888656225, 637.7355888656225, 637.7355888656225, 637.7355888656225, 637.7355888656225, 637.7355888656225, 637.7355888656225  …  920.1815387324988, 926.5159876467944, 926.5159876467944, 926.5159876467944, 926.5159876467944, 926.5159876467944, 926.5159876467944, 926.5159876467944, 926.5159876467944, 887.1404419075817], [0.0, 0.0, 0.0, 0.0, 0.0, 0.0, 0.0, 0.0, 0.0, 0.0  …  0.0, 0.0, 0.0, 0.0, 0.0, 0.0, 0.0, 0.0, 0.0, 0.0], [0.0, 0.0, 0.0, 0.0, 0.0, 0.0, 0.0, 0.0, 0.0, 0.0  …  5596.152210560836, 3204.000466477545, 0.0, 0.0, 0.0, 0.0, 0.0, 0.0, 0.0, 0.0]), OperationStats(6.772204242287417e6, 2774.7577125828493, 1165.2888071173184, 5.0, 5.0, 0.00040955960344420984, 0.0, 0.0, 0.0, 176563.57417849582, 248.0, 11035.223386155989, 11208.646082569907, 1935.0, 627684.1806239148, 451109.7675268932, 123.84657435902882, 1.4798577787098004e6, 1.338918946813584e6, 140938.83627616923, 1.486701273534761e7, 14147.115835461835, 0.6687431012581593, 2.2231276415976662e7, 7.364263680629052e6, 1.0), MicrogridCosts(0.4724769234555348, 4.509653854431366e7, CostFactors(4.509653854431366e7, 3.575745617164069e7, 2.098402024360886e6, 8.596497727275614e6, 0.0, -1.3558173789635287e6), CostFactors(564321.5404244324, 800000.0, 0.0, 563.7577826417898, 0.0, -236242.21735820948), CostFactors(7.110790729470414e6, 3.9830405444769585e6, 1.9159106042829836e6, 1.6039072182333414e6, 0.0, -392067.6375228695), CostFactors[CostFactors(2.434074060533059e7, 1.9710712459343374e7, 0.0, 4.630028145987217e6, 0.0, -0.0), CostFactors(7.362816307340242e6, 5.249090759253081e6, 0.0, 2.1137255480871615e6, 0.0, -0.0)], CostFactors(645019.6739856536, 567566.6227208873, 182491.42007790215, 49995.32823853387, 0.0, -155033.69705166973), CostFactors(1.8739549897463678e6, 2.2483757930813627e6, 0.0, 198053.02369578512, 0.0, -572473.82703078), CostFactors(0.0, 0.0, 0.0, 0.0, 0.0, -0.0), CostFactors(3.198894698015956e6, 3.198669992765025e6, 0.0, 224.70525093164966, 0.0, -0.0)))"
      ]
     },
     "execution_count": 46,
     "metadata": {},
     "output_type": "execute_result"
    }
   ],
   "source": [
    "  traj, stats, costs = simulate(mg,dispatch_1)"
   ]
  },
  {
   "cell_type": "code",
   "execution_count": 37,
   "id": "c6f0de38-f578-4ac7-8397-53c5ae2beb3e",
   "metadata": {
    "tags": []
   },
   "outputs": [],
   "source": [
    "if with_plots\n",
    "    fig1, ax1, ax2= plot_oper_traj(mg,traj)\n",
    "     \n",
    "    pygui(true)\n",
    "   plt.show()\n",
    "   \n",
    "end;"
   ]
  },
  {
   "cell_type": "code",
   "execution_count": 47,
   "id": "8e34ffff-e843-4d1d-9cd8-df925a9870e7",
   "metadata": {
    "tags": []
   },
   "outputs": [
    {
     "data": {
      "text/plain": [
       "PyObject <matplotlib.legend.Legend object at 0x0000023EE29BA860>"
      ]
     },
     "execution_count": 47,
     "metadata": {},
     "output_type": "execute_result"
    }
   ],
   "source": [
    "loh_ini=zeros(Float64,100)\n",
    "loh_end=zeros(Float64,100)\n",
    "for i in 1:100\n",
    "    mg=new_microgrid(xopt_base,capex_def,[0.0,i/(100.0),0.0])\n",
    "    traj, stats, costs = simulate(mg,dispatch_2)\n",
    "    loh_ini[i]=traj.LoH[1]/(xopt_base[end]*1000)\n",
    "    loh_end[i]=traj.LoH[end]/(xopt_base[end]*1000)\n",
    "end\n",
    "fig,ax = plt.subplots()\n",
    "ax.plot(loh_ini,loh_end)\n",
    "ax.plot(loh_ini,loh_ini,label=\"x=x\")\n",
    "ax.set(title=\"niveau d'hydrogène final en fonction du niveau initial\",xlabel=\"initial level\",ylabel=\"final level\")\n",
    "ax.legend()\n",
    "\n"
   ]
  },
  {
   "cell_type": "code",
   "execution_count": 39,
   "id": "2f10eb38-b4d2-436f-904b-aa540d4f30c3",
   "metadata": {
    "tags": []
   },
   "outputs": [
    {
     "data": {
      "text/plain": [
       "100-element Vector{Float64}:\n",
       " 0.11197005651847888\n",
       " 0.11197005651847888\n",
       " 0.11197005651847888\n",
       " 0.11197005651847888\n",
       " 0.11197005651847888\n",
       " 0.11197005651847888\n",
       " 0.11197005651847888\n",
       " 0.11197005651847888\n",
       " 0.11197005651847888\n",
       " 0.11197005651847888\n",
       " 0.11197005651847888\n",
       " 0.11197005651847888\n",
       " 0.11197005651847888\n",
       " ⋮\n",
       " 0.11197005651847888\n",
       " 0.11197005651847888\n",
       " 0.11197005651847888\n",
       " 0.11197005651847888\n",
       " 0.11197005651847888\n",
       " 0.11197005651847888\n",
       " 0.11197005651847888\n",
       " 0.11197005651847888\n",
       " 0.11197005651847888\n",
       " 0.11197005651847888\n",
       " 0.11197005651847888\n",
       " 0.11197005651847888"
      ]
     },
     "execution_count": 39,
     "metadata": {},
     "output_type": "execute_result"
    }
   ],
   "source": [
    "loh_end"
   ]
  },
  {
   "cell_type": "markdown",
   "id": "16ee0cc1-edb4-4e6b-b77d-7e7e1b541ef6",
   "metadata": {},
   "source": [
    "#### Pareto front of simple dispatch strategies"
   ]
  },
  {
   "cell_type": "markdown",
   "id": "6cddca75-5e07-4936-8050-5f6188f4ae56",
   "metadata": {},
   "source": [
    "## Dispatch 1"
   ]
  },
  {
   "cell_type": "code",
   "execution_count": null,
   "id": "2c70b32f-46ef-4761-9126-2b7b8def03ea",
   "metadata": {
    "tags": []
   },
   "outputs": [],
   "source": []
  },
  {
   "cell_type": "code",
   "execution_count": 16,
   "id": "90cab27f-ebc4-4ef5-b0e9-91458d34eb6b",
   "metadata": {
    "tags": []
   },
   "outputs": [
    {
     "data": {
      "text/plain": [
       "17-element Vector{Float64}:\n",
       " 0.0\n",
       " 2.5e-6\n",
       " 5.0e-6\n",
       " 7.5e-6\n",
       " 1.0e-5\n",
       " 1.25e-5\n",
       " 1.5e-5\n",
       " 1.75e-5\n",
       " 2.0e-5\n",
       " 2.25e-5\n",
       " 2.5e-5\n",
       " 2.75e-5\n",
       " 3.0e-5\n",
       " 3.25e-5\n",
       " 3.5e-5\n",
       " 3.75e-5\n",
       " 4.0e-5"
      ]
     },
     "execution_count": 16,
     "metadata": {},
     "output_type": "execute_result"
    }
   ],
   "source": [
    "pareto_shed_1=collect(0.0:0.0000025:0.00004)"
   ]
  },
  {
   "cell_type": "code",
   "execution_count": 17,
   "id": "47331a38-7b65-4925-bf07-62da78e201ef",
   "metadata": {
    "tags": []
   },
   "outputs": [
    {
     "data": {
      "text/plain": [
       "20-element Vector{Float64}:\n",
       " 5.0e-5\n",
       " 0.0001\n",
       " 0.00015\n",
       " 0.0002\n",
       " 0.00025\n",
       " 0.0003\n",
       " 0.00035\n",
       " 0.0004\n",
       " 0.00045\n",
       " 0.0005\n",
       " 0.00055\n",
       " 0.0006\n",
       " 0.00065\n",
       " 0.0007\n",
       " 0.00075\n",
       " 0.0008\n",
       " 0.00085\n",
       " 0.0009\n",
       " 0.00095\n",
       " 0.001"
      ]
     },
     "execution_count": 17,
     "metadata": {},
     "output_type": "execute_result"
    }
   ],
   "source": [
    "pareto_shed_2=collect(0.00005:0.00005:0.001)"
   ]
  },
  {
   "cell_type": "code",
   "execution_count": 18,
   "id": "a783a8a1-44ad-4d35-aafa-fc423eadf04d",
   "metadata": {
    "tags": []
   },
   "outputs": [
    {
     "data": {
      "text/plain": [
       "37-element Vector{Float64}:\n",
       " 0.0\n",
       " 2.5e-6\n",
       " 5.0e-6\n",
       " 7.5e-6\n",
       " 1.0e-5\n",
       " 1.25e-5\n",
       " 1.5e-5\n",
       " 1.75e-5\n",
       " 2.0e-5\n",
       " 2.25e-5\n",
       " 2.5e-5\n",
       " 2.75e-5\n",
       " 3.0e-5\n",
       " ⋮\n",
       " 0.00045\n",
       " 0.0005\n",
       " 0.00055\n",
       " 0.0006\n",
       " 0.00065\n",
       " 0.0007\n",
       " 0.00075\n",
       " 0.0008\n",
       " 0.00085\n",
       " 0.0009\n",
       " 0.00095\n",
       " 0.001"
      ]
     },
     "execution_count": 18,
     "metadata": {},
     "output_type": "execute_result"
    }
   ],
   "source": [
    "pareto_shed_new=[pareto_shed_1;pareto_shed_2]"
   ]
  },
  {
   "cell_type": "code",
   "execution_count": 19,
   "id": "2815e28c-df86-4721-9cd3-57f1b397d2b9",
   "metadata": {
    "tags": []
   },
   "outputs": [
    {
     "name": "stdout",
     "output_type": "stream",
     "text": [
      "GN_CRS2_LM algo: XTOL_REACHED after 27579 iterations. \n",
      "x*=[23347.453054, 16995.434773, 1171.625098, 145.151887, 1069.897236, 3671.421094]\n",
      "GN_CRS2_LM algo: XTOL_REACHED after 23474 iterations. \n",
      "x*=[14479.12082, 12330.740779, 1454.01445, 357.983297, 1398.000414, 6604.40332]\n",
      "GN_CRS2_LM algo: XTOL_REACHED after 43408 iterations. \n",
      "x*=[11292.04383, 12381.74684, 1513.152367, 403.535709, 1404.807522, 7483.875178]\n",
      "GN_CRS2_LM algo: XTOL_REACHED after 36424 iterations. \n",
      "x*=[14368.285183, 12086.645801, 1466.594398, 377.82366, 1397.999828, 6644.018807]\n",
      "GN_CRS2_LM algo: XTOL_REACHED after 27129 iterations. \n",
      "x*=[23288.523592, 13932.486344, 1503.644564, 153.792031, 1148.491, 3589.505247]\n",
      "GN_CRS2_LM algo: XTOL_REACHED after 35784 iterations. \n",
      "x*=[9411.805542, 7854.990826, 1838.971553, 691.517119, 1467.810727, 8330.188014]\n",
      "GN_CRS2_LM algo: XTOL_REACHED after 20457 iterations. \n",
      "x*=[14087.670875, 11110.284058, 1784.509317, 329.459563, 1385.015408, 5878.375851]\n",
      "GN_CRS2_LM algo: XTOL_REACHED after 22029 iterations. \n",
      "x*=[14405.253374, 11813.932567, 1496.122689, 383.340527, 1397.999977, 6584.038891]\n",
      "GN_CRS2_LM algo: XTOL_REACHED after 47439 iterations. \n",
      "x*=[10611.466631, 11232.66635, 1512.622291, 564.376584, 1407.365635, 7994.852876]\n",
      "GN_CRS2_LM algo: XTOL_REACHED after 38529 iterations. \n",
      "x*=[7131.232799, 10966.715354, 1812.920408, 638.289819, 1492.371105, 8242.184069]\n",
      "GN_CRS2_LM algo: XTOL_REACHED after 27793 iterations. \n",
      "x*=[11264.102655, 6639.264557, 1877.7, 760.310972, 1487.403058, 8711.156151]\n",
      "GN_CRS2_LM algo: XTOL_REACHED after 53255 iterations. \n",
      "x*=[8094.484481, 7860.159018, 1821.057204, 805.562698, 1464.654945, 8844.206887]\n",
      "GN_CRS2_LM algo: XTOL_REACHED after 59720 iterations. \n",
      "x*=[9851.84816, 6717.642763, 1877.699976, 788.660908, 1469.781366, 8911.878499]\n",
      "GN_CRS2_LM algo: XTOL_REACHED after 28291 iterations. \n",
      "x*=[9691.559945, 6717.642801, 1877.699995, 795.756824, 1476.270073, 8946.069339]\n",
      "GN_CRS2_LM algo: XTOL_REACHED after 34600 iterations. \n",
      "x*=[10134.563139, 6639.847971, 1871.211462, 798.094289, 1475.43316, 8959.900061]\n",
      "GN_CRS2_LM algo: XTOL_REACHED after 45924 iterations. \n",
      "x*=[9419.558271, 6405.206432, 1877.7, 868.966092, 1487.384934, 9289.30934]\n",
      "GN_CRS2_LM algo: XTOL_REACHED after 91208 iterations. \n",
      "x*=[8600.945503, 6687.8133, 1877.425377, 873.069392, 1477.280538, 9208.912174]\n",
      "GN_CRS2_LM algo: XTOL_REACHED after 64488 iterations. \n",
      "x*=[8044.561869, 6483.919668, 1877.699989, 961.552616, 1487.988272, 9527.776927]\n",
      "GN_CRS2_LM algo: XTOL_REACHED after 37047 iterations. \n",
      "x*=[7756.01255, 5543.964486, 1877.7, 1022.518717, 1489.759176, 11280.19173]\n",
      "GN_CRS2_LM algo: XTOL_REACHED after 20018 iterations. \n",
      "x*=[7433.16685, 5424.047781, 1877.699992, 1024.595648, 1462.097288, 11686.878832]\n",
      "GN_CRS2_LM algo: XTOL_REACHED after 23944 iterations. \n",
      "x*=[6699.602337, 4410.279562, 1876.715621, 967.93892, 1454.402581, 14622.247988]\n",
      "GN_CRS2_LM algo: XTOL_REACHED after 29661 iterations. \n",
      "x*=[6698.183894, 4419.573597, 1877.69999, 998.395432, 1425.187712, 14473.152826]\n",
      "GN_CRS2_LM algo: XTOL_REACHED after 34555 iterations. \n",
      "x*=[5831.249527, 3962.219673, 1877.7, 939.264247, 1428.117955, 16339.083631]\n",
      "GN_CRS2_LM algo: XTOL_REACHED after 26570 iterations. \n",
      "x*=[5832.553034, 3963.289726, 1877.699997, 937.80574, 1403.29558, 16318.477008]\n",
      "GN_CRS2_LM algo: XTOL_REACHED after 19486 iterations. \n",
      "x*=[5440.601761, 3966.690102, 1877.7, 955.149671, 1398.0976, 16504.400391]\n",
      "GN_CRS2_LM algo: XTOL_REACHED after 20077 iterations. \n",
      "x*=[5425.779695, 3968.692118, 1877.7, 955.544439, 1384.652854, 16487.336099]\n",
      "GN_CRS2_LM algo: XTOL_REACHED after 21239 iterations. \n",
      "x*=[5426.769876, 3971.500979, 1877.7, 953.302231, 1365.790773, 16463.057204]\n",
      "GN_CRS2_LM algo: XTOL_REACHED after 16320 iterations. \n",
      "x*=[5427.491355, 3995.177625, 1877.7, 944.750723, 1352.045948, 16413.865385]\n",
      "GN_CRS2_LM algo: XTOL_REACHED after 19664 iterations. \n",
      "x*=[5435.27913, 3973.924764, 1877.7, 950.240831, 1341.432578, 16421.884026]\n",
      "GN_CRS2_LM algo: XTOL_REACHED after 14452 iterations. \n",
      "x*=[5428.648025, 3974.997594, 1877.699994, 949.124293, 1330.01409, 16407.002081]\n",
      "GN_CRS2_LM algo: XTOL_REACHED after 16699 iterations. \n",
      "x*=[5429.31133, 3999.484389, 1877.7, 940.418351, 1317.381037, 16356.813923]\n",
      "GN_CRS2_LM algo: XTOL_REACHED after 23355 iterations. \n",
      "x*=[5213.88283, 3994.23801, 1877.7, 942.980111, 1311.276586, 16502.505703]\n",
      "GN_CRS2_LM algo: XTOL_REACHED after 23601 iterations. \n",
      "x*=[5430.217543, 3975.536951, 1877.7, 945.985404, 1300.122465, 16355.646134]\n",
      "GN_CRS2_LM algo: XTOL_REACHED after 20378 iterations. \n",
      "x*=[5182.995462, 4002.3016, 1877.699994, 937.683782, 1294.698428, 16485.381508]\n",
      "GN_CRS2_LM algo: XTOL_REACHED after 16317 iterations. \n",
      "x*=[5431.090714, 3975.836686, 1877.7, 943.946247, 1283.485224, 16323.922167]\n",
      "GN_CRS2_LM algo: XTOL_REACHED after 23448 iterations. \n",
      "x*=[5431.624254, 4004.956494, 1877.7, 934.622483, 1273.327917, 16267.159026]\n",
      "GN_CRS2_LM algo: XTOL_REACHED after 19040 iterations. \n",
      "x*=[5432.052693, 4005.970452, 1877.7, 932.743124, 1265.16652, 16252.641495]\n"
     ]
    }
   ],
   "source": [
    " algo = :GN_CRS2_LM # could be one of GN_CRS2_LM, GN_DIRECT, GN_ESCH, LN_SBPLX...\n",
    "pareto_lcoe1 = zeros(Float64,37)\n",
    "maxeval=100000\n",
    "for i in eachindex(pareto_shed_new)\n",
    "    xopt, ret, numevals = optim_mg(x0,capex_def, pareto_shed_new[i],dispatch_1, algo, maxeval)\n",
    "    lcoe_opt, shed_rate_opt = obj_multi(xopt,capex_def,dispatch_1)\n",
    "    mg = new_microgrid(xopt) ;\n",
    "     pareto_lcoe1[i]=lcoe_opt\n",
    "     @printf(\"%s algo: %s after %d iterations. \\nx*=\", algo, ret, numevals)\n",
    "println(round.(xopt*1000; digits=6)) # kW\n",
    "end"
   ]
  },
  {
   "cell_type": "code",
   "execution_count": 60,
   "id": "c5028b91-d889-4aa9-a362-c73641e02914",
   "metadata": {
    "tags": []
   },
   "outputs": [
    {
     "data": {
      "text/plain": [
       "37-element Vector{Float64}:\n",
       " 0.5191261655500403\n",
       " 0.4274416512728466\n",
       " 0.4168988491304812\n",
       " 0.42413328106116827\n",
       " 0.4891206964493164\n",
       " 0.36157491950261683\n",
       " 0.4184650491601368\n",
       " 0.42143634282172665\n",
       " 0.39983759213324405\n",
       " 0.3945343534500265\n",
       " 0.359868392102726\n",
       " 0.3575728953788394\n",
       " 0.3535145026153155\n",
       " ⋮\n",
       " 0.33358420913900316\n",
       " 0.33317240505760065\n",
       " 0.33288403545080547\n",
       " 0.33259178476622053\n",
       " 0.3323038865016544\n",
       " 0.3320324002658368\n",
       " 0.33182090244724916\n",
       " 0.3315309115556263\n",
       " 0.3313519234645792\n",
       " 0.3310820186183037\n",
       " 0.33086752538870745\n",
       " 0.3306481155866563"
      ]
     },
     "execution_count": 60,
     "metadata": {},
     "output_type": "execute_result"
    }
   ],
   "source": [
    "pareto_lcoe1"
   ]
  },
  {
   "cell_type": "code",
   "execution_count": 20,
   "id": "46f3150f-27fb-45dc-9489-353b1202b7c5",
   "metadata": {
    "tags": []
   },
   "outputs": [
    {
     "data": {
      "image/png": "[encoded data removed]",
      "text/plain": [
       "Figure(PyObject <Figure size 640x480 with 1 Axes>)"
      ]
     },
     "metadata": {},
     "output_type": "display_data"
    },
    {
     "data": {
      "text/plain": [
       "1-element Vector{PyObject}:\n",
       " PyObject <matplotlib.lines.Line2D object at 0x0000023ED370B9D0>"
      ]
     },
     "execution_count": 20,
     "metadata": {},
     "output_type": "execute_result"
    }
   ],
   "source": [
    "\n",
    "plot(pareto_shed_new, pareto_lcoe1,\"or\")"
   ]
  },
  {
   "cell_type": "markdown",
   "id": "4eda341b-6228-4bff-8be9-943592999959",
   "metadata": {},
   "source": [
    "#### Dispatch 2"
   ]
  },
  {
   "cell_type": "code",
   "execution_count": 21,
   "id": "4f921ae7-214f-42be-861b-24a0d7a81fca",
   "metadata": {
    "tags": []
   },
   "outputs": [
    {
     "data": {
      "text/plain": [
       "21-element Vector{Float64}:\n",
       " 0.0\n",
       " 5.0e-5\n",
       " 0.0001\n",
       " 0.00015\n",
       " 0.0002\n",
       " 0.00025\n",
       " 0.0003\n",
       " 0.00035\n",
       " 0.0004\n",
       " 0.00045\n",
       " 0.0005\n",
       " 0.00055\n",
       " 0.0006\n",
       " 0.00065\n",
       " 0.0007\n",
       " 0.00075\n",
       " 0.0008\n",
       " 0.00085\n",
       " 0.0009\n",
       " 0.00095\n",
       " 0.001"
      ]
     },
     "execution_count": 21,
     "metadata": {},
     "output_type": "execute_result"
    }
   ],
   "source": [
    "pareto_shed=collect(0.0:0.00005:0.001)"
   ]
  },
  {
   "cell_type": "code",
   "execution_count": 22,
   "id": "4b136793-6969-463b-94a9-5dc3706e82e8",
   "metadata": {
    "tags": []
   },
   "outputs": [
    {
     "name": "stdout",
     "output_type": "stream",
     "text": [
      "GN_CRS2_LM algo: XTOL_REACHED after 15658 iterations. \n",
      "x*=[385.10361, 5736.596414, 1877.7, 1824.243216, 1451.582529, 18784.003256]\n",
      "GN_CRS2_LM algo: XTOL_REACHED after 16156 iterations. \n",
      "x*=[283.262884, 5851.085497, 1877.7, 1787.004647, 1433.122784, 18681.967208]\n",
      "GN_CRS2_LM algo: XTOL_REACHED after 30896 iterations. \n",
      "x*=[234.617202, 5718.847261, 1877.7, 1831.120711, 1418.332267, 18770.023747]\n",
      "GN_CRS2_LM algo: XTOL_REACHED after 19427 iterations. \n",
      "x*=[213.034068, 5729.508642, 1877.7, 1827.352604, 1398.602756, 18744.084675]\n",
      "GN_CRS2_LM algo: XTOL_REACHED after 17800 iterations. \n",
      "x*=[207.048184, 5733.970119, 1877.699999, 1825.041847, 1382.46422, 18725.700322]\n",
      "GN_CRS2_LM algo: XTOL_REACHED after 24532 iterations. \n",
      "x*=[207.047483, 5743.432015, 1877.7, 1822.431568, 1365.557753, 18697.878631]\n",
      "GN_CRS2_LM algo: XTOL_REACHED after 19744 iterations. \n",
      "x*=[207.047212, 5745.756866, 1877.7, 1820.428026, 1354.513028, 18677.917241]\n",
      "GN_CRS2_LM algo: XTOL_REACHED after 18188 iterations. \n",
      "x*=[207.047855, 5755.624997, 1877.699999, 1816.554274, 1344.165622, 18651.691569]\n",
      "GN_CRS2_LM algo: XTOL_REACHED after 20687 iterations. \n",
      "x*=[207.048372, 5763.406932, 1877.7, 1813.356553, 1333.835591, 18628.641788]\n",
      "GN_CRS2_LM algo: XTOL_REACHED after 16274 iterations. \n",
      "x*=[207.069742, 5758.648372, 1877.69993, 1814.406736, 1323.943596, 18613.424205]\n",
      "GN_CRS2_LM algo: XTOL_REACHED after 21208 iterations. \n",
      "x*=[204.332353, 5763.237138, 1877.7, 1812.45612, 1313.059678, 18593.573633]\n",
      "GN_CRS2_LM algo: XTOL_REACHED after 18598 iterations. \n",
      "x*=[195.520723, 5766.096522, 1877.7, 1811.087593, 1306.283173, 18576.786285]\n",
      "GN_CRS2_LM algo: XTOL_REACHED after 23352 iterations. \n",
      "x*=[201.723754, 5589.973737, 1877.699999, 1872.408294, 1298.259449, 18709.566988]\n",
      "GN_CRS2_LM algo: XTOL_REACHED after 20915 iterations. \n",
      "x*=[201.867367, 5587.171543, 1877.699997, 1872.408457, 1288.720283, 18699.002137]\n",
      "GN_CRS2_LM algo: XTOL_REACHED after 21158 iterations. \n",
      "x*=[207.047022, 5576.870538, 1877.7, 1875.09313, 1280.250877, 18686.808198]\n",
      "GN_CRS2_LM algo: XTOL_REACHED after 20557 iterations. \n",
      "x*=[207.04718, 5586.65935, 1877.7, 1870.391565, 1272.805158, 18663.79938]\n",
      "GN_CRS2_LM algo: XTOL_REACHED after 26457 iterations. \n",
      "x*=[201.773157, 5589.011838, 1877.7, 1868.661675, 1265.513547, 18649.823463]\n",
      "GN_CRS2_LM algo: XTOL_REACHED after 16320 iterations. \n",
      "x*=[201.078392, 5674.467114, 1877.699998, 1837.465756, 1258.128843, 18560.602928]\n",
      "GN_CRS2_LM algo: XTOL_REACHED after 24210 iterations. \n",
      "x*=[181.771774, 5551.334946, 1877.7, 1881.373862, 1255.118735, 18658.113108]\n",
      "GN_CRS2_LM algo: XTOL_REACHED after 30038 iterations. \n",
      "x*=[201.08262, 5558.494099, 1877.7, 1877.709364, 1245.537604, 18631.73682]\n",
      "GN_CRS2_LM algo: XTOL_REACHED after 18864 iterations. \n",
      "x*=[199.970551, 5623.957623, 1877.7, 1853.322059, 1238.732818, 18557.772978]\n"
     ]
    }
   ],
   "source": [
    " algo = :GN_CRS2_LM # could be one of GN_CRS2_LM, GN_DIRECT, GN_ESCH, LN_SBPLX...\n",
    "pareto_lcoe2 = zeros(Float64,21)\n",
    "maxeval=100000\n",
    "xtol_rel=1e-8\n",
    "srand=6\n",
    "for i in eachindex(pareto_shed)\n",
    "    xopt, ret, numevals = optim_mg(x0,capex_def, pareto_shed[i],dispatch_2, algo, maxeval,xtol_rel,srand)\n",
    "    lcoe_opt, shed_rate_opt,costs = obj_multi(xopt,capex_def,dispatch_2)\n",
    "     pareto_lcoe2[i]=lcoe_opt\n",
    "    @printf(\"%s algo: %s after %d iterations. \\nx*=\", algo, ret, numevals)\n",
    "println(round.(xopt*1000; digits=6)) # kW\n",
    "     \n",
    "end"
   ]
  },
  {
   "cell_type": "code",
   "execution_count": 65,
   "id": "4c5597f2-67ab-4251-85b7-fc0f69a98051",
   "metadata": {
    "tags": []
   },
   "outputs": [
    {
     "data": {
      "text/plain": [
       "21-element Vector{Float64}:\n",
       " 0.39078145064078484\n",
       " 0.3897167595872884\n",
       " 0.3889187421559924\n",
       " 0.3882208773709961\n",
       " 0.3877457126222478\n",
       " 0.3872830140871662\n",
       " 0.3869314617040828\n",
       " 0.3866093997742454\n",
       " 0.3862748492377523\n",
       " 0.3859420172864854\n",
       " 0.3855989821868398\n",
       " 0.3853056534794736\n",
       " 0.3850450309623384\n",
       " 0.38475375716614985\n",
       " 0.38445168894265797\n",
       " 0.3841779167937007\n",
       " 0.38391067889055736\n",
       " 0.3836582968516015\n",
       " 0.38340062329469277\n",
       " 0.38318131724331905\n",
       " 0.3829285732063151"
      ]
     },
     "execution_count": 65,
     "metadata": {},
     "output_type": "execute_result"
    }
   ],
   "source": [
    "pareto_lcoe2"
   ]
  },
  {
   "cell_type": "code",
   "execution_count": 23,
   "id": "6b59a6da-3163-44c3-9d53-b658fbc27e53",
   "metadata": {
    "tags": []
   },
   "outputs": [
    {
     "data": {
      "image/png": "[encoded data removed]",
      "text/plain": [
       "Figure(PyObject <Figure size 640x480 with 1 Axes>)"
      ]
     },
     "metadata": {},
     "output_type": "display_data"
    },
    {
     "data": {
      "text/plain": [
       "1-element Vector{PyObject}:\n",
       " PyObject <matplotlib.lines.Line2D object at 0x0000023ED89144F0>"
      ]
     },
     "execution_count": 23,
     "metadata": {},
     "output_type": "execute_result"
    }
   ],
   "source": [
    "plot(pareto_shed, pareto_lcoe2,\"ob\")"
   ]
  },
  {
   "cell_type": "code",
   "execution_count": 24,
   "id": "545e2ceb-d8c9-41e1-875f-ec52e88eb5e5",
   "metadata": {
    "tags": []
   },
   "outputs": [
    {
     "ename": "LoadError",
     "evalue": "UndefVarError: `mg_hi` not defined",
     "output_type": "error",
     "traceback": [
      "UndefVarError: `mg_hi` not defined",
      "",
      "Stacktrace:",
      " [1] top-level scope",
      "   @ In[24]:2"
     ]
    }
   ],
   "source": [
    "if with_plots\n",
    "    fig,(ax1,ax2,ax3,ax4) = comp_oper_traj(mg_base,mg_hi, traj1,traj2,costs1,costs2)\n",
    "     \n",
    "    \n",
    "end;"
   ]
  },
  {
   "cell_type": "code",
   "execution_count": 52,
   "id": "67910661-b3aa-49e0-83be-ff3fdf8fa7d6",
   "metadata": {
    "tags": []
   },
   "outputs": [
    {
     "data": {
      "text/html": [
       "<div><div style = \"float: left;\"><span>0×17 DataFrame</span></div><div style = \"clear: both;\"></div></div><div class = \"data-frame\" style = \"overflow-x: scroll;\"><table class = \"data-frame\" style = \"margin-bottom: 6px;\"><thead><tr class = \"header\"><th class = \"rowNumber\" style = \"font-weight: bold; text-align: right;\">Row</th><th style = \"text-align: left;\">fc_elyz_capex</th><th style = \"text-align: left;\">shed_max</th><th style = \"text-align: left;\">dispatch</th><th style = \"text-align: left;\">algo</th><th style = \"text-align: left;\">srand</th><th style = \"text-align: left;\">ret</th><th style = \"text-align: left;\">numevals</th><th style = \"text-align: left;\">lcoe_opt</th><th style = \"text-align: left;\">shed_rate_opt</th><th style = \"text-align: left;\">capex</th><th style = \"text-align: left;\">opex</th><th style = \"text-align: left;\">xopt_sto</th><th style = \"text-align: left;\">xopt_pv</th><th style = \"text-align: left;\">xopt_wind</th><th style = \"text-align: left;\">xopt_elyz</th><th style = \"text-align: left;\">xopt_fc</th><th style = \"text-align: left;\">xopt_hyTank</th></tr><tr class = \"subheader headerLastRow\"><th class = \"rowNumber\" style = \"font-weight: bold; text-align: right;\"></th><th title = \"Float64\" style = \"text-align: left;\">Float64</th><th title = \"Float64\" style = \"text-align: left;\">Float64</th><th title = \"Int64\" style = \"text-align: left;\">Int64</th><th title = \"String\" style = \"text-align: left;\">String</th><th title = \"Int64\" style = \"text-align: left;\">Int64</th><th title = \"String\" style = \"text-align: left;\">String</th><th title = \"Int64\" style = \"text-align: left;\">Int64</th><th title = \"Float64\" style = \"text-align: left;\">Float64</th><th title = \"Float64\" style = \"text-align: left;\">Float64</th><th title = \"Float64\" style = \"text-align: left;\">Float64</th><th title = \"Float64\" style = \"text-align: left;\">Float64</th><th title = \"Float64\" style = \"text-align: left;\">Float64</th><th title = \"Float64\" style = \"text-align: left;\">Float64</th><th title = \"Float64\" style = \"text-align: left;\">Float64</th><th title = \"Float64\" style = \"text-align: left;\">Float64</th><th title = \"Float64\" style = \"text-align: left;\">Float64</th><th title = \"Float64\" style = \"text-align: left;\">Float64</th></tr></thead><tbody></tbody></table></div>"
      ],
      "text/latex": [
       "\\begin{tabular}{r|cccccccccc}\n",
       "\t& fc\\_elyz\\_capex & shed\\_max & dispatch & algo & srand & ret & numevals & lcoe\\_opt & shed\\_rate\\_opt & \\\\\n",
       "\t\\hline\n",
       "\t& Float64 & Float64 & Int64 & String & Int64 & String & Int64 & Float64 & Float64 & \\\\\n",
       "\t\\hline\n",
       "\\end{tabular}\n"
      ],
      "text/plain": [
       "\u001b[1m0×17 DataFrame\u001b[0m\n",
       "\u001b[1m Row \u001b[0m│\u001b[1m fc_elyz_capex \u001b[0m\u001b[1m shed_max \u001b[0m\u001b[1m dispatch \u001b[0m\u001b[1m algo   \u001b[0m\u001b[1m srand \u001b[0m\u001b[1m ret    \u001b[0m\u001b[1m numevals \u001b[0m\u001b[1m lco\u001b[0m ⋯\n",
       "     │\u001b[90m Float64       \u001b[0m\u001b[90m Float64  \u001b[0m\u001b[90m Int64    \u001b[0m\u001b[90m String \u001b[0m\u001b[90m Int64 \u001b[0m\u001b[90m String \u001b[0m\u001b[90m Int64    \u001b[0m\u001b[90m Flo\u001b[0m ⋯\n",
       "─────┴──────────────────────────────────────────────────────────────────────────\n",
       "\u001b[36m                                                              10 columns omitted\u001b[0m"
      ]
     },
     "execution_count": 52,
     "metadata": {},
     "output_type": "execute_result"
    }
   ],
   "source": [
    "df2 = DataFrame(  fc_elyz_capex=Float64[],shed_max=Float64[],dispatch=Int64[],algo=String[],\n",
    "     srand=Int[], ret=String[],numevals=Int64[],\n",
    "     lcoe_opt=Float64[], shed_rate_opt=Float64[], capex=Float64[],opex=Float64[],\n",
    "    xopt_sto=Float64[], xopt_pv=Float64[], xopt_wind=Float64[] ,xopt_elyz=Float64[],  \n",
    "    xopt_fc=Float64[],  xopt_hyTank=Float64[]\n",
    ")"
   ]
  },
  {
   "cell_type": "code",
   "execution_count": null,
   "id": "b9f5dbe3-4795-4411-8ecc-06443e479ff9",
   "metadata": {},
   "outputs": [],
   "source": []
  },
  {
   "cell_type": "code",
   "execution_count": 53,
   "id": "afb25a12-2269-4c22-9f7a-3ae5680bb956",
   "metadata": {
    "tags": []
   },
   "outputs": [
    {
     "data": {
      "text/plain": [
       "6×4 Matrix{Float64}:\n",
       " 28.1193    28.1193    8.05818    12.5224\n",
       " 15.5399    15.5399    5.9157      8.94308\n",
       "  0.309005   0.309005  0.58717     0.394798\n",
       "  1.5135     1.5135    0.0675057   6.99305\n",
       "  0.952097   0.952097  1.66812     1.71168\n",
       "  5.21002    5.21002   5.40184    14.3223"
      ]
     },
     "execution_count": 53,
     "metadata": {},
     "output_type": "execute_result"
    }
   ],
   "source": [
    "\"\"\"uniformly random vector between xmin and xmax, for a given PRNG seed\"\"\"\n",
    "function x0_rng(seed, xmin, xmax)\n",
    "    n = length(xmin)\n",
    "    rng = MersenneTwister(seed)\n",
    "    xmin + rand(rng, n).*(xmax-xmin)\n",
    "end\n",
    "# Test with 3 different seeds:\n",
    "[x0_rng(0, xmin, xmax) x0_rng(0, xmin, xmax) x0_rng(1, xmin, xmax) x0_rng(2, xmin, xmax)]\n",
    "     "
   ]
  },
  {
   "cell_type": "code",
   "execution_count": 49,
   "id": "55334e07-879f-4379-9867-eab2499d35b2",
   "metadata": {
    "tags": []
   },
   "outputs": [
    {
     "data": {
      "text/plain": [
       "5-element Vector{Float64}:\n",
       " 0.0\n",
       " 1.0e-5\n",
       " 0.0001\n",
       " 0.001\n",
       " 0.01"
      ]
     },
     "execution_count": 49,
     "metadata": {},
     "output_type": "execute_result"
    }
   ],
   "source": [
    "nrand = 10\n",
    "srand_list = collect(1:nrand)\n",
    "algo_list = [:GN_CRS2_LM, :GN_ISRES, :LN_SBPLX]\n",
    "shed_max_list = [0.,0.00001,0.0001, 0.001, 0.01]"
   ]
  },
  {
   "cell_type": "code",
   "execution_count": 50,
   "id": "b7019192-4f8c-453e-8773-84baeb0ef5ad",
   "metadata": {
    "tags": []
   },
   "outputs": [
    {
     "data": {
      "text/plain": [
       "6-element Vector{Float64}:\n",
       " 8.058178420902282\n",
       " 5.915698915242573\n",
       " 0.587169874444634\n",
       " 0.06750573373843591\n",
       " 1.668124201891417\n",
       " 5.4018408162693134"
      ]
     },
     "execution_count": 50,
     "metadata": {},
     "output_type": "execute_result"
    }
   ],
   "source": [
    " x0 = x0_rng(1, xmin, xmax)"
   ]
  },
  {
   "cell_type": "code",
   "execution_count": 51,
   "id": "5dc551bc-c188-46f3-9b17-999e1eefdba8",
   "metadata": {
    "tags": []
   },
   "outputs": [
    {
     "data": {
      "text/plain": [
       "2-element Vector{Vector{Float64}}:\n",
       " [400.0, 0.0, 1600.0, 500.0, 1600.0, 350.0, 1200.0, 3500.0]\n",
       " [400.0, 0.0, 2200.0, 500.0, 2200.0, 350.0, 1200.0, 3500.0]"
      ]
     },
     "execution_count": 51,
     "metadata": {},
     "output_type": "execute_result"
    }
   ],
   "source": [
    "capexlist"
   ]
  },
  {
   "cell_type": "code",
   "execution_count": 54,
   "id": "3cfcf179-78f9-46be-8198-70b9b4200fba",
   "metadata": {},
   "outputs": [
    {
     "name": "stdout",
     "output_type": "stream",
     "text": [
      " 1,  GN_CRS2_LM algo: XTOL_REACHED after 21888 iterations. 2,  GN_CRS2_LM algo: XTOL_REACHED after 23035 iterations. 3,  GN_CRS2_LM algo: XTOL_REACHED after 20841 iterations. 4,  GN_CRS2_LM algo: XTOL_REACHED after 33104 iterations. 5,  GN_CRS2_LM algo: XTOL_REACHED after 19458 iterations. 6,  GN_CRS2_LM algo: XTOL_REACHED after 34149 iterations. 7,  GN_CRS2_LM algo: XTOL_REACHED after 13242 iterations. 8,  GN_CRS2_LM algo: XTOL_REACHED after 13759 iterations. 9,  GN_CRS2_LM algo: XTOL_REACHED after 15504 iterations. 10,  GN_CRS2_LM algo: XTOL_REACHED after 17949 iterations. 11,  GN_ISRES algo: MAXEVAL_REACHED after 100000 iterations. 12,  GN_ISRES algo: XTOL_REACHED after 66964 iterations. 13,  GN_ISRES algo: XTOL_REACHED after 72958 iterations. 14,  GN_ISRES algo: MAXEVAL_REACHED after 100000 iterations. 15,  GN_ISRES algo: MAXEVAL_REACHED after 100000 iterations. 16,  GN_ISRES algo: XTOL_REACHED after 67785 iterations. 17,  GN_ISRES algo: MAXEVAL_REACHED after 100000 iterations. 18,  GN_ISRES algo: MAXEVAL_REACHED after 100000 iterations. 19,  GN_ISRES algo: XTOL_REACHED after 68181 iterations. 20,  GN_ISRES algo: XTOL_REACHED after 73784 iterations. 21,  LN_SBPLX algo: XTOL_REACHED after 863 iterations. 22,  LN_SBPLX algo: XTOL_REACHED after 1757 iterations. 23,  LN_SBPLX algo: XTOL_REACHED after 1019 iterations. 24,  LN_SBPLX algo: XTOL_REACHED after 1007 iterations. 25,  LN_SBPLX algo: XTOL_REACHED after 1199 iterations. 26,  LN_SBPLX algo: XTOL_REACHED after 1941 iterations. 27,  LN_SBPLX algo: XTOL_REACHED after 1247 iterations. 28,  LN_SBPLX algo: XTOL_REACHED after 1383 iterations. 29,  LN_SBPLX algo: XTOL_REACHED after 1706 iterations. 30,  LN_SBPLX algo: XTOL_REACHED after 1086 iterations. 31,  GN_CRS2_LM algo: XTOL_REACHED after 15356 iterations. 32,  GN_CRS2_LM algo: XTOL_REACHED after 16166 iterations. 33,  GN_CRS2_LM algo: XTOL_REACHED after 15653 iterations. 34,  GN_CRS2_LM algo: XTOL_REACHED after 14559 iterations. 35,  GN_CRS2_LM algo: XTOL_REACHED after 15257 iterations. 36,  GN_CRS2_LM algo: XTOL_REACHED after 18828 iterations. 37,  GN_CRS2_LM algo: XTOL_REACHED after 22965 iterations. 38,  GN_CRS2_LM algo: XTOL_REACHED after 14908 iterations. 39,  GN_CRS2_LM algo: XTOL_REACHED after 16116 iterations. 40,  GN_CRS2_LM algo: XTOL_REACHED after 14225 iterations. 41,  GN_ISRES algo: XTOL_REACHED after 69022 iterations. 42,  GN_ISRES algo: XTOL_REACHED after 69871 iterations. 43,  GN_ISRES algo: XTOL_REACHED after 65848 iterations. 44,  GN_ISRES algo: XTOL_REACHED after 65225 iterations. 45,  GN_ISRES algo: XTOL_REACHED after 64431 iterations. 46,  GN_ISRES algo: XTOL_REACHED after 68925 iterations. 47,  GN_ISRES algo: XTOL_REACHED after 63912 iterations. 48,  GN_ISRES algo: XTOL_REACHED after 62425 iterations. 49,  GN_ISRES algo: XTOL_REACHED after 66683 iterations. 50,  GN_ISRES algo: XTOL_REACHED after 67153 iterations. 51,  LN_SBPLX algo: XTOL_REACHED after 495 iterations. 52,  LN_SBPLX algo: XTOL_REACHED after 2583 iterations. 53,  LN_SBPLX algo: XTOL_REACHED after 790 iterations. 54,  LN_SBPLX algo: XTOL_REACHED after 1682 iterations. 55,  LN_SBPLX algo: XTOL_REACHED after 1009 iterations. 56,  LN_SBPLX algo: XTOL_REACHED after 518 iterations. 57,  LN_SBPLX algo: XTOL_REACHED after 402 iterations. 58,  LN_SBPLX algo: XTOL_REACHED after 2070 iterations. 59,  LN_SBPLX algo: XTOL_REACHED after 1617 iterations. 60,  LN_SBPLX algo: XTOL_REACHED after 694 iterations. 61,  GN_CRS2_LM algo: XTOL_REACHED after 27534 iterations. 62,  GN_CRS2_LM algo: XTOL_REACHED after 33577 iterations. 63,  GN_CRS2_LM algo: XTOL_REACHED after 52262 iterations. 64,  GN_CRS2_LM algo: XTOL_REACHED after 27103 iterations. 65,  GN_CRS2_LM algo: XTOL_REACHED after 26649 iterations. 66,  GN_CRS2_LM algo: XTOL_REACHED after 31949 iterations. 67,  GN_CRS2_LM algo: XTOL_REACHED after 22780 iterations. 68,  GN_CRS2_LM algo: XTOL_REACHED after 55790 iterations. 69,  GN_CRS2_LM algo: XTOL_REACHED after 35955 iterations. 70,  GN_CRS2_LM algo: XTOL_REACHED after 20555 iterations. 71,  GN_ISRES algo: XTOL_REACHED after 73502 iterations. 72,  GN_ISRES algo: XTOL_REACHED after 70926 iterations. 73,  GN_ISRES algo: MAXEVAL_REACHED after 100000 iterations. 74,  GN_ISRES algo: XTOL_REACHED after 69016 iterations. 75,  GN_ISRES algo: XTOL_REACHED after 74690 iterations. 76,  GN_ISRES algo: XTOL_REACHED after 71783 iterations. 77,  GN_ISRES algo: MAXEVAL_REACHED after 100000 iterations. 78,  GN_ISRES algo: XTOL_REACHED after 71600 iterations. 79,  GN_ISRES algo: MAXEVAL_REACHED after 100000 iterations. 80,  GN_ISRES algo: XTOL_REACHED after 70274 iterations. 81,  LN_SBPLX algo: XTOL_REACHED after 705 iterations. 82,  LN_SBPLX algo: XTOL_REACHED after 766 iterations. 83,  LN_SBPLX algo: XTOL_REACHED after 859 iterations. 84,  LN_SBPLX algo: XTOL_REACHED after 836 iterations. 85,  LN_SBPLX algo: XTOL_REACHED after 898 iterations. 86,  LN_SBPLX algo: XTOL_REACHED after 496 iterations. 87,  LN_SBPLX algo: XTOL_REACHED after 1241 iterations. 88,  LN_SBPLX algo: XTOL_REACHED after 1173 iterations. 89,  LN_SBPLX algo: XTOL_REACHED after 2103 iterations. 90,  LN_SBPLX algo: XTOL_REACHED after 1223 iterations. 91,  GN_CRS2_LM algo: XTOL_REACHED after 16955 iterations. 92,  GN_CRS2_LM algo: XTOL_REACHED after 17990 iterations. 93,  GN_CRS2_LM algo: XTOL_REACHED after 22652 iterations. 94,  GN_CRS2_LM algo: XTOL_REACHED after 16653 iterations. 95,  GN_CRS2_LM algo: XTOL_REACHED after 18456 iterations. 96,  GN_CRS2_LM algo: XTOL_REACHED after 17265 iterations. 97,  GN_CRS2_LM algo: XTOL_REACHED after 15905 iterations. 98,  GN_CRS2_LM algo: XTOL_REACHED after 16731 iterations. 99,  GN_CRS2_LM algo: XTOL_REACHED after 19484 iterations. 100,  GN_CRS2_LM algo: XTOL_REACHED after 14744 iterations. 101,  GN_ISRES algo: XTOL_REACHED after 68648 iterations. 102,  GN_ISRES algo: XTOL_REACHED after 65245 iterations. 103,  GN_ISRES algo: XTOL_REACHED after 75041 iterations. 104,  GN_ISRES algo: XTOL_REACHED after 69922 iterations. 105,  GN_ISRES algo: XTOL_REACHED after 72519 iterations. 106,  GN_ISRES algo: XTOL_REACHED after 88361 iterations. 107,  GN_ISRES algo: XTOL_REACHED after 70582 iterations. 108,  GN_ISRES algo: XTOL_REACHED after 70321 iterations. 109,  GN_ISRES algo: XTOL_REACHED after 67986 iterations. 110,  GN_ISRES algo: XTOL_REACHED after 72993 iterations. 111,  LN_SBPLX algo: XTOL_REACHED after 495 iterations. 112,  LN_SBPLX algo: XTOL_REACHED after 1085 iterations. 113,  LN_SBPLX algo: XTOL_REACHED after 791 iterations. 114,  LN_SBPLX algo: XTOL_REACHED after 1449 iterations. 115,  LN_SBPLX algo: XTOL_REACHED after 671 iterations. 116,  LN_SBPLX algo: XTOL_REACHED after 518 iterations. 117,  LN_SBPLX algo: XTOL_REACHED after 1214 iterations. 118,  LN_SBPLX algo: XTOL_REACHED after 1540 iterations. 119,  LN_SBPLX algo: XTOL_REACHED after 2885 iterations. 120,  LN_SBPLX algo: XTOL_REACHED after 1515 iterations. 121,  GN_CRS2_LM algo: XTOL_REACHED after 27045 iterations. 122,  GN_CRS2_LM algo: XTOL_REACHED after 18078 iterations. 123,  GN_CRS2_LM algo: XTOL_REACHED after 53169 iterations. 124,  GN_CRS2_LM algo: XTOL_REACHED after 17783 iterations. 125,  GN_CRS2_LM algo: XTOL_REACHED after 25340 iterations. 126,  GN_CRS2_LM algo: XTOL_REACHED after 50245 iterations. 127,  GN_CRS2_LM algo: XTOL_REACHED after 24327 iterations. 128,  GN_CRS2_LM algo: XTOL_REACHED after 40327 iterations. 129,  GN_CRS2_LM algo: XTOL_REACHED after 25819 iterations. 130,  GN_CRS2_LM algo: XTOL_REACHED after 22809 iterations. 131,  GN_ISRES algo: XTOL_REACHED after 68260 iterations. 132,  GN_ISRES algo: XTOL_REACHED after 70554 iterations. 133,  GN_ISRES algo: XTOL_REACHED after 69795 iterations. 134,  GN_ISRES algo: XTOL_REACHED after 78437 iterations. 135,  GN_ISRES algo: XTOL_REACHED after 69303 iterations. 136,  GN_ISRES algo: XTOL_REACHED after 70090 iterations. 137,  GN_ISRES algo: XTOL_REACHED after 71151 iterations. 138,  GN_ISRES algo: XTOL_REACHED after 73061 iterations. 139,  GN_ISRES algo: XTOL_REACHED after 65846 iterations. 140,  GN_ISRES algo: XTOL_REACHED after 69739 iterations. 141,  LN_SBPLX algo: XTOL_REACHED after 1196 iterations. 142,  LN_SBPLX algo: XTOL_REACHED after 1254 iterations. 143,  LN_SBPLX algo: XTOL_REACHED after 981 iterations. 144,  LN_SBPLX algo: XTOL_REACHED after 1088 iterations. 145,  LN_SBPLX algo: XTOL_REACHED after 1541 iterations. 146,  LN_SBPLX algo: XTOL_REACHED after 2116 iterations. 147,  LN_SBPLX algo: XTOL_REACHED after 1274 iterations. 148,  LN_SBPLX algo: XTOL_REACHED after 967 iterations. 149,  LN_SBPLX algo: XTOL_REACHED after 1285 iterations. 150,  LN_SBPLX algo: XTOL_REACHED after 721 iterations. 151,  GN_CRS2_LM algo: XTOL_REACHED after 23526 iterations. 152,  GN_CRS2_LM algo: XTOL_REACHED after 23743 iterations. 153,  GN_CRS2_LM algo: XTOL_REACHED after 26097 iterations. 154,  GN_CRS2_LM algo: XTOL_REACHED after 28478 iterations. 155,  GN_CRS2_LM algo: XTOL_REACHED after 27480 iterations. 156,  GN_CRS2_LM algo: XTOL_REACHED after 42015 iterations. 157,  GN_CRS2_LM algo: XTOL_REACHED after 28229 iterations. 158,  GN_CRS2_LM algo: XTOL_REACHED after 26720 iterations. 159,  GN_CRS2_LM algo: XTOL_REACHED after 22279 iterations. 160,  GN_CRS2_LM algo: XTOL_REACHED after 41152 iterations. 161,  GN_ISRES algo: XTOL_REACHED after 75301 iterations. 162,  GN_ISRES algo: XTOL_REACHED after 64747 iterations. 163,  GN_ISRES algo: XTOL_REACHED after 65022 iterations. 164,  GN_ISRES algo: XTOL_REACHED after 63800 iterations. 165,  GN_ISRES algo: XTOL_REACHED after 71515 iterations. 166,  GN_ISRES algo: XTOL_REACHED after 70722 iterations. 167,  GN_ISRES algo: XTOL_REACHED after 67666 iterations. 168,  GN_ISRES algo: XTOL_REACHED after 70520 iterations. 169,  GN_ISRES algo: XTOL_REACHED after 74930 iterations. 170,  GN_ISRES algo: XTOL_REACHED after 63631 iterations. 171,  LN_SBPLX algo: XTOL_REACHED after 495 iterations. 172,  LN_SBPLX algo: XTOL_REACHED after 2043 iterations. 173,  LN_SBPLX algo: XTOL_REACHED after 907 iterations. 174,  LN_SBPLX algo: XTOL_REACHED after 1656 iterations. 175,  LN_SBPLX algo: XTOL_REACHED after 1460 iterations. 176,  LN_SBPLX algo: XTOL_REACHED after 518 iterations. 177,  LN_SBPLX algo: XTOL_REACHED after 408 iterations. 178,  LN_SBPLX algo: XTOL_REACHED after 1114 iterations. 179,  LN_SBPLX algo: XTOL_REACHED after 1941 iterations. 180,  LN_SBPLX algo: XTOL_REACHED after 734 iterations. 181,  GN_CRS2_LM algo: XTOL_REACHED after 16538 iterations. 182,  GN_CRS2_LM algo: XTOL_REACHED after 23842 iterations. 183,  GN_CRS2_LM algo: XTOL_REACHED after 14490 iterations. 184,  GN_CRS2_LM algo: XTOL_REACHED after 20208 iterations. 185,  GN_CRS2_LM algo: XTOL_REACHED after 28194 iterations. 186,  GN_CRS2_LM algo: XTOL_REACHED after 22852 iterations. 187,  GN_CRS2_LM algo: XTOL_REACHED after 19966 iterations. 188,  GN_CRS2_LM algo: XTOL_REACHED after 20662 iterations. 189,  GN_CRS2_LM algo: XTOL_REACHED after 20560 iterations. 190,  GN_CRS2_LM algo: XTOL_REACHED after 19650 iterations. 191,  GN_ISRES algo: XTOL_REACHED after 64851 iterations. 192,  GN_ISRES algo: XTOL_REACHED after 66709 iterations. 193,  GN_ISRES algo: XTOL_REACHED after 73943 iterations. 194,  GN_ISRES algo: XTOL_REACHED after 68454 iterations. 195,  GN_ISRES algo: XTOL_REACHED after 75000 iterations. 196,  GN_ISRES algo: XTOL_REACHED after 60686 iterations. 197,  GN_ISRES algo: XTOL_REACHED after 72941 iterations. 198,  GN_ISRES algo: XTOL_REACHED after 75061 iterations. 199,  GN_ISRES algo: XTOL_REACHED after 73249 iterations. 200,  GN_ISRES algo: XTOL_REACHED after 70289 iterations. 201,  LN_SBPLX algo: XTOL_REACHED after 1781 iterations. 202,  LN_SBPLX algo: XTOL_REACHED after 2292 iterations. 203,  LN_SBPLX algo: XTOL_REACHED after 921 iterations. 204,  LN_SBPLX algo: XTOL_REACHED after 858 iterations. 205,  LN_SBPLX algo: XTOL_REACHED after 1450 iterations. 206,  LN_SBPLX algo: XTOL_REACHED after 837 iterations. 207,  LN_SBPLX algo: XTOL_REACHED after 1961 iterations. 208,  LN_SBPLX algo: XTOL_REACHED after 2656 iterations. 209,  LN_SBPLX algo: XTOL_REACHED after 2038 iterations. 210,  LN_SBPLX algo: XTOL_REACHED after 773 iterations. 211,  GN_CRS2_LM algo: XTOL_REACHED after 23358 iterations. 212,  GN_CRS2_LM algo: XTOL_REACHED after 20003 iterations. 213,  GN_CRS2_LM algo: XTOL_REACHED after 18591 iterations. 214,  GN_CRS2_LM algo: XTOL_REACHED after 24654 iterations. 215,  GN_CRS2_LM algo: XTOL_REACHED after 21259 iterations. 216,  GN_CRS2_LM algo: XTOL_REACHED after 24244 iterations. 217,  GN_CRS2_LM algo: XTOL_REACHED after 19315 iterations. 218,  GN_CRS2_LM algo: XTOL_REACHED after 24602 iterations. 219,  GN_CRS2_LM algo: XTOL_REACHED after 19726 iterations. 220,  GN_CRS2_LM algo: XTOL_REACHED after 22409 iterations. 221,  GN_ISRES algo: XTOL_REACHED after 65438 iterations. 222,  GN_ISRES algo: XTOL_REACHED after 69035 iterations. 223,  GN_ISRES algo: MAXEVAL_REACHED after 100000 iterations. 224,  GN_ISRES algo: XTOL_REACHED after 61265 iterations. 225,  GN_ISRES algo: XTOL_REACHED after 64950 iterations. 226,  GN_ISRES algo: XTOL_REACHED after 68113 iterations. 227,  GN_ISRES algo: XTOL_REACHED after 70704 iterations. 228,  GN_ISRES algo: XTOL_REACHED after 67190 iterations. 229,  GN_ISRES algo: XTOL_REACHED after 61612 iterations. 230,  GN_ISRES algo: XTOL_REACHED after 73379 iterations. 231,  LN_SBPLX algo: XTOL_REACHED after 510 iterations. 232,  LN_SBPLX algo: XTOL_REACHED after 1710 iterations. 233,  LN_SBPLX algo: XTOL_REACHED after 727 iterations. 234,  LN_SBPLX algo: XTOL_REACHED after 1886 iterations. 235,  LN_SBPLX algo: XTOL_REACHED after 1323 iterations. 236,  LN_SBPLX algo: XTOL_REACHED after 515 iterations. 237,  LN_SBPLX algo: XTOL_REACHED after 6116 iterations. 238,  LN_SBPLX algo: XTOL_REACHED after 1166 iterations. 239,  LN_SBPLX algo: XTOL_REACHED after 1617 iterations. 240,  LN_SBPLX algo: XTOL_REACHED after 607 iterations. 241,  GN_CRS2_LM algo: XTOL_REACHED after 24710 iterations. 242,  GN_CRS2_LM algo: XTOL_REACHED after 31916 iterations. 243,  GN_CRS2_LM algo: XTOL_REACHED after 26202 iterations. 244,  GN_CRS2_LM algo: XTOL_REACHED after 24525 iterations. 245,  GN_CRS2_LM algo: XTOL_REACHED after 29903 iterations. 246,  GN_CRS2_LM algo: XTOL_REACHED after 20729 iterations. 247,  GN_CRS2_LM algo: XTOL_REACHED after 24564 iterations. 248,  GN_CRS2_LM algo: XTOL_REACHED after 23860 iterations. 249,  GN_CRS2_LM algo: XTOL_REACHED after 21809 iterations. 250,  GN_CRS2_LM algo: XTOL_REACHED after 22572 iterations. 251,  GN_ISRES algo: XTOL_REACHED after 96515 iterations. 252,  GN_ISRES algo: XTOL_REACHED after 78342 iterations. 253,  GN_ISRES algo: XTOL_REACHED after 80328 iterations. 254,  GN_ISRES algo: XTOL_REACHED after 87769 iterations. 255,  GN_ISRES algo: XTOL_REACHED after 79259 iterations. 256,  GN_ISRES algo: XTOL_REACHED after 77745 iterations. 257,  GN_ISRES algo: XTOL_REACHED after 80064 iterations. 258,  GN_ISRES algo: XTOL_REACHED after 76440 iterations. 259,  GN_ISRES algo: XTOL_REACHED after 81831 iterations. 260,  GN_ISRES algo: XTOL_REACHED after 78199 iterations. 261,  LN_SBPLX algo: XTOL_REACHED after 3840 iterations. 262,  LN_SBPLX algo: XTOL_REACHED after 1602 iterations. 263,  LN_SBPLX algo: XTOL_REACHED after 1093 iterations. 264,  LN_SBPLX algo: XTOL_REACHED after 2075 iterations. 265,  LN_SBPLX algo: XTOL_REACHED after 2850 iterations. 266,  LN_SBPLX algo: XTOL_REACHED after 1153 iterations. 267,  LN_SBPLX algo: XTOL_REACHED after 3279 iterations. 268,  LN_SBPLX algo: XTOL_REACHED after 668 iterations. 269,  LN_SBPLX algo: XTOL_REACHED after 4280 iterations. 270,  LN_SBPLX algo: XTOL_REACHED after 2148 iterations. 271,  GN_CRS2_LM algo: XTOL_REACHED after 40941 iterations. 272,  GN_CRS2_LM algo: XTOL_REACHED after 24908 iterations. 273,  GN_CRS2_LM algo: XTOL_REACHED after 26502 iterations. 274,  GN_CRS2_LM algo: XTOL_REACHED after 31417 iterations. 275,  GN_CRS2_LM algo: XTOL_REACHED after 23586 iterations. 276,  GN_CRS2_LM algo: XTOL_REACHED after 24466 iterations. 277,  GN_CRS2_LM algo: XTOL_REACHED after 21057 iterations. 278,  GN_CRS2_LM algo: XTOL_REACHED after 33134 iterations. 279,  GN_CRS2_LM algo: XTOL_REACHED after 23282 iterations. 280,  GN_CRS2_LM algo: XTOL_REACHED after 21436 iterations. 281,  GN_ISRES algo: XTOL_REACHED after 72081 iterations. 282,  GN_ISRES algo: XTOL_REACHED after 68744 iterations. 283,  GN_ISRES algo: XTOL_REACHED after 70963 iterations. 284,  GN_ISRES algo: XTOL_REACHED after 72601 iterations. 285,  GN_ISRES algo: XTOL_REACHED after 69032 iterations. 286,  GN_ISRES algo: XTOL_REACHED after 84002 iterations. 287,  GN_ISRES algo: XTOL_REACHED after 72183 iterations. 288,  GN_ISRES algo: XTOL_REACHED after 66216 iterations. 289,  GN_ISRES algo: XTOL_REACHED after 78353 iterations. 290,  GN_ISRES algo: XTOL_REACHED after 70123 iterations. 291,  LN_SBPLX algo: XTOL_REACHED after 1719 iterations. 292,  LN_SBPLX algo: XTOL_REACHED after 1319 iterations. 293,  LN_SBPLX algo: XTOL_REACHED after 1548 iterations. 294,  LN_SBPLX algo: XTOL_REACHED after 1991 iterations. 295,  LN_SBPLX algo: XTOL_REACHED after 1492 iterations. 296,  LN_SBPLX algo: XTOL_REACHED after 1098 iterations. 297,  LN_SBPLX algo: XTOL_REACHED after 2402 iterations. 298,  LN_SBPLX algo: XTOL_REACHED after 949 iterations. 299,  LN_SBPLX algo: XTOL_REACHED after 1252 iterations. 300,  LN_SBPLX algo: XTOL_REACHED after 1400 iterations. 301,  GN_CRS2_LM algo: XTOL_REACHED after 22606 iterations. 302,  GN_CRS2_LM algo: XTOL_REACHED after 26310 iterations. 303,  GN_CRS2_LM algo: XTOL_REACHED after 38425 iterations. 304,  GN_CRS2_LM algo: XTOL_REACHED after 21306 iterations. 305,  GN_CRS2_LM algo: XTOL_REACHED after 24840 iterations. 306,  GN_CRS2_LM algo: XTOL_REACHED after 41424 iterations. 307,  GN_CRS2_LM algo: XTOL_REACHED after 27892 iterations. 308,  GN_CRS2_LM algo: XTOL_REACHED after 18117 iterations. 309,  GN_CRS2_LM algo: XTOL_REACHED after 45052 iterations. 310,  GN_CRS2_LM algo: XTOL_REACHED after 20077 iterations. 311,  GN_ISRES algo: XTOL_REACHED after 74931 iterations. 312,  GN_ISRES algo: XTOL_REACHED after 65689 iterations. 313,  GN_ISRES algo: XTOL_REACHED after 74093 iterations. 314,  GN_ISRES algo: XTOL_REACHED after 67892 iterations. 315,  GN_ISRES algo: XTOL_REACHED after 71502 iterations. 316,  GN_ISRES algo: XTOL_REACHED after 70363 iterations. 317,  GN_ISRES algo: MAXEVAL_REACHED after 100000 iterations. 318,  GN_ISRES algo: XTOL_REACHED after 68820 iterations. 319,  GN_ISRES algo: MAXEVAL_REACHED after 100000 iterations. 320,  GN_ISRES algo: XTOL_REACHED after 70031 iterations. 321,  LN_SBPLX algo: XTOL_REACHED after 892 iterations. 322,  LN_SBPLX algo: XTOL_REACHED after 1189 iterations. 323,  LN_SBPLX algo: XTOL_REACHED after 928 iterations. 324,  LN_SBPLX algo: XTOL_REACHED after 1113 iterations. 325,  LN_SBPLX algo: XTOL_REACHED after 1157 iterations. 326,  LN_SBPLX algo: XTOL_REACHED after 1591 iterations. 327,  LN_SBPLX algo: XTOL_REACHED after 1005 iterations. 328,  LN_SBPLX algo: XTOL_REACHED after 1885 iterations. 329,  LN_SBPLX algo: XTOL_REACHED after 936 iterations. 330,  LN_SBPLX algo: XTOL_REACHED after 1441 iterations. 331,  GN_CRS2_LM algo: XTOL_REACHED after 14473 iterations. 332,  GN_CRS2_LM algo: XTOL_REACHED after 16479 iterations. 333,  GN_CRS2_LM algo: XTOL_REACHED after 14267 iterations. 334,  GN_CRS2_LM algo: XTOL_REACHED after 14175 iterations. 335,  GN_CRS2_LM algo: XTOL_REACHED after 13845 iterations. 336,  GN_CRS2_LM algo: XTOL_REACHED after 12397 iterations. 337,  GN_CRS2_LM algo: XTOL_REACHED after 15777 iterations. 338,  GN_CRS2_LM algo: XTOL_REACHED after 13851 iterations. 339,  GN_CRS2_LM algo: XTOL_REACHED after 14228 iterations. 340,  GN_CRS2_LM algo: XTOL_REACHED after 14237 iterations. 341,  GN_ISRES algo: XTOL_REACHED after 70658 iterations. 342,  GN_ISRES algo: XTOL_REACHED after 74822 iterations. 343,  GN_ISRES algo: XTOL_REACHED after 68917 iterations. 344,  GN_ISRES algo: XTOL_REACHED after 71369 iterations. 345,  GN_ISRES algo: XTOL_REACHED after 65860 iterations. 346,  GN_ISRES algo: XTOL_REACHED after 74551 iterations. 347,  GN_ISRES algo: XTOL_REACHED after 63153 iterations. 348,  GN_ISRES algo: XTOL_REACHED after 67124 iterations. 349,  GN_ISRES algo: XTOL_REACHED after 66322 iterations. 350,  GN_ISRES algo: XTOL_REACHED after 73525 iterations. 351,  LN_SBPLX algo: XTOL_REACHED after 536 iterations. 352,  LN_SBPLX algo: XTOL_REACHED after 2055 iterations. 353,  LN_SBPLX algo: XTOL_REACHED after 1083 iterations. 354,  LN_SBPLX algo: XTOL_REACHED after 2022 iterations. 355,  LN_SBPLX algo: XTOL_REACHED after 896 iterations. 356,  LN_SBPLX algo: XTOL_REACHED after 513 iterations. 357,  LN_SBPLX algo: XTOL_REACHED after 1404 iterations. 358,  LN_SBPLX algo: XTOL_REACHED after 1088 iterations. 359,  LN_SBPLX algo: XTOL_REACHED after 1592 iterations. 360,  LN_SBPLX algo: XTOL_REACHED after 838 iterations. 361,  GN_CRS2_LM algo: XTOL_REACHED after 19633 iterations. 362,  GN_CRS2_LM algo: XTOL_REACHED after 27915 iterations. 363,  GN_CRS2_LM algo: XTOL_REACHED after 21443 iterations. 364,  GN_CRS2_LM algo: XTOL_REACHED after 31081 iterations. 365,  GN_CRS2_LM algo: XTOL_REACHED after 34474 iterations. 366,  GN_CRS2_LM algo: XTOL_REACHED after 20944 iterations. 367,  GN_CRS2_LM algo: XTOL_REACHED after 68829 iterations. 368,  GN_CRS2_LM algo: XTOL_REACHED after 35717 iterations. 369,  GN_CRS2_LM algo: XTOL_REACHED after 41410 iterations. 370,  GN_CRS2_LM algo: MAXEVAL_REACHED after 100000 iterations. 371,  GN_ISRES algo: XTOL_REACHED after 77464 iterations. 372,  GN_ISRES algo: XTOL_REACHED after 70600 iterations. 373,  GN_ISRES algo: MAXEVAL_REACHED after 100000 iterations. 374,  GN_ISRES algo: MAXEVAL_REACHED after 100000 iterations. 375,  GN_ISRES algo: XTOL_REACHED after 74468 iterations. 376,  GN_ISRES algo: XTOL_REACHED after 69560 iterations. 377,  GN_ISRES algo: MAXEVAL_REACHED after 100000 iterations. 378,  GN_ISRES algo: XTOL_REACHED after 66558 iterations. 379,  GN_ISRES algo: MAXEVAL_REACHED after 100000 iterations. 380,  GN_ISRES algo: XTOL_REACHED after 75767 iterations. 381,  LN_SBPLX algo: XTOL_REACHED after 852 iterations. 382,  LN_SBPLX algo: XTOL_REACHED after 1325 iterations. 383,  LN_SBPLX algo: XTOL_REACHED after 953 iterations. 384,  LN_SBPLX algo: XTOL_REACHED after 758 iterations. 385,  LN_SBPLX algo: XTOL_REACHED after 1489 iterations. 386,  LN_SBPLX algo: XTOL_REACHED after 688 iterations. 387,  LN_SBPLX algo: XTOL_REACHED after 1359 iterations. 388,  LN_SBPLX algo: XTOL_REACHED after 1288 iterations. 389,  LN_SBPLX algo: XTOL_REACHED after 1745 iterations. 390,  LN_SBPLX algo: XTOL_REACHED after 1908 iterations. 391,  GN_CRS2_LM algo: XTOL_REACHED after 15341 iterations. 392,  GN_CRS2_LM algo: XTOL_REACHED after 14264 iterations. 393,  GN_CRS2_LM algo: XTOL_REACHED after 14601 iterations. 394,  GN_CRS2_LM algo: XTOL_REACHED after 15980 iterations. 395,  GN_CRS2_LM algo: XTOL_REACHED after 15569 iterations. 396,  GN_CRS2_LM algo: XTOL_REACHED after 13733 iterations. 397,  GN_CRS2_LM algo: XTOL_REACHED after 15537 iterations. 398,  GN_CRS2_LM algo: XTOL_REACHED after 14136 iterations. 399,  GN_CRS2_LM algo: XTOL_REACHED after 15655 iterations. 400,  GN_CRS2_LM algo: XTOL_REACHED after 13799 iterations. 401,  GN_ISRES algo: MAXEVAL_REACHED after 100000 iterations. 402,  GN_ISRES algo: XTOL_REACHED after 66165 iterations. 403,  GN_ISRES algo: XTOL_REACHED after 72708 iterations. 404,  GN_ISRES algo: XTOL_REACHED after 68931 iterations. 405,  GN_ISRES algo: XTOL_REACHED after 70705 iterations. 406,  GN_ISRES algo: XTOL_REACHED after 70794 iterations. 407,  GN_ISRES algo: XTOL_REACHED after 62430 iterations. 408,  GN_ISRES algo: XTOL_REACHED after 68191 iterations. 409,  GN_ISRES algo: XTOL_REACHED after 63479 iterations. 410,  GN_ISRES algo: XTOL_REACHED after 77859 iterations. 411,  LN_SBPLX algo: XTOL_REACHED after 536 iterations. 412,  LN_SBPLX algo: XTOL_REACHED after 1026 iterations. 413,  LN_SBPLX algo: XTOL_REACHED after 850 iterations. 414,  LN_SBPLX algo: XTOL_REACHED after 1349 iterations. 415,  LN_SBPLX algo: XTOL_REACHED after 2010 iterations. 416,  LN_SBPLX algo: XTOL_REACHED after 513 iterations. 417,  LN_SBPLX algo: XTOL_REACHED after 1754 iterations. 418,  LN_SBPLX algo: XTOL_REACHED after 2081 iterations. 419,  LN_SBPLX algo: XTOL_REACHED after 1309 iterations. 420,  LN_SBPLX algo: XTOL_REACHED after 842 iterations. 421,  GN_CRS2_LM algo: XTOL_REACHED after 46935 iterations. 422,  GN_CRS2_LM algo: XTOL_REACHED after 28426 iterations. 423,  GN_CRS2_LM algo: XTOL_REACHED after 40841 iterations. 424,  GN_CRS2_LM algo: XTOL_REACHED after 29448 iterations. 425,  GN_CRS2_LM algo: XTOL_REACHED after 27575 iterations. 426,  GN_CRS2_LM algo: XTOL_REACHED after 25576 iterations. 427,  GN_CRS2_LM algo: XTOL_REACHED after 25562 iterations. 428,  GN_CRS2_LM algo: XTOL_REACHED after 40021 iterations. 429,  GN_CRS2_LM algo: XTOL_REACHED after 31471 iterations. 430,  GN_CRS2_LM algo: XTOL_REACHED after 56004 iterations. 431,  GN_ISRES algo: XTOL_REACHED after 70770 iterations. 432,  GN_ISRES algo: XTOL_REACHED after 70792 iterations. 433,  GN_ISRES algo: XTOL_REACHED after 70044 iterations. 434,  GN_ISRES algo: XTOL_REACHED after 72570 iterations. 435,  GN_ISRES algo: XTOL_REACHED after 69314 iterations. 436,  GN_ISRES algo: XTOL_REACHED after 65103 iterations. 437,  GN_ISRES algo: XTOL_REACHED after 68601 iterations. 438,  GN_ISRES algo: XTOL_REACHED after 67645 iterations. 439,  GN_ISRES algo: XTOL_REACHED after 73987 iterations. 440,  GN_ISRES algo: XTOL_REACHED after 75779 iterations. 441,  LN_SBPLX algo: XTOL_REACHED after 1018 iterations. 442,  LN_SBPLX algo: XTOL_REACHED after 1030 iterations. 443,  LN_SBPLX algo: XTOL_REACHED after 856 iterations. 444,  LN_SBPLX algo: XTOL_REACHED after 775 iterations. 445,  LN_SBPLX algo: XTOL_REACHED after 1914 iterations. 446,  LN_SBPLX algo: XTOL_REACHED after 1062 iterations. 447,  LN_SBPLX algo: XTOL_REACHED after 1697 iterations. 448,  LN_SBPLX algo: XTOL_REACHED after 1425 iterations. 449,  LN_SBPLX algo: XTOL_REACHED after 1378 iterations. 450,  LN_SBPLX algo: XTOL_REACHED after 1181 iterations. 451,  GN_CRS2_LM algo: XTOL_REACHED after 19160 iterations. 452,  GN_CRS2_LM algo: XTOL_REACHED after 22517 iterations. 453,  GN_CRS2_LM algo: XTOL_REACHED after 17847 iterations. 454,  GN_CRS2_LM algo: XTOL_REACHED after 21926 iterations. 455,  GN_CRS2_LM algo: XTOL_REACHED after 18903 iterations. 456,  GN_CRS2_LM algo: XTOL_REACHED after 17194 iterations. 457,  GN_CRS2_LM algo: XTOL_REACHED after 15868 iterations. 458,  GN_CRS2_LM algo: XTOL_REACHED after 19586 iterations. 459,  GN_CRS2_LM algo: XTOL_REACHED after 23611 iterations. 460,  GN_CRS2_LM algo: XTOL_REACHED after 17792 iterations. 461,  GN_ISRES algo: XTOL_REACHED after 68614 iterations. 462,  GN_ISRES algo: XTOL_REACHED after 67463 iterations. 463,  GN_ISRES algo: XTOL_REACHED after 72160 iterations. 464,  GN_ISRES algo: XTOL_REACHED after 73615 iterations. 465,  GN_ISRES algo: XTOL_REACHED after 66520 iterations. 466,  GN_ISRES algo: XTOL_REACHED after 69112 iterations. 467,  GN_ISRES algo: XTOL_REACHED after 59609 iterations. 468,  GN_ISRES algo: XTOL_REACHED after 64054 iterations. 469,  GN_ISRES algo: XTOL_REACHED after 66795 iterations. 470,  GN_ISRES algo: XTOL_REACHED after 70159 iterations. 471,  LN_SBPLX algo: XTOL_REACHED after 536 iterations. 472,  LN_SBPLX algo: XTOL_REACHED after 1383 iterations. 473,  LN_SBPLX algo: XTOL_REACHED after 874 iterations. 474,  LN_SBPLX algo: XTOL_REACHED after 1701 iterations. 475,  LN_SBPLX algo: XTOL_REACHED after 2095 iterations. 476,  LN_SBPLX algo: XTOL_REACHED after 513 iterations. 477,  LN_SBPLX algo: XTOL_REACHED after 1648 iterations. 478,  LN_SBPLX algo: XTOL_REACHED after 865 iterations. 479,  LN_SBPLX algo: XTOL_REACHED after 1246 iterations. 480,  LN_SBPLX algo: XTOL_REACHED after 810 iterations. 481,  GN_CRS2_LM algo: XTOL_REACHED after 22240 iterations. 482,  GN_CRS2_LM algo: XTOL_REACHED after 22494 iterations. 483,  GN_CRS2_LM algo: XTOL_REACHED after 19766 iterations. 484,  GN_CRS2_LM algo: XTOL_REACHED after 22813 iterations. 485,  GN_CRS2_LM algo: XTOL_REACHED after 23353 iterations. 486,  GN_CRS2_LM algo: XTOL_REACHED after 24616 iterations. 487,  GN_CRS2_LM algo: XTOL_REACHED after 23935 iterations. 488,  GN_CRS2_LM algo: XTOL_REACHED after 21075 iterations. 489,  GN_CRS2_LM algo: XTOL_REACHED after 23847 iterations. 490,  GN_CRS2_LM algo: XTOL_REACHED after 18241 iterations. 491,  GN_ISRES algo: XTOL_REACHED after 68228 iterations. 492,  GN_ISRES algo: XTOL_REACHED after 73350 iterations. 493,  GN_ISRES algo: XTOL_REACHED after 82609 iterations. 494,  GN_ISRES algo: XTOL_REACHED after 70788 iterations. 495,  GN_ISRES algo: XTOL_REACHED after 71202 iterations. 496,  GN_ISRES algo: XTOL_REACHED after 76069 iterations. 497,  GN_ISRES algo: XTOL_REACHED after 75524 iterations. 498,  GN_ISRES algo: XTOL_REACHED after 73479 iterations. 499,  GN_ISRES algo: XTOL_REACHED after 69196 iterations. 500,  GN_ISRES algo: XTOL_REACHED after 62904 iterations. 501,  LN_SBPLX algo: XTOL_REACHED after 1034 iterations. 502,  LN_SBPLX algo: XTOL_REACHED after 1075 iterations. 503,  LN_SBPLX algo: XTOL_REACHED after 2276 iterations. 504,  LN_SBPLX algo: XTOL_REACHED after 1477 iterations. 505,  LN_SBPLX algo: XTOL_REACHED after 2399 iterations. 506,  LN_SBPLX algo: XTOL_REACHED after 876 iterations. 507,  LN_SBPLX algo: XTOL_REACHED after 3353 iterations. 508,  LN_SBPLX algo: XTOL_REACHED after 1292 iterations. 509,  LN_SBPLX algo: XTOL_REACHED after 1953 iterations. 510,  LN_SBPLX algo: XTOL_REACHED after 955 iterations. 511,  GN_CRS2_LM algo: XTOL_REACHED after 15408 iterations. 512,  GN_CRS2_LM algo: XTOL_REACHED after 15288 iterations. 513,  GN_CRS2_LM algo: XTOL_REACHED after 24561 iterations. 514,  GN_CRS2_LM algo: XTOL_REACHED after 19171 iterations. 515,  GN_CRS2_LM algo: XTOL_REACHED after 17644 iterations. 516,  GN_CRS2_LM algo: XTOL_REACHED after 22012 iterations. 517,  GN_CRS2_LM algo: XTOL_REACHED after 24766 iterations. 518,  GN_CRS2_LM algo: XTOL_REACHED after 17903 iterations. 519,  GN_CRS2_LM algo: XTOL_REACHED after 19550 iterations. 520,  GN_CRS2_LM algo: XTOL_REACHED after 14556 iterations. 521,  GN_ISRES algo: XTOL_REACHED after 70479 iterations. 522,  GN_ISRES algo: XTOL_REACHED after 69016 iterations. 523,  GN_ISRES algo: XTOL_REACHED after 66497 iterations. 524,  GN_ISRES algo: XTOL_REACHED after 67782 iterations. 525,  GN_ISRES algo: XTOL_REACHED after 64292 iterations. 526,  GN_ISRES algo: XTOL_REACHED after 72103 iterations. 527,  GN_ISRES algo: XTOL_REACHED after 61510 iterations. 528,  GN_ISRES algo: XTOL_REACHED after 66862 iterations. 529,  GN_ISRES algo: XTOL_REACHED after 75645 iterations. 530,  GN_ISRES algo: XTOL_REACHED after 63460 iterations. 531,  LN_SBPLX algo: XTOL_REACHED after 534 iterations. 532,  LN_SBPLX algo: XTOL_REACHED after 1310 iterations. 533,  LN_SBPLX algo: XTOL_REACHED after 768 iterations. 534,  LN_SBPLX algo: XTOL_REACHED after 2290 iterations. 535,  LN_SBPLX algo: XTOL_REACHED after 1159 iterations. 536,  LN_SBPLX algo: XTOL_REACHED after 513 iterations. 537,  LN_SBPLX algo: XTOL_REACHED after 1399 iterations. 538,  LN_SBPLX algo: XTOL_REACHED after 1398 iterations. 539,  LN_SBPLX algo: XTOL_REACHED after 3156 iterations. 540,  LN_SBPLX algo: XTOL_REACHED after 541 iterations. 541,  GN_CRS2_LM algo: XTOL_REACHED after 27692 iterations. 542,  GN_CRS2_LM algo: XTOL_REACHED after 61417 iterations. 543,  GN_CRS2_LM algo: XTOL_REACHED after 24997 iterations. 544,  GN_CRS2_LM algo: XTOL_REACHED after 32714 iterations. 545,  GN_CRS2_LM algo: XTOL_REACHED after 27973 iterations. 546,  GN_CRS2_LM algo: XTOL_REACHED after 24857 iterations. 547,  GN_CRS2_LM algo: XTOL_REACHED after 25005 iterations. 548,  GN_CRS2_LM algo: XTOL_REACHED after 46022 iterations. 549,  GN_CRS2_LM algo: XTOL_REACHED after 21227 iterations. 550,  GN_CRS2_LM algo: XTOL_REACHED after 28268 iterations. 551,  GN_ISRES algo: XTOL_REACHED after 73545 iterations. 552,  GN_ISRES algo: XTOL_REACHED after 74310 iterations. 553,  GN_ISRES algo: XTOL_REACHED after 79551 iterations. 554,  GN_ISRES algo: XTOL_REACHED after 94623 iterations. 555,  GN_ISRES algo: XTOL_REACHED after 72923 iterations. 556,  GN_ISRES algo: XTOL_REACHED after 86162 iterations. 557,  GN_ISRES algo: XTOL_REACHED after 78704 iterations. 558,  GN_ISRES algo: XTOL_REACHED after 88194 iterations. 559,  GN_ISRES algo: XTOL_REACHED after 91274 iterations. 560,  GN_ISRES algo: XTOL_REACHED after 74998 iterations. 561,  LN_SBPLX algo: XTOL_REACHED after 1287 iterations. 562,  LN_SBPLX algo: XTOL_REACHED after 1800 iterations. 563,  LN_SBPLX algo: XTOL_REACHED after 1776 iterations. 564,  LN_SBPLX algo: XTOL_REACHED after 1712 iterations. 565,  LN_SBPLX algo: XTOL_REACHED after 2861 iterations. 566,  LN_SBPLX algo: XTOL_REACHED after 1343 iterations. 567,  LN_SBPLX algo: XTOL_REACHED after 3026 iterations. 568,  LN_SBPLX algo: XTOL_REACHED after 616 iterations. 569,  LN_SBPLX algo: XTOL_REACHED after 2644 iterations. 570,  LN_SBPLX algo: XTOL_REACHED after 4020 iterations. 571,  GN_CRS2_LM algo: XTOL_REACHED after 44998 iterations. 572,  GN_CRS2_LM algo: XTOL_REACHED after 23092 iterations. 573,  GN_CRS2_LM algo: XTOL_REACHED after 40531 iterations. 574,  GN_CRS2_LM algo: XTOL_REACHED after 25857 iterations. 575,  GN_CRS2_LM algo: XTOL_REACHED after 23137 iterations. 576,  GN_CRS2_LM algo: XTOL_REACHED after 20374 iterations. 577,  GN_CRS2_LM algo: XTOL_REACHED after 24680 iterations. 578,  GN_CRS2_LM algo: XTOL_REACHED after 18143 iterations. 579,  GN_CRS2_LM algo: XTOL_REACHED after 24696 iterations. 580,  GN_CRS2_LM algo: XTOL_REACHED after 17921 iterations. 581,  GN_ISRES algo: XTOL_REACHED after 69590 iterations. 582,  GN_ISRES algo: XTOL_REACHED after 63389 iterations. 583,  GN_ISRES algo: XTOL_REACHED after 65479 iterations. 584,  GN_ISRES algo: XTOL_REACHED after 68875 iterations. 585,  GN_ISRES algo: XTOL_REACHED after 77661 iterations. 586,  GN_ISRES algo: XTOL_REACHED after 77780 iterations. 587,  GN_ISRES algo: XTOL_REACHED after 72368 iterations. 588,  GN_ISRES algo: XTOL_REACHED after 70138 iterations. 589,  GN_ISRES algo: XTOL_REACHED after 68975 iterations. 590,  GN_ISRES algo: XTOL_REACHED after 64701 iterations. 591,  LN_SBPLX algo: XTOL_REACHED after 1365 iterations. 592,  LN_SBPLX algo: XTOL_REACHED after 749 iterations. 593,  LN_SBPLX algo: XTOL_REACHED after 819 iterations. 594,  LN_SBPLX algo: XTOL_REACHED after 1666 iterations. 595,  LN_SBPLX algo: XTOL_REACHED after 1693 iterations. 596,  LN_SBPLX algo: XTOL_REACHED after 2365 iterations. 597,  LN_SBPLX algo: XTOL_REACHED after 1816 iterations. 598,  LN_SBPLX algo: XTOL_REACHED after 800 iterations. 599,  LN_SBPLX algo: XTOL_REACHED after 1541 iterations. 600,  LN_SBPLX algo: XTOL_REACHED after 1280 iterations."
     ]
    }
   ],
   "source": [
    "xtol_rel=1e-8\n",
    "maxeval=100000\n",
    "i=0\n",
    "for capex in capexlist, shed in shed_max_list, dispatch in dispatchlist,algo in algo_list, srand in srand_list\n",
    "    x0 = x0_rng(srand, xmin, xmax)\n",
    "    xopt, ret, numevals = optim_mg(x0,capex, shed,dispatch, algo, maxeval,xtol_rel,srand)\n",
    "    lcoe_opt, shed_rate_opt,costs = obj_multi(xopt,capex,dispatch)\n",
    "       xopt = round.(xopt*1000; digits=2)\n",
    " push!(df2,(capex[3],shed,findfirst(==(dispatch),dispatchlist),String(algo),srand,\n",
    "        String(ret),numevals,lcoe_opt,shed_rate_opt, costs.system.investment,costs.system.om,  \n",
    "         xopt[1], xopt[2], xopt[3], xopt[4], xopt[5], xopt[6]\n",
    "        ))\n",
    "    i= i+1\n",
    "    @printf(\" %d,  %s algo: %s after %d iterations.\",i, algo, ret, numevals)\n",
    "      \n",
    "end"
   ]
  },
  {
   "cell_type": "code",
   "execution_count": null,
   "id": "f315ecbf-790c-4a2c-a99e-ec3e0f85ca47",
   "metadata": {
    "tags": []
   },
   "outputs": [],
   "source": []
  },
  {
   "cell_type": "code",
   "execution_count": 55,
   "id": "023269ee-048b-4d93-b02b-7950fba5148b",
   "metadata": {
    "tags": []
   },
   "outputs": [
    {
     "data": {
      "text/html": [
       "<div><div style = \"float: left;\"><span>600×17 DataFrame</span></div><div style = \"float: right;\"><span style = \"font-style: italic;\">575 rows omitted</span></div><div style = \"clear: both;\"></div></div><div class = \"data-frame\" style = \"overflow-x: scroll;\"><table class = \"data-frame\" style = \"margin-bottom: 6px;\"><thead><tr class = \"header\"><th class = \"rowNumber\" style = \"font-weight: bold; text-align: right;\">Row</th><th style = \"text-align: left;\">fc_elyz_capex</th><th style = \"text-align: left;\">shed_max</th><th style = \"text-align: left;\">dispatch</th><th style = \"text-align: left;\">algo</th><th style = \"text-align: left;\">srand</th><th style = \"text-align: left;\">ret</th><th style = \"text-align: left;\">numevals</th><th style = \"text-align: left;\">lcoe_opt</th><th style = \"text-align: left;\">shed_rate_opt</th><th style = \"text-align: left;\">capex</th><th style = \"text-align: left;\">opex</th><th style = \"text-align: left;\">xopt_sto</th><th style = \"text-align: left;\">xopt_pv</th><th style = \"text-align: left;\">xopt_wind</th><th style = \"text-align: left;\">xopt_elyz</th><th style = \"text-align: left;\">xopt_fc</th><th style = \"text-align: left;\">xopt_hyTank</th></tr><tr class = \"subheader headerLastRow\"><th class = \"rowNumber\" style = \"font-weight: bold; text-align: right;\"></th><th title = \"Float64\" style = \"text-align: left;\">Float64</th><th title = \"Float64\" style = \"text-align: left;\">Float64</th><th title = \"Int64\" style = \"text-align: left;\">Int64</th><th title = \"String\" style = \"text-align: left;\">String</th><th title = \"Int64\" style = \"text-align: left;\">Int64</th><th title = \"String\" style = \"text-align: left;\">String</th><th title = \"Int64\" style = \"text-align: left;\">Int64</th><th title = \"Float64\" style = \"text-align: left;\">Float64</th><th title = \"Float64\" style = \"text-align: left;\">Float64</th><th title = \"Float64\" style = \"text-align: left;\">Float64</th><th title = \"Float64\" style = \"text-align: left;\">Float64</th><th title = \"Float64\" style = \"text-align: left;\">Float64</th><th title = \"Float64\" style = \"text-align: left;\">Float64</th><th title = \"Float64\" style = \"text-align: left;\">Float64</th><th title = \"Float64\" style = \"text-align: left;\">Float64</th><th title = \"Float64\" style = \"text-align: left;\">Float64</th><th title = \"Float64\" style = \"text-align: left;\">Float64</th></tr></thead><tbody><tr><td class = \"rowNumber\" style = \"font-weight: bold; text-align: right;\">1</td><td style = \"text-align: right;\">1600.0</td><td style = \"text-align: right;\">0.0</td><td style = \"text-align: right;\">1</td><td style = \"text-align: left;\">GN_CRS2_LM</td><td style = \"text-align: right;\">1</td><td style = \"text-align: left;\">XTOL_REACHED</td><td style = \"text-align: right;\">21888</td><td style = \"text-align: right;\">0.516505</td><td style = \"text-align: right;\">0.0</td><td style = \"text-align: right;\">3.54974e7</td><td style = \"text-align: right;\">1.04221e7</td><td style = \"text-align: right;\">30304.5</td><td style = \"text-align: right;\">12227.8</td><td style = \"text-align: right;\">1811.59</td><td style = \"text-align: right;\">76.75</td><td style = \"text-align: right;\">990.08</td><td style = \"text-align: right;\">2732.21</td></tr><tr><td class = \"rowNumber\" style = \"font-weight: bold; text-align: right;\">2</td><td style = \"text-align: right;\">1600.0</td><td style = \"text-align: right;\">0.0</td><td style = \"text-align: right;\">1</td><td style = \"text-align: left;\">GN_CRS2_LM</td><td style = \"text-align: right;\">2</td><td style = \"text-align: left;\">XTOL_REACHED</td><td style = \"text-align: right;\">23035</td><td style = \"text-align: right;\">0.494657</td><td style = \"text-align: right;\">0.0</td><td style = \"text-align: right;\">3.66674e7</td><td style = \"text-align: right;\">9.1398e6</td><td style = \"text-align: right;\">16979.5</td><td style = \"text-align: right;\">16846.3</td><td style = \"text-align: right;\">1251.93</td><td style = \"text-align: right;\">254.45</td><td style = \"text-align: right;\">1398.0</td><td style = \"text-align: right;\">5348.99</td></tr><tr><td class = \"rowNumber\" style = \"font-weight: bold; text-align: right;\">3</td><td style = \"text-align: right;\">1600.0</td><td style = \"text-align: right;\">0.0</td><td style = \"text-align: right;\">1</td><td style = \"text-align: left;\">GN_CRS2_LM</td><td style = \"text-align: right;\">3</td><td style = \"text-align: left;\">XTOL_REACHED</td><td style = \"text-align: right;\">20841</td><td style = \"text-align: right;\">0.519126</td><td style = \"text-align: right;\">0.0</td><td style = \"text-align: right;\">3.72518e7</td><td style = \"text-align: right;\">9.90446e6</td><td style = \"text-align: right;\">23347.5</td><td style = \"text-align: right;\">16995.4</td><td style = \"text-align: right;\">1171.63</td><td style = \"text-align: right;\">145.15</td><td style = \"text-align: right;\">1069.9</td><td style = \"text-align: right;\">3671.42</td></tr><tr><td class = \"rowNumber\" style = \"font-weight: bold; text-align: right;\">4</td><td style = \"text-align: right;\">1600.0</td><td style = \"text-align: right;\">0.0</td><td style = \"text-align: right;\">1</td><td style = \"text-align: left;\">GN_CRS2_LM</td><td style = \"text-align: right;\">4</td><td style = \"text-align: left;\">XTOL_REACHED</td><td style = \"text-align: right;\">33104</td><td style = \"text-align: right;\">0.428714</td><td style = \"text-align: right;\">0.0</td><td style = \"text-align: right;\">3.19499e7</td><td style = \"text-align: right;\">7.85836e6</td><td style = \"text-align: right;\">14406.9</td><td style = \"text-align: right;\">12391.2</td><td style = \"text-align: right;\">1482.9</td><td style = \"text-align: right;\">335.07</td><td style = \"text-align: right;\">1398.0</td><td style = \"text-align: right;\">6528.59</td></tr><tr><td class = \"rowNumber\" style = \"font-weight: bold; text-align: right;\">5</td><td style = \"text-align: right;\">1600.0</td><td style = \"text-align: right;\">0.0</td><td style = \"text-align: right;\">1</td><td style = \"text-align: left;\">GN_CRS2_LM</td><td style = \"text-align: right;\">5</td><td style = \"text-align: left;\">XTOL_REACHED</td><td style = \"text-align: right;\">19458</td><td style = \"text-align: right;\">0.533625</td><td style = \"text-align: right;\">0.0</td><td style = \"text-align: right;\">3.77074e7</td><td style = \"text-align: right;\">1.06257e7</td><td style = \"text-align: right;\">24400.9</td><td style = \"text-align: right;\">15913.2</td><td style = \"text-align: right;\">1811.59</td><td style = \"text-align: right;\">61.05</td><td style = \"text-align: right;\">983.0</td><td style = \"text-align: right;\">2513.25</td></tr><tr><td class = \"rowNumber\" style = \"font-weight: bold; text-align: right;\">6</td><td style = \"text-align: right;\">1600.0</td><td style = \"text-align: right;\">0.0</td><td style = \"text-align: right;\">1</td><td style = \"text-align: left;\">GN_CRS2_LM</td><td style = \"text-align: right;\">6</td><td style = \"text-align: left;\">XTOL_REACHED</td><td style = \"text-align: right;\">34149</td><td style = \"text-align: right;\">0.519126</td><td style = \"text-align: right;\">0.0</td><td style = \"text-align: right;\">3.72522e7</td><td style = \"text-align: right;\">9.90425e6</td><td style = \"text-align: right;\">23347.5</td><td style = \"text-align: right;\">16996.3</td><td style = \"text-align: right;\">1171.27</td><td style = \"text-align: right;\">145.41</td><td style = \"text-align: right;\">1069.87</td><td style = \"text-align: right;\">3671.71</td></tr><tr><td class = \"rowNumber\" style = \"font-weight: bold; text-align: right;\">7</td><td style = \"text-align: right;\">1600.0</td><td style = \"text-align: right;\">0.0</td><td style = \"text-align: right;\">1</td><td style = \"text-align: left;\">GN_CRS2_LM</td><td style = \"text-align: right;\">7</td><td style = \"text-align: left;\">XTOL_REACHED</td><td style = \"text-align: right;\">13242</td><td style = \"text-align: right;\">0.519543</td><td style = \"text-align: right;\">0.0</td><td style = \"text-align: right;\">3.72996e7</td><td style = \"text-align: right;\">9.90014e6</td><td style = \"text-align: right;\">23353.2</td><td style = \"text-align: right;\">17070.0</td><td style = \"text-align: right;\">1152.01</td><td style = \"text-align: right;\">157.62</td><td style = \"text-align: right;\">1067.98</td><td style = \"text-align: right;\">3687.44</td></tr><tr><td class = \"rowNumber\" style = \"font-weight: bold; text-align: right;\">8</td><td style = \"text-align: right;\">1600.0</td><td style = \"text-align: right;\">0.0</td><td style = \"text-align: right;\">1</td><td style = \"text-align: left;\">GN_CRS2_LM</td><td style = \"text-align: right;\">8</td><td style = \"text-align: left;\">XTOL_REACHED</td><td style = \"text-align: right;\">13759</td><td style = \"text-align: right;\">0.519543</td><td style = \"text-align: right;\">0.0</td><td style = \"text-align: right;\">3.72996e7</td><td style = \"text-align: right;\">9.90014e6</td><td style = \"text-align: right;\">23353.2</td><td style = \"text-align: right;\">17070.0</td><td style = \"text-align: right;\">1152.01</td><td style = \"text-align: right;\">157.62</td><td style = \"text-align: right;\">1067.98</td><td style = \"text-align: right;\">3687.43</td></tr><tr><td class = \"rowNumber\" style = \"font-weight: bold; text-align: right;\">9</td><td style = \"text-align: right;\">1600.0</td><td style = \"text-align: right;\">0.0</td><td style = \"text-align: right;\">1</td><td style = \"text-align: left;\">GN_CRS2_LM</td><td style = \"text-align: right;\">9</td><td style = \"text-align: left;\">XTOL_REACHED</td><td style = \"text-align: right;\">15504</td><td style = \"text-align: right;\">0.535548</td><td style = \"text-align: right;\">0.0</td><td style = \"text-align: right;\">3.78175e7</td><td style = \"text-align: right;\">1.06989e7</td><td style = \"text-align: right;\">24386.3</td><td style = \"text-align: right;\">15853.3</td><td style = \"text-align: right;\">1877.7</td><td style = \"text-align: right;\">53.61</td><td style = \"text-align: right;\">983.0</td><td style = \"text-align: right;\">2448.82</td></tr><tr><td class = \"rowNumber\" style = \"font-weight: bold; text-align: right;\">10</td><td style = \"text-align: right;\">1600.0</td><td style = \"text-align: right;\">0.0</td><td style = \"text-align: right;\">1</td><td style = \"text-align: left;\">GN_CRS2_LM</td><td style = \"text-align: right;\">10</td><td style = \"text-align: left;\">XTOL_REACHED</td><td style = \"text-align: right;\">17949</td><td style = \"text-align: right;\">0.547305</td><td style = \"text-align: right;\">0.0</td><td style = \"text-align: right;\">3.83693e7</td><td style = \"text-align: right;\">1.0981e7</td><td style = \"text-align: right;\">26551.3</td><td style = \"text-align: right;\">15782.5</td><td style = \"text-align: right;\">1877.7</td><td style = \"text-align: right;\">31.73</td><td style = \"text-align: right;\">983.0</td><td style = \"text-align: right;\">2276.36</td></tr><tr><td class = \"rowNumber\" style = \"font-weight: bold; text-align: right;\">11</td><td style = \"text-align: right;\">1600.0</td><td style = \"text-align: right;\">0.0</td><td style = \"text-align: right;\">1</td><td style = \"text-align: left;\">GN_ISRES</td><td style = \"text-align: right;\">1</td><td style = \"text-align: left;\">MAXEVAL_REACHED</td><td style = \"text-align: right;\">100000</td><td style = \"text-align: right;\">0.487828</td><td style = \"text-align: right;\">0.0</td><td style = \"text-align: right;\">3.62623e7</td><td style = \"text-align: right;\">9.20606e6</td><td style = \"text-align: right;\">14760.1</td><td style = \"text-align: right;\">16168.5</td><td style = \"text-align: right;\">1652.6</td><td style = \"text-align: right;\">262.29</td><td style = \"text-align: right;\">1428.7</td><td style = \"text-align: right;\">4792.9</td></tr><tr><td class = \"rowNumber\" style = \"font-weight: bold; text-align: right;\">12</td><td style = \"text-align: right;\">1600.0</td><td style = \"text-align: right;\">0.0</td><td style = \"text-align: right;\">1</td><td style = \"text-align: left;\">GN_ISRES</td><td style = \"text-align: right;\">2</td><td style = \"text-align: left;\">XTOL_REACHED</td><td style = \"text-align: right;\">66964</td><td style = \"text-align: right;\">0.521282</td><td style = \"text-align: right;\">0.0</td><td style = \"text-align: right;\">3.73204e7</td><td style = \"text-align: right;\">1.00513e7</td><td style = \"text-align: right;\">23316.3</td><td style = \"text-align: right;\">16699.6</td><td style = \"text-align: right;\">1338.22</td><td style = \"text-align: right;\">136.02</td><td style = \"text-align: right;\">1077.49</td><td style = \"text-align: right;\">3379.94</td></tr><tr><td class = \"rowNumber\" style = \"font-weight: bold; text-align: right;\">13</td><td style = \"text-align: right;\">1600.0</td><td style = \"text-align: right;\">0.0</td><td style = \"text-align: right;\">1</td><td style = \"text-align: left;\">GN_ISRES</td><td style = \"text-align: right;\">3</td><td style = \"text-align: left;\">XTOL_REACHED</td><td style = \"text-align: right;\">72958</td><td style = \"text-align: right;\">0.485751</td><td style = \"text-align: right;\">0.0</td><td style = \"text-align: right;\">3.61593e7</td><td style = \"text-align: right;\">9.18354e6</td><td style = \"text-align: right;\">14328.6</td><td style = \"text-align: right;\">16104.7</td><td style = \"text-align: right;\">1688.17</td><td style = \"text-align: right;\">336.66</td><td style = \"text-align: right;\">1398.0</td><td style = \"text-align: right;\">4653.52</td></tr><tr><td style = \"text-align: right;\">&vellip;</td><td style = \"text-align: right;\">&vellip;</td><td style = \"text-align: right;\">&vellip;</td><td style = \"text-align: right;\">&vellip;</td><td style = \"text-align: right;\">&vellip;</td><td style = \"text-align: right;\">&vellip;</td><td style = \"text-align: right;\">&vellip;</td><td style = \"text-align: right;\">&vellip;</td><td style = \"text-align: right;\">&vellip;</td><td style = \"text-align: right;\">&vellip;</td><td style = \"text-align: right;\">&vellip;</td><td style = \"text-align: right;\">&vellip;</td><td style = \"text-align: right;\">&vellip;</td><td style = \"text-align: right;\">&vellip;</td><td style = \"text-align: right;\">&vellip;</td><td style = \"text-align: right;\">&vellip;</td><td style = \"text-align: right;\">&vellip;</td><td style = \"text-align: right;\">&vellip;</td></tr><tr><td class = \"rowNumber\" style = \"font-weight: bold; text-align: right;\">589</td><td style = \"text-align: right;\">2200.0</td><td style = \"text-align: right;\">0.01</td><td style = \"text-align: right;\">2</td><td style = \"text-align: left;\">GN_ISRES</td><td style = \"text-align: right;\">9</td><td style = \"text-align: left;\">XTOL_REACHED</td><td style = \"text-align: right;\">68975</td><td style = \"text-align: right;\">0.380959</td><td style = \"text-align: right;\">0.01</td><td style = \"text-align: right;\">2.74359e7</td><td style = \"text-align: right;\">4.97881e6</td><td style = \"text-align: right;\">2941.19</td><td style = \"text-align: right;\">5880.71</td><td style = \"text-align: right;\">1877.7</td><td style = \"text-align: right;\">1173.11</td><td style = \"text-align: right;\">665.17</td><td style = \"text-align: right;\">15819.1</td></tr><tr><td class = \"rowNumber\" style = \"font-weight: bold; text-align: right;\">590</td><td style = \"text-align: right;\">2200.0</td><td style = \"text-align: right;\">0.01</td><td style = \"text-align: right;\">2</td><td style = \"text-align: left;\">GN_ISRES</td><td style = \"text-align: right;\">10</td><td style = \"text-align: left;\">XTOL_REACHED</td><td style = \"text-align: right;\">64701</td><td style = \"text-align: right;\">0.380947</td><td style = \"text-align: right;\">0.01</td><td style = \"text-align: right;\">2.74415e7</td><td style = \"text-align: right;\">4.9743e6</td><td style = \"text-align: right;\">2904.28</td><td style = \"text-align: right;\">5882.44</td><td style = \"text-align: right;\">1877.7</td><td style = \"text-align: right;\">1174.09</td><td style = \"text-align: right;\">665.66</td><td style = \"text-align: right;\">15844.9</td></tr><tr><td class = \"rowNumber\" style = \"font-weight: bold; text-align: right;\">591</td><td style = \"text-align: right;\">2200.0</td><td style = \"text-align: right;\">0.01</td><td style = \"text-align: right;\">2</td><td style = \"text-align: left;\">LN_SBPLX</td><td style = \"text-align: right;\">1</td><td style = \"text-align: left;\">XTOL_REACHED</td><td style = \"text-align: right;\">1365</td><td style = \"text-align: right;\">0.485572</td><td style = \"text-align: right;\">0.01</td><td style = \"text-align: right;\">3.29395e7</td><td style = \"text-align: right;\">9.69609e6</td><td style = \"text-align: right;\">26156.3</td><td style = \"text-align: right;\">16124.4</td><td style = \"text-align: right;\">1038.7</td><td style = \"text-align: right;\">0.0</td><td style = \"text-align: right;\">0.0</td><td style = \"text-align: right;\">0.0</td></tr><tr><td class = \"rowNumber\" style = \"font-weight: bold; text-align: right;\">592</td><td style = \"text-align: right;\">2200.0</td><td style = \"text-align: right;\">0.01</td><td style = \"text-align: right;\">2</td><td style = \"text-align: left;\">LN_SBPLX</td><td style = \"text-align: right;\">2</td><td style = \"text-align: left;\">XTOL_REACHED</td><td style = \"text-align: right;\">749</td><td style = \"text-align: right;\">0.49306</td><td style = \"text-align: right;\">0.01</td><td style = \"text-align: right;\">3.36263e7</td><td style = \"text-align: right;\">9.78229e6</td><td style = \"text-align: right;\">25669.2</td><td style = \"text-align: right;\">17070.0</td><td style = \"text-align: right;\">959.45</td><td style = \"text-align: right;\">0.0</td><td style = \"text-align: right;\">0.0</td><td style = \"text-align: right;\">0.0</td></tr><tr><td class = \"rowNumber\" style = \"font-weight: bold; text-align: right;\">593</td><td style = \"text-align: right;\">2200.0</td><td style = \"text-align: right;\">0.01</td><td style = \"text-align: right;\">2</td><td style = \"text-align: left;\">LN_SBPLX</td><td style = \"text-align: right;\">3</td><td style = \"text-align: left;\">XTOL_REACHED</td><td style = \"text-align: right;\">819</td><td style = \"text-align: right;\">0.687923</td><td style = \"text-align: right;\">0.01</td><td style = \"text-align: right;\">5.17438e7</td><td style = \"text-align: right;\">1.04343e7</td><td style = \"text-align: right;\">19569.0</td><td style = \"text-align: right;\">15522.9</td><td style = \"text-align: right;\">1519.17</td><td style = \"text-align: right;\">7744.03</td><td style = \"text-align: right;\">478.23</td><td style = \"text-align: right;\">4102.88</td></tr><tr><td class = \"rowNumber\" style = \"font-weight: bold; text-align: right;\">594</td><td style = \"text-align: right;\">2200.0</td><td style = \"text-align: right;\">0.01</td><td style = \"text-align: right;\">2</td><td style = \"text-align: left;\">LN_SBPLX</td><td style = \"text-align: right;\">4</td><td style = \"text-align: left;\">XTOL_REACHED</td><td style = \"text-align: right;\">1666</td><td style = \"text-align: right;\">0.389301</td><td style = \"text-align: right;\">0.01</td><td style = \"text-align: right;\">2.8066e7</td><td style = \"text-align: right;\">4.79278e6</td><td style = \"text-align: right;\">347.27</td><td style = \"text-align: right;\">6181.09</td><td style = \"text-align: right;\">1877.7</td><td style = \"text-align: right;\">1608.57</td><td style = \"text-align: right;\">903.12</td><td style = \"text-align: right;\">15216.3</td></tr><tr><td class = \"rowNumber\" style = \"font-weight: bold; text-align: right;\">595</td><td style = \"text-align: right;\">2200.0</td><td style = \"text-align: right;\">0.01</td><td style = \"text-align: right;\">2</td><td style = \"text-align: left;\">LN_SBPLX</td><td style = \"text-align: right;\">5</td><td style = \"text-align: left;\">XTOL_REACHED</td><td style = \"text-align: right;\">1693</td><td style = \"text-align: right;\">0.465107</td><td style = \"text-align: right;\">0.01</td><td style = \"text-align: right;\">3.12498e7</td><td style = \"text-align: right;\">9.68801e6</td><td style = \"text-align: right;\">24387.3</td><td style = \"text-align: right;\">12785.2</td><td style = \"text-align: right;\">1877.7</td><td style = \"text-align: right;\">0.0</td><td style = \"text-align: right;\">0.0</td><td style = \"text-align: right;\">0.0</td></tr><tr><td class = \"rowNumber\" style = \"font-weight: bold; text-align: right;\">596</td><td style = \"text-align: right;\">2200.0</td><td style = \"text-align: right;\">0.01</td><td style = \"text-align: right;\">2</td><td style = \"text-align: left;\">LN_SBPLX</td><td style = \"text-align: right;\">6</td><td style = \"text-align: left;\">XTOL_REACHED</td><td style = \"text-align: right;\">2365</td><td style = \"text-align: right;\">0.464534</td><td style = \"text-align: right;\">0.01</td><td style = \"text-align: right;\">3.10583e7</td><td style = \"text-align: right;\">9.69861e6</td><td style = \"text-align: right;\">25333.7</td><td style = \"text-align: right;\">12349.7</td><td style = \"text-align: right;\">1877.7</td><td style = \"text-align: right;\">0.0</td><td style = \"text-align: right;\">0.0</td><td style = \"text-align: right;\">0.0</td></tr><tr><td class = \"rowNumber\" style = \"font-weight: bold; text-align: right;\">597</td><td style = \"text-align: right;\">2200.0</td><td style = \"text-align: right;\">0.01</td><td style = \"text-align: right;\">2</td><td style = \"text-align: left;\">LN_SBPLX</td><td style = \"text-align: right;\">7</td><td style = \"text-align: left;\">XTOL_REACHED</td><td style = \"text-align: right;\">1816</td><td style = \"text-align: right;\">0.474672</td><td style = \"text-align: right;\">0.01</td><td style = \"text-align: right;\">3.19262e7</td><td style = \"text-align: right;\">9.61458e6</td><td style = \"text-align: right;\">26636.8</td><td style = \"text-align: right;\">14502.8</td><td style = \"text-align: right;\">1257.16</td><td style = \"text-align: right;\">0.0</td><td style = \"text-align: right;\">0.0</td><td style = \"text-align: right;\">0.0</td></tr><tr><td class = \"rowNumber\" style = \"font-weight: bold; text-align: right;\">598</td><td style = \"text-align: right;\">2200.0</td><td style = \"text-align: right;\">0.01</td><td style = \"text-align: right;\">2</td><td style = \"text-align: left;\">LN_SBPLX</td><td style = \"text-align: right;\">8</td><td style = \"text-align: left;\">XTOL_REACHED</td><td style = \"text-align: right;\">800</td><td style = \"text-align: right;\">0.472408</td><td style = \"text-align: right;\">0.01</td><td style = \"text-align: right;\">3.44413e7</td><td style = \"text-align: right;\">6.05422e6</td><td style = \"text-align: right;\">494.77</td><td style = \"text-align: right;\">9221.42</td><td style = \"text-align: right;\">1877.7</td><td style = \"text-align: right;\">2337.44</td><td style = \"text-align: right;\">2897.97</td><td style = \"text-align: right;\">8601.11</td></tr><tr><td class = \"rowNumber\" style = \"font-weight: bold; text-align: right;\">599</td><td style = \"text-align: right;\">2200.0</td><td style = \"text-align: right;\">0.01</td><td style = \"text-align: right;\">2</td><td style = \"text-align: left;\">LN_SBPLX</td><td style = \"text-align: right;\">9</td><td style = \"text-align: left;\">XTOL_REACHED</td><td style = \"text-align: right;\">1541</td><td style = \"text-align: right;\">0.465005</td><td style = \"text-align: right;\">0.01</td><td style = \"text-align: right;\">3.10483e7</td><td style = \"text-align: right;\">9.68347e6</td><td style = \"text-align: right;\">25854.7</td><td style = \"text-align: right;\">12404.7</td><td style = \"text-align: right;\">1803.84</td><td style = \"text-align: right;\">0.0</td><td style = \"text-align: right;\">0.0</td><td style = \"text-align: right;\">0.0</td></tr><tr><td class = \"rowNumber\" style = \"font-weight: bold; text-align: right;\">600</td><td style = \"text-align: right;\">2200.0</td><td style = \"text-align: right;\">0.01</td><td style = \"text-align: right;\">2</td><td style = \"text-align: left;\">LN_SBPLX</td><td style = \"text-align: right;\">10</td><td style = \"text-align: left;\">XTOL_REACHED</td><td style = \"text-align: right;\">1280</td><td style = \"text-align: right;\">0.485878</td><td style = \"text-align: right;\">0.01</td><td style = \"text-align: right;\">3.30676e7</td><td style = \"text-align: right;\">9.69817e6</td><td style = \"text-align: right;\">25400.1</td><td style = \"text-align: right;\">16370.3</td><td style = \"text-align: right;\">1066.62</td><td style = \"text-align: right;\">0.0</td><td style = \"text-align: right;\">0.0</td><td style = \"text-align: right;\">0.0</td></tr></tbody></table></div>"
      ],
      "text/latex": [
       "\\begin{tabular}{r|cccccccc}\n",
       "\t& fc\\_elyz\\_capex & shed\\_max & dispatch & algo & srand & ret & numevals & \\\\\n",
       "\t\\hline\n",
       "\t& Float64 & Float64 & Int64 & String & Int64 & String & Int64 & \\\\\n",
       "\t\\hline\n",
       "\t1 & 1600.0 & 0.0 & 1 & GN\\_CRS2\\_LM & 1 & XTOL\\_REACHED & 21888 & $\\dots$ \\\\\n",
       "\t2 & 1600.0 & 0.0 & 1 & GN\\_CRS2\\_LM & 2 & XTOL\\_REACHED & 23035 & $\\dots$ \\\\\n",
       "\t3 & 1600.0 & 0.0 & 1 & GN\\_CRS2\\_LM & 3 & XTOL\\_REACHED & 20841 & $\\dots$ \\\\\n",
       "\t4 & 1600.0 & 0.0 & 1 & GN\\_CRS2\\_LM & 4 & XTOL\\_REACHED & 33104 & $\\dots$ \\\\\n",
       "\t5 & 1600.0 & 0.0 & 1 & GN\\_CRS2\\_LM & 5 & XTOL\\_REACHED & 19458 & $\\dots$ \\\\\n",
       "\t6 & 1600.0 & 0.0 & 1 & GN\\_CRS2\\_LM & 6 & XTOL\\_REACHED & 34149 & $\\dots$ \\\\\n",
       "\t7 & 1600.0 & 0.0 & 1 & GN\\_CRS2\\_LM & 7 & XTOL\\_REACHED & 13242 & $\\dots$ \\\\\n",
       "\t8 & 1600.0 & 0.0 & 1 & GN\\_CRS2\\_LM & 8 & XTOL\\_REACHED & 13759 & $\\dots$ \\\\\n",
       "\t9 & 1600.0 & 0.0 & 1 & GN\\_CRS2\\_LM & 9 & XTOL\\_REACHED & 15504 & $\\dots$ \\\\\n",
       "\t10 & 1600.0 & 0.0 & 1 & GN\\_CRS2\\_LM & 10 & XTOL\\_REACHED & 17949 & $\\dots$ \\\\\n",
       "\t11 & 1600.0 & 0.0 & 1 & GN\\_ISRES & 1 & MAXEVAL\\_REACHED & 100000 & $\\dots$ \\\\\n",
       "\t12 & 1600.0 & 0.0 & 1 & GN\\_ISRES & 2 & XTOL\\_REACHED & 66964 & $\\dots$ \\\\\n",
       "\t13 & 1600.0 & 0.0 & 1 & GN\\_ISRES & 3 & XTOL\\_REACHED & 72958 & $\\dots$ \\\\\n",
       "\t14 & 1600.0 & 0.0 & 1 & GN\\_ISRES & 4 & MAXEVAL\\_REACHED & 100000 & $\\dots$ \\\\\n",
       "\t15 & 1600.0 & 0.0 & 1 & GN\\_ISRES & 5 & MAXEVAL\\_REACHED & 100000 & $\\dots$ \\\\\n",
       "\t16 & 1600.0 & 0.0 & 1 & GN\\_ISRES & 6 & XTOL\\_REACHED & 67785 & $\\dots$ \\\\\n",
       "\t17 & 1600.0 & 0.0 & 1 & GN\\_ISRES & 7 & MAXEVAL\\_REACHED & 100000 & $\\dots$ \\\\\n",
       "\t18 & 1600.0 & 0.0 & 1 & GN\\_ISRES & 8 & MAXEVAL\\_REACHED & 100000 & $\\dots$ \\\\\n",
       "\t19 & 1600.0 & 0.0 & 1 & GN\\_ISRES & 9 & XTOL\\_REACHED & 68181 & $\\dots$ \\\\\n",
       "\t20 & 1600.0 & 0.0 & 1 & GN\\_ISRES & 10 & XTOL\\_REACHED & 73784 & $\\dots$ \\\\\n",
       "\t21 & 1600.0 & 0.0 & 1 & LN\\_SBPLX & 1 & XTOL\\_REACHED & 863 & $\\dots$ \\\\\n",
       "\t22 & 1600.0 & 0.0 & 1 & LN\\_SBPLX & 2 & XTOL\\_REACHED & 1757 & $\\dots$ \\\\\n",
       "\t23 & 1600.0 & 0.0 & 1 & LN\\_SBPLX & 3 & XTOL\\_REACHED & 1019 & $\\dots$ \\\\\n",
       "\t24 & 1600.0 & 0.0 & 1 & LN\\_SBPLX & 4 & XTOL\\_REACHED & 1007 & $\\dots$ \\\\\n",
       "\t25 & 1600.0 & 0.0 & 1 & LN\\_SBPLX & 5 & XTOL\\_REACHED & 1199 & $\\dots$ \\\\\n",
       "\t26 & 1600.0 & 0.0 & 1 & LN\\_SBPLX & 6 & XTOL\\_REACHED & 1941 & $\\dots$ \\\\\n",
       "\t27 & 1600.0 & 0.0 & 1 & LN\\_SBPLX & 7 & XTOL\\_REACHED & 1247 & $\\dots$ \\\\\n",
       "\t28 & 1600.0 & 0.0 & 1 & LN\\_SBPLX & 8 & XTOL\\_REACHED & 1383 & $\\dots$ \\\\\n",
       "\t29 & 1600.0 & 0.0 & 1 & LN\\_SBPLX & 9 & XTOL\\_REACHED & 1706 & $\\dots$ \\\\\n",
       "\t30 & 1600.0 & 0.0 & 1 & LN\\_SBPLX & 10 & XTOL\\_REACHED & 1086 & $\\dots$ \\\\\n",
       "\t$\\dots$ & $\\dots$ & $\\dots$ & $\\dots$ & $\\dots$ & $\\dots$ & $\\dots$ & $\\dots$ &  \\\\\n",
       "\\end{tabular}\n"
      ],
      "text/plain": [
       "\u001b[1m600×17 DataFrame\u001b[0m\n",
       "\u001b[1m Row \u001b[0m│\u001b[1m fc_elyz_capex \u001b[0m\u001b[1m shed_max \u001b[0m\u001b[1m dispatch \u001b[0m\u001b[1m algo       \u001b[0m\u001b[1m srand \u001b[0m\u001b[1m ret             \u001b[0m\u001b[1m \u001b[0m ⋯\n",
       "     │\u001b[90m Float64       \u001b[0m\u001b[90m Float64  \u001b[0m\u001b[90m Int64    \u001b[0m\u001b[90m String     \u001b[0m\u001b[90m Int64 \u001b[0m\u001b[90m String          \u001b[0m\u001b[90m \u001b[0m ⋯\n",
       "─────┼──────────────────────────────────────────────────────────────────────────\n",
       "   1 │        1600.0      0.0          1  GN_CRS2_LM      1  XTOL_REACHED      ⋯\n",
       "   2 │        1600.0      0.0          1  GN_CRS2_LM      2  XTOL_REACHED\n",
       "   3 │        1600.0      0.0          1  GN_CRS2_LM      3  XTOL_REACHED\n",
       "   4 │        1600.0      0.0          1  GN_CRS2_LM      4  XTOL_REACHED\n",
       "   5 │        1600.0      0.0          1  GN_CRS2_LM      5  XTOL_REACHED      ⋯\n",
       "   6 │        1600.0      0.0          1  GN_CRS2_LM      6  XTOL_REACHED\n",
       "   7 │        1600.0      0.0          1  GN_CRS2_LM      7  XTOL_REACHED\n",
       "   8 │        1600.0      0.0          1  GN_CRS2_LM      8  XTOL_REACHED\n",
       "   9 │        1600.0      0.0          1  GN_CRS2_LM      9  XTOL_REACHED      ⋯\n",
       "  10 │        1600.0      0.0          1  GN_CRS2_LM     10  XTOL_REACHED\n",
       "  11 │        1600.0      0.0          1  GN_ISRES        1  MAXEVAL_REACHED\n",
       "  ⋮  │       ⋮           ⋮         ⋮          ⋮         ⋮           ⋮          ⋱\n",
       " 591 │        2200.0      0.01         2  LN_SBPLX        1  XTOL_REACHED\n",
       " 592 │        2200.0      0.01         2  LN_SBPLX        2  XTOL_REACHED      ⋯\n",
       " 593 │        2200.0      0.01         2  LN_SBPLX        3  XTOL_REACHED\n",
       " 594 │        2200.0      0.01         2  LN_SBPLX        4  XTOL_REACHED\n",
       " 595 │        2200.0      0.01         2  LN_SBPLX        5  XTOL_REACHED\n",
       " 596 │        2200.0      0.01         2  LN_SBPLX        6  XTOL_REACHED      ⋯\n",
       " 597 │        2200.0      0.01         2  LN_SBPLX        7  XTOL_REACHED\n",
       " 598 │        2200.0      0.01         2  LN_SBPLX        8  XTOL_REACHED\n",
       " 599 │        2200.0      0.01         2  LN_SBPLX        9  XTOL_REACHED\n",
       " 600 │        2200.0      0.01         2  LN_SBPLX       10  XTOL_REACHED      ⋯\n",
       "\u001b[36m                                                 11 columns and 579 rows omitted\u001b[0m"
      ]
     },
     "execution_count": 55,
     "metadata": {},
     "output_type": "execute_result"
    }
   ],
   "source": [
    "df2"
   ]
  },
  {
   "cell_type": "code",
   "execution_count": 56,
   "id": "9ea7de07-7fe7-45ff-acfa-681509ed243a",
   "metadata": {},
   "outputs": [
    {
     "data": {
      "text/plain": [
       "\"df4_dataset.csv\""
      ]
     },
     "execution_count": 56,
     "metadata": {},
     "output_type": "execute_result"
    }
   ],
   "source": [
    "CSV.write(\"df4_dataset.csv\", df2)"
   ]
  },
  {
   "cell_type": "code",
   "execution_count": null,
   "id": "05b41e59-dd80-4d5b-b7b8-e3b00d570091",
   "metadata": {
    "tags": []
   },
   "outputs": [],
   "source": [
    "df_gsrand = groupby(df2, [ :dispatch, :shed_max, :algo])"
   ]
  },
  {
   "cell_type": "code",
   "execution_count": null,
   "id": "30e0262e-a76e-47e0-99ad-50c5543876a2",
   "metadata": {
    "tags": []
   },
   "outputs": [],
   "source": [
    "df_stats = combine(df_gsrand,\n",
    "    :lcoe_opt => minimum, :lcoe_opt => mean,:lcoe_opt=> maximum\n",
    "   )"
   ]
  },
  {
   "cell_type": "code",
   "execution_count": 15,
   "id": "59c0f2bc-269c-44c3-8bb9-7d5322fe0aac",
   "metadata": {
    "tags": []
   },
   "outputs": [
    {
     "data": {
      "text/plain": [
       "6-element Vector{Float64}:\n",
       " 16553.83\n",
       " 12465.94\n",
       "  1520.34\n",
       "  1090.55\n",
       "  1594.19\n",
       " 16478.6"
      ]
     },
     "execution_count": 15,
     "metadata": {},
     "output_type": "execute_result"
    }
   ],
   "source": [
    "x_1=[16553.83,12465.94,1520.34,1090.55,1594.19, 16478.6]"
   ]
  },
  {
   "cell_type": "code",
   "execution_count": 16,
   "id": "33911015-df7e-42dc-b8c1-e835888cfe06",
   "metadata": {
    "tags": []
   },
   "outputs": [
    {
     "data": {
      "text/plain": [
       "6-element Vector{Float64}:\n",
       "   385.18\n",
       "  5129.99\n",
       "  1877.68\n",
       "  2062.95\n",
       "  1449.69\n",
       " 19090.86"
      ]
     },
     "execution_count": 16,
     "metadata": {},
     "output_type": "execute_result"
    }
   ],
   "source": [
    "x_2=[385.18,5129.99,1877.68,2062.95,1449.69,19090.86]"
   ]
  },
  {
   "cell_type": "code",
   "execution_count": 16,
   "id": "2f09b335-af30-4931-ac55-7d3d1e0a2b94",
   "metadata": {
    "tags": []
   },
   "outputs": [
    {
     "data": {
      "text/plain": [
       "6-element Vector{Float64}:\n",
       "   385.10371\n",
       "  6300.94927\n",
       "  1877.7\n",
       "  1659.50772\n",
       "  1402.49858\n",
       " 18108.3348"
      ]
     },
     "execution_count": 16,
     "metadata": {},
     "output_type": "execute_result"
    }
   ],
   "source": [
    "x=[385.10371, 6300.94927, 1877.7, 1659.50772, 1402.49858, 18108.3348]\n"
   ]
  },
  {
   "cell_type": "code",
   "execution_count": 17,
   "id": "4806b096-c526-442c-9357-1e3be84f7943",
   "metadata": {
    "tags": []
   },
   "outputs": [
    {
     "data": {
      "text/plain": [
       "Microgrid{Float64}(Project(25, 0.05, 1.0, \"€\"), [1453.0, 1331.0, 1214.0, 1146.0, 1078.0, 1035.0, 1032.0, 1072.0, 1142.0, 1208.0  …  1479.0, 1508.0, 1410.0, 1370.0, 1467.0, 1587.0, 1561.0, 1472.0, 1533.0, 1483.0], DispatchableCompound{Float64}(ProductionUnit{Float64}[ProductionUnit{Float64}(2000.0, 0.0, 0.24, 1.0, 400.0, 0.02, 15000.0, 0.0, 1.0, 1.0, \"L\", \"KWh\")], ProductionUnit{Float64}[ProductionUnit{Float64}(1402.49858, 0.0, 0.0625, 0.0, 1600.0, 10.0, 45000.0, 0.05, 1.0, 1.0, \"Kg\", \"KWh\")]), ProductionUnit{Float64}[ProductionUnit{Float64}(1659.50772, 0.0, 56.0, 0.0, 1600.0, 10.0, 45000.0, 0.05, 1.0, 1.0, \"KWh\", \"Kg\")], TankCompound{Float64}(Tank{Float64}(0.0, 0.0, 0.0, 25.0, 0.0, 0.0, 0.0, 1.0, 1.0, 1.0, 1.0), Tank{Float64}(18108.3348, 500.0, 0.0025, 25.0, 0.0, 0.1, 0.1, 1.0, 14.0, 1.0, 1.0)), Battery{Float64}(385.10371, 350.0, 10.0, 15.0, 3000.0, 1.0, 1.0, 0.05, 0.0, 1.0, 0.0, 1.0, 1.0), NonDispatchableSource[Photovoltaic{Float64}(6300.94927, [0.0, 0.0, 0.0, 0.0, 0.0, 0.0, 0.0, 0.0, 0.0, 7.000000000000001e-5  …  0.45131, 0.30678, 0.0, 0.0, 0.0, 0.0, 0.0, 0.0, 0.0, 0.0], 1200.0, 20.0, 25.0, 1.0, 1.0, 1.0), WindPower{Float64}(1877.7, [0.03184904690521816, 0.1104932647748532, 0.24596484619739856, 0.44422012231738006, 0.6554128208926687, 0.8470913237698507, 0.9579413031865969, 0.9735278942424532, 0.9837469734016646, 0.9903667231838823  …  0.011233045262998936, 0.018460507449516883, 0.023644167600765466, 0.02969747711584798, 0.036359043012900244, 0.03713796382151399, 0.037530379586714784, 0.03792477182913709, 0.037530379586714784, 0.03674751985711801], 3500.0, 100.0, 25.0, 1.0, 1.0)])"
      ]
     },
     "execution_count": 17,
     "metadata": {},
     "output_type": "execute_result"
    }
   ],
   "source": [
    "mg_best_1=new_microgrid(x/1000)"
   ]
  },
  {
   "cell_type": "code",
   "execution_count": 18,
   "id": "58a943a5-2ee7-4c99-900e-e9eb0c7b6fb0",
   "metadata": {
    "tags": []
   },
   "outputs": [
    {
     "data": {
      "text/plain": [
       "Microgrid{Float64}(Project(25, 0.05, 1.0, \"€\"), [1453.0, 1331.0, 1214.0, 1146.0, 1078.0, 1035.0, 1032.0, 1072.0, 1142.0, 1208.0  …  1479.0, 1508.0, 1410.0, 1370.0, 1467.0, 1587.0, 1561.0, 1472.0, 1533.0, 1483.0], DispatchableCompound{Float64}(ProductionUnit{Float64}[ProductionUnit{Float64}(2000.0, 0.0, 0.24, 1.0, 400.0, 0.02, 15000.0, 0.0, 1.0, 1.0, \"L\", \"KWh\")], ProductionUnit{Float64}[ProductionUnit{Float64}(1449.69, 0.0, 0.0625, 0.0, 1600.0, 10.0, 45000.0, 0.05, 1.0, 1.0, \"Kg\", \"KWh\")]), ProductionUnit{Float64}[ProductionUnit{Float64}(2062.95, 0.0, 56.0, 0.0, 1600.0, 10.0, 45000.0, 0.05, 1.0, 1.0, \"KWh\", \"Kg\")], TankCompound{Float64}(Tank{Float64}(0.0, 0.0, 0.0, 25.0, 0.0, 0.0, 0.0, 1.0, 1.0, 1.0, 1.0), Tank{Float64}(19090.86, 0.8, 0.0025, 25.0, 0.0, 0.12, 0.1, 1.0, 6.5, 1.0, 1.0)), Battery{Float64}(385.18, 350.0, 10.0, 15.0, 3000.0, 1.0, 1.0, 0.05, 0.0, 1.0, 0.0, 1.0, 1.0), NonDispatchableSource[Photovoltaic{Float64}(5129.99, [0.0, 0.0, 0.0, 0.0, 0.0, 0.0, 0.0, 0.0, 0.0, 7.000000000000001e-5  …  0.45131, 0.30678, 0.0, 0.0, 0.0, 0.0, 0.0, 0.0, 0.0, 0.0], 1200.0, 20.0, 25.0, 1.0, 1.0, 1.0), WindPower{Float64}(1877.68, [0.03184904690521816, 0.1104932647748532, 0.24596484619739856, 0.44422012231738006, 0.6554128208926687, 0.8470913237698507, 0.9579413031865969, 0.9735278942424532, 0.9837469734016646, 0.9903667231838823  …  0.011233045262998936, 0.018460507449516883, 0.023644167600765466, 0.02969747711584798, 0.036359043012900244, 0.03713796382151399, 0.037530379586714784, 0.03792477182913709, 0.037530379586714784, 0.03674751985711801], 3500.0, 100.0, 25.0, 1.0, 1.0)])"
      ]
     },
     "execution_count": 18,
     "metadata": {},
     "output_type": "execute_result"
    }
   ],
   "source": [
    "mg_best_2=new_microgrid(x_2/1000)"
   ]
  },
  {
   "cell_type": "code",
   "execution_count": 18,
   "id": "f65e60a6-be1a-4de2-a595-5da8f54eea82",
   "metadata": {
    "tags": []
   },
   "outputs": [
    {
     "data": {
      "text/plain": [
       "(OperationTraj{Float64}([0.0, 0.0, 0.0, 0.0, -152.66865379016417, -555.5833786426488, -766.726384993473, -755.9933270190545, -705.1816919563057, -652.052662571276  …  -1385.7737041340329, -459.668511888558, 1365.6033464960426, 1314.2370472195723, 1398.728624934677, 1517.266045332343, 1490.5292062500257, 1400.7886559364292, 1462.5292062500257, 1413.9991819642896], [1393.1970446260718, 1123.5267967322582, 752.1518082951447, 311.8878763246554, 0.0, 0.0, 0.0, 0.0, 0.0, 0.0  …  0.0, 0.0, 0.0, 0.0, 0.0, 0.0, 0.0, 0.0, 0.0, 0.0], [59.80295537392815, 207.47320326774187, 461.84819170485525, 834.1121236753446, 1230.6686537901642, 1590.5833786426488, 1798.726384993473, 1827.9933270190545, 1847.1816919563057, 1860.052662571276  …  2864.773704134033, 1967.668511888558, 44.39665350395732, 55.76295278042775, 68.27137506532279, 69.73395466765682, 70.47079374997435, 71.2113440635707, 70.47079374997435, 69.00081803571048], [0.0, 0.0, 0.0, 0.0, 0.0, 0.0, 0.0, 0.0, 0.0, 0.0  …  0.0, 0.0, 0.0, 0.0, 0.0, 0.0, 0.0, 0.0, 0.0, 0.0], [0.0, 0.0, 0.0, 0.0, 0.0, 0.0, 0.0, 0.0, 0.0, 0.0  …  0.0, 0.0, 1365.6033464960426, 1314.2370472195723, 1398.728624934677, 1402.49858, 1402.49858, 1400.7886559364292, 1402.49858, 1334.398954541135], [0.0, 0.0, 0.0, 0.0, 152.66865379016417, 555.5833786426488, 766.726384993473, 755.9933270190545, 705.1816919563057, 652.052662571276  …  1385.7737041340329, 459.668511888558, 0.0, 0.0, 0.0, 0.0, 0.0, 0.0, 0.0, 0.0], [0.0, 0.0, 0.0, 0.0, 0.0, 0.0, 0.0, 0.0, 0.0, 0.0  …  359.5510768533205, 359.5510768533205, 359.5510768533205, 359.5510768533205, 359.5510768533205, 239.04523825436024, 146.6130806918332, 146.6130806918332, 83.58092312930616, 0.0006843349938350229], [0.0, 0.0, 0.0, 0.0, 0.0, 0.0, 0.0, 0.0, 0.0, 0.0  …  0.0, 0.0, 0.0, 0.0, 0.0, 114.76746533234314, 88.03062625002576, 0.0, 60.03062625002576, 79.60022742315459], [1810.8334800000002, 1810.8334800000002, 1810.8334800000002, 1810.8334800000002, 1810.8334800000002, 1813.5597059605388, 1823.4808377220147, 1837.1723803111838, 1850.6722611508098, 1863.2647913643152  …  2491.4533867867667, 2499.661753070491, 2414.3115439144885, 2332.1717284632655, 2244.751189404848, 2157.095028154848, 2069.438866904848, 1981.8895759088211, 1894.2334146588212, 1810.8334800000002], [0.0, 0.0, 0.0, 0.0, 0.0, 0.0, 0.0, 0.0, 0.0, 0.0  …  0.0, 0.0, 0.0, 0.0, 0.0, 0.0, 0.0, 0.0, 0.0, 0.0], [0.0, 0.0, 0.0, 0.0, 0.0, 0.0, 0.0, 0.0, 0.0, 0.0  …  0.0, 0.0, 0.0, 0.0, 0.0, 0.0, 0.0, 0.0, 0.0, 0.0]), OperationStats(6.771398236474022e6, 3580.76352597813, 1393.1970446260718, 4.0, 4.0, 0.0005285276199347821, 0.0, 0.0, 0.0, 1.404521252287392e6, 2837.0, 87782.578267962, 87782.5782679623, 5012.0, 4.915824383005888e6, 3.511303130718496e6, 27.164399269104692, 10984.166827543679, 9938.055049363333, 1046.1110938453521, 2.7736000459627314e6, 6173.440463041142, 0.2124168052252919, 1.3057347524933428e7, 1.0283747478970695e7, 1.0), MicrogridCosts(0.3895347633054995, 3.717552724309695e7, CostFactors(3.717552724309695e7, 2.9046604571219996e7, 3.9187813104148568e6, 4.909560142052783e6, 0.0, -699418.7805906909), CostFactors(564321.5404244324, 800000.0, 0.0, 563.7577826417898, 0.0, -236242.21735820948), CostFactors(240629.52689809768, 134786.2985, 64834.51416689326, 54276.30340918172, 0.0, -13267.589177977296), CostFactors[CostFactors(9.337243718496803e6, 7.561139124e6, 0.0, 1.7761045944968024e6, 0.0, -0.0), CostFactors(9.218369971166223e6, 6.57195e6, 0.0, 2.6464199711662224e6, 0.0, -0.0)], CostFactors(5.539079015835797e6, 2.655212352e6, 2.8189918590390934e6, 233890.0981260331, 0.0, -169015.2933293293), CostFactors(3.19572635688846e6, 2.243997728e6, 1.03495493720887e6, 197667.37240476473, 0.0, -280893.6807251749), CostFactors(0.0, 0.0, 0.0, 0.0, 0.0, -0.0), CostFactors(9.080157113387136e6, 9.07951906872e6, 0.0, 638.0446671364475, 0.0, -0.0)))"
      ]
     },
     "execution_count": 18,
     "metadata": {},
     "output_type": "execute_result"
    }
   ],
   "source": [
    " traj_opt_1, stats_opt_1, costs_opt_1 = simulate_microgrid(x/1000,capex_def,dispatch_2)"
   ]
  },
  {
   "cell_type": "code",
   "execution_count": 20,
   "id": "854c68c2-aa59-4f85-b67f-298aa5497456",
   "metadata": {
    "tags": []
   },
   "outputs": [
    {
     "data": {
      "text/plain": [
       "(OperationTraj{Float64}([1393.19768160701, 1123.5290065975537, 752.1567275920686, 311.89676072710176, -152.65554553374636, -555.5664368161733, -766.7072261674093, -755.9738564611696, -705.1620170168376, -651.9508880879123  …  -857.3078513294276, -100.44125782780884, 1365.6038193793947, 1314.2376411691146, 1398.7293521155375, 1517.2667880916197, 1490.5299568576174, 1400.789414431866, 1462.5299568576174, 1413.9999169146868], [0.0, 0.0, 0.0, 0.0, 0.0, 0.0, 0.0, 0.0, 0.0, 0.0  …  0.0, 0.0, 0.0, 0.0, 0.0, 0.0, 0.0, 0.0, 0.0, 0.0], [59.802318392990045, 207.47099340244637, 461.84327240793135, 834.1032392728982, 1230.6555455337464, 1590.5664368161733, 1798.7072261674093, 1827.9738564611696, 1847.1620170168376, 1859.9508880879123  …  2336.3078513294276, 1608.4412578278088, 44.3961806206053, 55.76235883088544, 68.27064788446253, 69.7332119083804, 70.47004314238262, 71.21058556813414, 70.47004314238262, 69.00008308531335], [0.0, 0.0, 0.0, 0.0, 0.0, 0.0, 0.0, 0.0, 0.0, 0.0  …  0.0, 0.0, 0.0, 0.0, 0.0, 0.0, 0.0, 0.0, 0.0, 0.0], [1393.19768160701, 1123.5290065975537, 752.1567275920686, 311.89676072710176, 0.0, 0.0, 0.0, 0.0, 0.0, 0.0  …  0.0, 0.0, 1365.6038193793947, 1314.2376411691146, 1398.7293521155375, 1449.69, 1449.69, 1400.789414431866, 1449.69, 1413.9999169146868], [0.0, 0.0, 0.0, 0.0, 152.65554553374636, 555.5664368161733, 766.7072261674093, 755.9738564611696, 705.1620170168376, 651.9508880879123  …  857.3078513294276, 0.0, 0.0, 0.0, 0.0, 0.0, 0.0, 0.0, 0.0, 0.0], [0.0, 0.0, 0.0, 0.0, 0.0, 0.0, 0.0, 0.0, 0.0, 0.0  …  33.123678341608574, 128.54287327802697, 128.54287327802697, 128.54287327802697, 128.54287327802697, 57.58724578182637, 14.70529108132812, 14.70529108132812, 1.2233363808298705, 1.2233363808298705], [0.0, 0.0, 0.0, 0.0, 0.0, 0.0, 0.0, 0.0, 0.0, 0.0  …  0.0, -100.44125782780884, 0.0, 0.0, 0.0, 67.57678809161962, 40.83995685761738, 0.0, 12.83995685761738, 0.0], [2290.9032, 2203.828344899562, 2133.607781987215, 2086.5979865127106, 2067.1044389672666, 2069.8304308517977, 2079.751260080658, 2093.4424605479335, 2106.9419936990257, 2119.5341725743265  …  2612.4810039875256, 2612.4810039875256, 2527.1307652763135, 2444.990912703244, 2357.5703281960227, 2266.9647031960226, 2176.3590781960224, 2088.809739794031, 1998.204114794031, 1909.8291199868631], [0.0, 0.0, 0.0, 0.0, 0.0, 0.0, 0.0, 0.0, 0.0, 0.0  …  0.0, 0.0, 0.0, 0.0, 0.0, 0.0, 0.0, 0.0, 0.0, 0.0], [0.0, 0.0, 0.0, 0.0, 0.0, 0.0, 0.0, 0.0, 0.0, 0.0  …  0.0, 0.0, 0.0, 0.0, 0.0, 0.0, 0.0, 0.0, 0.0, 0.0]), OperationStats(6.774977520715849e6, 1.4792841514041015, 1.4792841514041015, 1.0, 1.0, 2.1834520098204018e-7, 0.0, 0.0, 0.0, 1.4383827560788672e6, 2912.0, 89898.9222549292, 89517.84817491642, 4844.0, 5.012999497795319e6, 3.5746405588464527e6, 26.909797550016137, 10883.983279521392, 9846.24836110904, 1036.5115820315225, 1.493622134973457e6, 5218.6929994914135, 0.1261052083387177, 1.1844254132324168e7, 1.0350631997350711e7, 1.0), MicrogridCosts(0.2904182658512201, 2.7730924306812663e7, CostFactors(2.7730924306812663e7, 1.93130685588e7, 4.587230517425491e6, 4.6430206886376105e6, 0.0, -812395.4580504415), CostFactors(564321.5404244324, 800000.0, 0.0, 563.7577826417898, 0.0, -236242.21735820948), CostFactors(240677.19620413234, 134813.0, 64847.35804493794, 54287.05567949116, 0.0, -13270.21752029679), CostFactors[CostFactors(7.602023893687278e6, 6.155988e6, 0.0, 1.4460358936872778e6, 0.0, -0.0), CostFactors(9.21827178327709e6, 6.57188e6, 0.0, 2.64639178327709e6, 0.0, -0.0)], CostFactors(6.721460359329116e6, 3.3007199999999995e6, 3.4310669638575735e6, 290751.0294252201, 0.0, -301077.6339536779), CostFactors(3.3533333112842166e6, 2.319504e6, 1.0913161955229798e6, 204318.50497949412, 0.0, -261805.3892182573), CostFactors(0.0, 0.0, 0.0, 0.0, 0.0, -0.0), CostFactors(30836.222606395306, 30163.558800000003, 0.0, 672.6638063953026, 0.0, -0.0)))"
      ]
     },
     "execution_count": 20,
     "metadata": {},
     "output_type": "execute_result"
    }
   ],
   "source": [
    " traj_opt_2, stats_opt_2, costs_opt_2 = simulate_microgrid(x_2/1000,capex_def,dispatch_2)"
   ]
  },
  {
   "cell_type": "code",
   "execution_count": 35,
   "id": "fe7e451c-e293-4eb4-8674-58d988276adb",
   "metadata": {
    "tags": []
   },
   "outputs": [
    {
     "data": {
      "text/plain": [
       "plot_oper_traj (generic function with 1 method)"
      ]
     },
     "execution_count": 35,
     "metadata": {},
     "output_type": "execute_result"
    }
   ],
   "source": [
    "function plot_oper_traj(mg, oper_traj)\n",
    " ns=Int64(nsteps/730)\n",
    "     z=zeros(Float64,ns)\n",
    "tm=zeros(Float64,ns +1)\n",
    "    tm[end]=nsteps/24\n",
    " for i=1:ns\n",
    "    z[i]= oper_traj.LoH[i*730+1]\n",
    "    tm[i]=(i-1)*730/24 \n",
    "end\n",
    "    fig,( ax1, ax2) = plt.subplots(2,1)\n",
    "    y1 = min.(oper_traj.Prenew_pot,mg.load)\n",
    "    y2 = max.( oper_traj.Pbatt,0.0)\n",
    "    y3 = oper_traj.Pfc\n",
    "    y4 = abs.(min.( oper_traj.Pbatt,0.0))\n",
    "    y5 = oper_traj.Pelyz\n",
    "    y6 = oper_traj.power_shedding\n",
    "    y7 = oper_traj.power_curtailment\n",
    "    \n",
    " \n",
    "        y=np.vstack([y1,y2,y3,y4,y5,y6,y7])\n",
    "        fieldNames =([\"Pren used by the load\",\"battery_discharge\",\"fuel cell\",\"battery_charge\", \"elyz\",\"shedding\",\"spillage\"])\n",
    "    \n",
    "    fieldColors = ([\"orange\",\"green\",\"pink\",\"green\",\"magenta\",\"black\",\"red\"])\n",
    "         \n",
    "    \n",
    "    ax1.plot(td, oper_traj.Prenew_pot,lw=2, \"tab:orange\", label=\"ren\")\n",
    "    ax1.plot(td, mg.load,lw=2, label=\"load\")\n",
    "    stacks = ax1.stackplot(td,y,labels=fieldNames, colors = fieldColors,alpha=0.8)\n",
    "   \n",
    "    stacks[2].set_hatch(\"-\")\n",
    "    stacks[4].set_hatch(\"+\")\n",
    "    stacks[6].set_hatch(\"\\\\\")   \n",
    "    stacks[7].set_hatch(\"\\\\\") \n",
    "    \n",
    "    ax3=ax1.twinx()\n",
    "    ax3.set_ylim(0, 2)\n",
    "    ax3.plot(td, oper_traj.Ebatt[1:end-1]/mg.storage.energy_rated, ls=\"--\",\"C2\",label=\"hourly battery level\")\n",
    "    \n",
    "    ax4=ax2.twinx()\n",
    "   \n",
    "  ax4.plot(td, oper_traj.LoH[1:end-1], \"C2\")\n",
    "    \n",
    "    ax2.stairs(z,tm,fill=\"True\",label=\"level of H2 at the end of each month\")\n",
    "         \n",
    "    \n",
    "    ax1.set_title(\"hourly power repartition\")\n",
    "    ax2.set_title(\"H2 level\")\n",
    "    ax1.legend()\n",
    "    ax1.grid(true)\n",
    "    ax1.set(ylabel=\"kW\")\n",
    "    ax2.legend()\n",
    "    ax3.legend()\n",
    "    ax2.grid(true)\n",
    "    ax2.set(ylabel=\"kg\")\n",
    "    \n",
    "       fig.tight_layout()\n",
    "\n",
    "\n",
    "   \n",
    "     return fig, ax1, ax2\n",
    "    \n",
    "end"
   ]
  },
  {
   "cell_type": "code",
   "execution_count": 21,
   "id": "bea92522-3fb7-4444-9ce1-889d3d0a4a8b",
   "metadata": {
    "tags": []
   },
   "outputs": [],
   "source": [
    "if with_plots\n",
    "    fig1, ax1, ax2= plot_oper_traj(mg_best_1,traj_opt_1)\n",
    "     \n",
    "    pygui(true)\n",
    "   plt.show()\n",
    "   \n",
    "end;"
   ]
  },
  {
   "cell_type": "code",
   "execution_count": 23,
   "id": "93e473b9-e8a7-4575-a285-65b9b987ecef",
   "metadata": {
    "tags": []
   },
   "outputs": [],
   "source": [
    "if with_plots\n",
    "    fig2, ax1, ax2= plot_oper_traj(mg_best_2,traj_opt_2)\n",
    "     \n",
    "    pygui(true)\n",
    "   plt.show()\n",
    "   \n",
    "end;"
   ]
  },
  {
   "cell_type": "code",
   "execution_count": 40,
   "id": "b1ecc08c-1241-4e48-84bb-a57b291b3475",
   "metadata": {
    "tags": []
   },
   "outputs": [
    {
     "data": {
      "text/plain": [
       "(Figure(PyObject <Figure size 800x600 with 4 Axes>), (PyObject <Axes: title={'center': 'hourly power repartition'}, ylabel='kW'>, PyObject <Axes: title={'center': 'hourly power repartition'}, ylabel='kw'>, PyObject <Axes: >, PyObject <Axes: >))"
      ]
     },
     "execution_count": 40,
     "metadata": {},
     "output_type": "execute_result"
    }
   ],
   "source": [
    "comp_oper_traj(mg_best_1,mg_best_2,traj_opt_1,traj_opt_2,costs_opt_1,costs_opt_2)"
   ]
  },
  {
   "cell_type": "code",
   "execution_count": 35,
   "id": "0a6f9dbf-1a76-48d4-8060-5e0c11791493",
   "metadata": {},
   "outputs": [
    {
     "data": {
      "text/plain": [
       "0.8"
      ]
     },
     "execution_count": 35,
     "metadata": {},
     "output_type": "execute_result"
    }
   ],
   "source": [
    "mg_best_1.tanks.h2Tank.investment_price"
   ]
  },
  {
   "cell_type": "code",
   "execution_count": null,
   "id": "86f26f9c-d2e8-4d66-8873-22ebb765259f",
   "metadata": {},
   "outputs": [],
   "source": []
  }
 ],
 "metadata": {
  "kernelspec": {
   "display_name": "Julia 1.9.3",
   "language": "julia",
   "name": "julia-1.9"
  },
  "language_info": {
   "file_extension": ".jl",
   "mimetype": "application/julia",
   "name": "julia",
   "version": "1.9.3"
  }
 },
 "nbformat": 4,
 "nbformat_minor": 5
}
