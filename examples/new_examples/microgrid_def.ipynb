{
 "cells": [
  {
   "cell_type": "code",
   "execution_count": 1,
   "id": "21947fca-8abd-4dfe-a902-b22dc68b6b2d",
   "metadata": {
    "tags": []
   },
   "outputs": [
    {
     "data": {
      "text/plain": [
       "PyObject <module 'numpy' from 'C:\\\\Users\\\\nikiemaje\\\\.julia\\\\conda\\\\3\\\\x86_64\\\\lib\\\\site-packages\\\\numpy\\\\__init__.py'>"
      ]
     },
     "execution_count": 1,
     "metadata": {},
     "output_type": "execute_result"
    }
   ],
   "source": [
    "using CSV, DataFrames\n",
    "using Microgrids\n",
    "using NLopt # optimization solvers\n",
    "using Printf # pretty print results\n",
    "using PyPlot\n",
    "using PyCall\n",
    "using BenchmarkTools # for timing performance, optional\n",
    "np=pyimport(\"numpy\")\n"
   ]
  },
  {
   "cell_type": "code",
   "execution_count": 2,
   "id": "04b025c7-5c46-4efe-8497-83dc2637438e",
   "metadata": {
    "tags": []
   },
   "outputs": [
    {
     "data": {
      "text/plain": [
       "true"
      ]
     },
     "execution_count": 2,
     "metadata": {},
     "output_type": "execute_result"
    }
   ],
   "source": [
    "with_plots = isdefined(Main, :PyPlot)"
   ]
  },
  {
   "cell_type": "code",
   "execution_count": null,
   "id": "a5f54d21-8371-49d8-a81a-f170548a9bdf",
   "metadata": {
    "tags": []
   },
   "outputs": [],
   "source": []
  },
  {
   "cell_type": "code",
   "execution_count": 3,
   "id": "a5a038f2-99e7-4727-8e3e-193569b45618",
   "metadata": {
    "tags": []
   },
   "outputs": [
    {
     "ename": "LoadError",
     "evalue": "UndefVarError: `nsteps` not defined",
     "output_type": "error",
     "traceback": [
      "UndefVarError: `nsteps` not defined",
      "",
      "Stacktrace:",
      " [1] top-level scope",
      "   @ In[3]:1"
     ]
    }
   ],
   "source": [
    "td = collect((0:nsteps-1)/24) "
   ]
  },
  {
   "cell_type": "code",
   "execution_count": 4,
   "id": "17f47887-a56f-4cac-940e-fb4ed0f2b7eb",
   "metadata": {
    "tags": []
   },
   "outputs": [
    {
     "data": {
      "text/plain": [
       "Microgrid{Float64}(Project(25, 0.05, 1.0, \"€\"), [1453.0, 1331.0, 1214.0, 1146.0, 1078.0, 1035.0, 1032.0, 1072.0, 1142.0, 1208.0  …  1479.0, 1508.0, 1410.0, 1370.0, 1467.0, 1587.0, 1561.0, 1472.0, 1533.0, 1483.0], DispatchableCompound{Float64}(ProductionUnit{Float64}[ProductionUnit{Float64}(2000.0, 0.0, 0.24, 1.0, 400.0, 0.02, 15000.0, 0.0, 1.0, 1.0, \"L\", \"KWh\")], ProductionUnit{Float64}[ProductionUnit{Float64}(1800.0, 0.0, 0.0625, 0.0, 1000.0, 10.0, 45000.0, 0.05, 1.0, 1.0, \"Kg\", \"KWh\")]), ProductionUnit{Float64}[ProductionUnit{Float64}(2000.0, 0.0, 56.0, 0.0, 1000.0, 10.0, 45000.0, 0.05, 1.0, 1.0, \"KWh\", \"Kg\")], TankCompound{Float64}(Tank{Float64}(0.0, 0.0, 0.0, 25.0, 0.0, 0.0, 0.0, 1.0, 1.0, 1.0), Tank{Float64}(10000.0, 0.8, 0.0025, 25.0, 0.0, 0.0, 0.1, 1.0, 1.0, 1.0)), Battery{Float64}(5000.0, 350.0, 10.0, 15.0, 3000.0, 1.0, 1.0, 0.05, 0.0, 0.0, 1.0, 1.0, 1.0), NonDispatchableSource[Photovoltaic{Float64}(3000.0, [0.0, 0.0, 0.0, 0.0, 0.0, 0.0, 0.0, 0.0, 0.0, 7.000000000000001e-5  …  0.45131, 0.30678, 0.0, 0.0, 0.0, 0.0, 0.0, 0.0, 0.0, 0.0], 1200.0, 20.0, 25.0, 1.0, 1.0, 1.0), WindPower{Float64}(1800.0, [0.03184904690521816, 0.1104932647748532, 0.24596484619739856, 0.44422012231738006, 0.6554128208926687, 0.8470913237698507, 0.9579413031865969, 0.9735278942424532, 0.9837469734016646, 0.9903667231838823  …  0.011233045262998936, 0.018460507449516883, 0.023644167600765466, 0.02969747711584798, 0.036359043012900244, 0.03713796382151399, 0.037530379586714784, 0.03792477182913709, 0.037530379586714784, 0.03674751985711801], 3500.0, 100.0, 25.0, 1.0, 1.0)])"
      ]
     },
     "execution_count": 4,
     "metadata": {},
     "output_type": "execute_result"
    }
   ],
   "source": [
    "mg= default_microgrid()"
   ]
  },
  {
   "cell_type": "code",
   "execution_count": 5,
   "id": "824c7932-f17b-40e4-8ea6-f220ec80263c",
   "metadata": {
    "tags": []
   },
   "outputs": [
    {
     "data": {
      "text/plain": [
       "simulate_microgrid"
      ]
     },
     "execution_count": 5,
     "metadata": {},
     "output_type": "execute_result"
    }
   ],
   "source": [
    "\"\"\"Simulate the performance of a Microgrid project of size `x`\n",
    "with x=[power_rated_gen, energy_rated_sto, power_rated_pv, power_rated_wind]\n",
    "\n",
    "Returns mg, traj, stats, costs\n",
    "\"\"\"\n",
    "    function simulate_microgrid(x,dispatch)\n",
    "    # Split decision variables (converted MW → kW):\n",
    "   \n",
    "    mg = new_microgrid(x,dispatch)\n",
    "    # Launch simulation:\n",
    "    traj, stats, costs = simulate(mg,dispatch)\n",
    "\n",
    "    return  traj ,stats, costs\n",
    "end"
   ]
  },
  {
   "cell_type": "code",
   "execution_count": 6,
   "id": "a34cb909-6b9b-47c6-aaea-a45c6d0ebff1",
   "metadata": {},
   "outputs": [
    {
     "data": {
      "text/plain": [
       "([5.0, 3.0, 1.8, 2.0, 1.8, 10.0], 0.26345419104330475, 23.59720165769015)"
      ]
     },
     "execution_count": 6,
     "metadata": {},
     "output_type": "execute_result"
    }
   ],
   "source": [
    " # Baseline sizing: same as in Microgrid_Wind-Solar.ipynb notebook\n",
    "x_base = [energy_rated_sto, power_rated_pv,power_rated_wind, power_rated_elyz,power_rated_fc ,capacity_rated_hytank]/1000.\n",
    "# run simulation:\n",
    "traj, stats, costs = simulate_microgrid(x_base,dispatch_2)\n",
    "x_base, costs.lcoe, costs.npc/1e6"
   ]
  },
  {
   "cell_type": "code",
   "execution_count": 7,
   "id": "f8c047df-66cc-47a2-9468-7c9082b82c1f",
   "metadata": {
    "tags": []
   },
   "outputs": [
    {
     "data": {
      "text/plain": [
       "plot_oper_traj (generic function with 1 method)"
      ]
     },
     "execution_count": 7,
     "metadata": {},
     "output_type": "execute_result"
    }
   ],
   "source": [
    "\n",
    "\n",
    "function plot_oper_traj(mg, oper_traj)\n",
    " \n",
    "     z=zeros(Float64,12)\n",
    "tm=zeros(Float64,13)\n",
    "tm[13]=8760/24\n",
    " for i=1:12  \n",
    "    z[i]= oper_traj.LoH[i*730+1]\n",
    "    tm[i]=(i-1)*730/24 \n",
    "end\n",
    "    fig,( ax1, ax2) = plt.subplots(2,1)\n",
    "    y1 = min.(oper_traj.Prenew_pot,mg.load)\n",
    "    y2 = max.( oper_traj.Pbatt,0.0)\n",
    "    y3 = oper_traj.Pfc\n",
    "    y4 = abs.(min.( oper_traj.Pbatt,0.0))\n",
    "    y5 = oper_traj.Pelyz\n",
    "    y6 = oper_traj.power_shedding\n",
    "    y7 = oper_traj.power_curtailment\n",
    "    \n",
    " \n",
    "        y=np.vstack([y1,y2,y3,y4,y5,y6,y7])\n",
    "        fieldNames =([\"Pren used by the load\",\"battery_discharge\",\"fuel cell\",\"battery_charge\", \"elyz\",\"shedding\",\"spillage\"])\n",
    "    \n",
    "    fieldColors = ([\"orange\",\"green\",\"pink\",\"green\",\"magenta\",\"black\",\"red\"])\n",
    "         \n",
    "    \n",
    "    ax1.plot(td, oper_traj.Prenew_pot,lw=2, \"tab:orange\", label=\"ren\")\n",
    "    ax1.plot(td, mg.load,lw=2, label=\"load\")\n",
    "    stacks = ax1.stackplot(td,y,labels=fieldNames, colors = fieldColors,alpha=0.8)\n",
    "    ax2.plot(td, oper_traj.LoH[1:end-1]/mg.tanks.h2Tank.capacity, \"C2\")\n",
    "    stacks[2].set_hatch(\"-\")\n",
    "    stacks[4].set_hatch(\"+\")\n",
    "    stacks[6].set_hatch(\"\\\\\")   \n",
    "    stacks[7].set_hatch(\"\\\\\") \n",
    "    \n",
    "    ax3=ax1.twinx()\n",
    "    ax3.set_ylim(0, 2)\n",
    "    ax3.plot(td, oper_traj.Ebatt[1:end-1]/mg.storage.energy_rated, ls=\"--\",\"C2\",label=\"hourly battery level\")\n",
    "    ax2.plot(td, oper_traj.LoH[1:end-1], \"C2\",label=\"hourly H2 level\")\n",
    "    \n",
    "    ax2.stairs(z,tm,fill=\"True\",label=\"level of H2 at the end of each month\")\n",
    "         \n",
    "    \n",
    "    ax1.set_title(\"hourly power repartition\")\n",
    "    ax2.set_title(\"H2 level\")\n",
    "    ax1.legend()\n",
    "    ax1.grid(true)\n",
    "    ax1.set(ylabel=\"kW\")\n",
    "    ax2.legend()\n",
    "    ax3.legend()\n",
    "    ax2.grid(true)\n",
    "    ax2.set(ylabel=\"kg\")\n",
    "    \n",
    "       fig.tight_layout()\n",
    "\n",
    "\n",
    "   \n",
    "     return fig, ax1, ax2\n",
    "    \n",
    "end\n"
   ]
  },
  {
   "cell_type": "code",
   "execution_count": 8,
   "id": "4d8e8035-6db7-49e1-87ff-1d5884aa2789",
   "metadata": {},
   "outputs": [
    {
     "data": {
      "text/plain": [
       "6-element Vector{Float64}:\n",
       " 17.07\n",
       " 25.605\n",
       "  8.535\n",
       " 34.14\n",
       "  2.0484\n",
       " 17.07"
      ]
     },
     "execution_count": 8,
     "metadata": {},
     "output_type": "execute_result"
    }
   ],
   "source": [
    "Pload_max = maximum(Pload)\n",
    "\n",
    "xmin = [0., 1e-3, 0., 0., 0., 0.] # 1e-3 instead of 0.0, because LCOE is NaN if ther is exactly zero generation\n",
    "x0 = [3.0, 3.0, 2.0, 1.0, 1.0, 5.0] * (Pload_max/1000)\n",
    "xmax = [10.0, 15.0, 5.0, 20., 1.2 , 20. ] * (Pload_max/1000)"
   ]
  },
  {
   "cell_type": "code",
   "execution_count": 9,
   "id": "dd051772-f6d5-416a-a858-e3cac878b834",
   "metadata": {
    "tags": []
   },
   "outputs": [
    {
     "data": {
      "text/plain": [
       "optim_mg"
      ]
     },
     "execution_count": 9,
     "metadata": {},
     "output_type": "execute_result"
    }
   ],
   "source": [
    "\"\"\"Optimize sizing of microgrid based on the `obj` function\n",
    "\n",
    "Parameters:\n",
    "- `x0`: initial sizing (for the algorithms which need them)\n",
    "- `shed_max`: load shedding penalty threshold (same as in `obj`)\n",
    "- `algo` could be one of LN_SBPLX, GN_DIRECT, GN_ESCH...\n",
    "- `maxeval`: maximum allowed number of calls to the objective function,\n",
    "  that is to the microgrid simulation\n",
    "- `xtol_rel`: termination condition based on relative change of sizing, see NLopt doc.\n",
    "- `srand`: random number generation seed (for algorithms which use some stochastic search)\n",
    "\n",
    "Problem bounds are taken as the global variables `xmin`, `xmax`,\n",
    "but could be added to the parameters as well.\n",
    "\"\"\"\n",
    "function optim_mg(x0, shed_max,dispatch, algo=:LN_SBPLX, maxeval=1000, xtol_rel=1e-8, srand=1)\n",
    "    nx = length(x0) # number of optim variables\n",
    "    opt = Opt(algo, nx)\n",
    "    NLopt.srand(srand)\n",
    "    \n",
    "    opt.lower_bounds = xmin\n",
    "    opt.upper_bounds = xmax\n",
    "    opt.min_objective = (x, grad) -> obj(x, grad,dispatch, shed_max)\n",
    "    opt.xtol_rel = xtol_rel\n",
    "    opt.maxeval = maxeval\n",
    "    \n",
    "    (fopt, xopt, ret) = optimize(opt, x0)\n",
    "    return xopt, ret, opt.numevals\n",
    "end"
   ]
  },
  {
   "cell_type": "code",
   "execution_count": 11,
   "id": "221d69a8-6262-4e95-9a3a-940a254914ab",
   "metadata": {},
   "outputs": [
    {
     "data": {
      "text/plain": [
       "obj_multi"
      ]
     },
     "execution_count": 11,
     "metadata": {},
     "output_type": "execute_result"
    }
   ],
   "source": [
    "\"Multi-objective criterion for microgrid performance: lcoe, shedding rate\"\n",
    "function obj_multi(x,dispatch)\n",
    "   traj,stats, costs = simulate_microgrid(x,dispatch)\n",
    "    # Extract KPIs of interest\n",
    "    lcoe = costs.lcoe # $/kWh\n",
    "    shed_rate = stats.shed_rate; # in [0,1]\n",
    "    return lcoe, shed_rate\n",
    "end"
   ]
  },
  {
   "cell_type": "code",
   "execution_count": 12,
   "id": "0482bd16-e7b2-40b2-82ac-e4cc1505e7b4",
   "metadata": {},
   "outputs": [
    {
     "data": {
      "text/plain": [
       "obj (generic function with 2 methods)"
      ]
     },
     "execution_count": 12,
     "metadata": {},
     "output_type": "execute_result"
    }
   ],
   "source": [
    "function obj(x, grad,dispatch, shed_max, w_shed_max=1e5)\n",
    "    lcoe, shed_rate = obj_multi(x,dispatch)\n",
    "    over_shed = shed_rate - shed_max\n",
    "    if over_shed > 0.0\n",
    "        penalty = w_shed_max*over_shed\n",
    "    else\n",
    "        penalty = 0.0\n",
    "    end\n",
    "    J = lcoe + penalty\n",
    "end"
   ]
  },
  {
   "cell_type": "code",
   "execution_count": null,
   "id": "ee419820-5562-49ae-9625-8e2384703a57",
   "metadata": {},
   "outputs": [],
   "source": []
  },
  {
   "cell_type": "code",
   "execution_count": null,
   "id": "97220b80-1eb3-431e-826c-12fcf5f04c7f",
   "metadata": {},
   "outputs": [],
   "source": []
  },
  {
   "cell_type": "code",
   "execution_count": null,
   "id": "79006d3e-ab65-497d-89bd-a0c62fbfc2b9",
   "metadata": {},
   "outputs": [],
   "source": []
  },
  {
   "cell_type": "code",
   "execution_count": null,
   "id": "a1561109-812c-43c0-96be-773a032d4952",
   "metadata": {},
   "outputs": [],
   "source": []
  },
  {
   "cell_type": "code",
   "execution_count": 50,
   "id": "6305c0ad-6e41-49e0-9b3a-bc59009581ad",
   "metadata": {},
   "outputs": [
    {
     "name": "stdout",
     "output_type": "stream",
     "text": [
      "GN_CRS2_LM algo: XTOL_REACHED after 69177 iterations. \n",
      "x*=[6750.3, 4362.3, 2143.2, 887.7, 1495.3, 12606.8]\n",
      "LCOE*: 0.25620326210747557\n",
      "shed*: 9.999998227674223e-5\n"
     ]
    }
   ],
   "source": [
    "algo = :GN_CRS2_LM # could be one of GN_CRS2_LM, GN_DIRECT, GN_ESCH, LN_SBPLX...\n",
    "shed_max = 0.0001 # in [0,1]\n",
    "maxeval=100000\n",
    "xopt, ret, numevals = optim_mg(x0, shed_max,dispatch_1, algo, maxeval)\n",
    "\n",
    "@printf(\"%s algo: %s after %d iterations. \\nx*=\", algo, ret, numevals)\n",
    "println(round.(xopt*1000; digits=1)) # kW\n",
    "lcoe_opt, shed_rate_opt = obj_multi(xopt,dispatch_1)\n",
    "println(\"LCOE*: \", lcoe_opt)\n",
    "println(\"shed*: \", shed_rate_opt)"
   ]
  },
  {
   "cell_type": "code",
   "execution_count": 42,
   "id": "1959b112-8609-49d0-a0e3-721b1dd5d7d1",
   "metadata": {
    "tags": []
   },
   "outputs": [
    {
     "data": {
      "text/plain": [
       "OperationStats with fields:\n",
       "- served_energy: 6.7682e6 kWh\n",
       "- shed_energy: 6775.0 kWh\n",
       "- shed_max: 256.54 kW\n",
       "- shed_hours: 141.0 h\n",
       "- shed_duration_max: 8.0 h\n",
       "- shed_rate: 0.001 in [0,1]\n",
       "- gen_energy: 0.0 kWh\n",
       "- gen_hours: 0.0 h\n",
       "- gen_fuel: 0.0 L\n",
       "- fc_energy: 983780.0 kWh\n",
       "- fc_hours: 1829.0 h\n",
       "- h2_consumed: 61486.0 kg\n",
       "- h2_produced: 64898.0 kg\n",
       "- elyz_hours: 4051.0 h\n",
       "- elyz_consumed_energy: 3.6343e6 kWh\n",
       "- h2_chain_loss: 2.6503e6 kWh\n",
       "- storage_cycles: 154.64 \n",
       "- storage_char_energy: 483310.0 kWh\n",
       "- storage_dis_energy: 440120.0 kWh\n",
       "- storage_loss_energy: 46172.0 kWh\n",
       "- spilled_energy: 785770.0 kWh\n",
       "- spilled_max: 3136.2 kW\n",
       "- spilled_rate: 0.076678 in [0,1]\n",
       "- renew_potential_energy: 1.0248e7 kWh\n",
       "- renew_energy: 9.4619e6 kWh\n",
       "- renew_rate: 1.0 in [0,1]\n"
      ]
     },
     "execution_count": 42,
     "metadata": {},
     "output_type": "execute_result"
    }
   ],
   "source": [
    "mg, traj, stats, costs = simulate_microgrid(xopt,dispatch_1)\n",
    "stats"
   ]
  },
  {
   "cell_type": "code",
   "execution_count": 46,
   "id": "08163c89-f8e5-48ff-b29c-942421942fb9",
   "metadata": {
    "tags": []
   },
   "outputs": [
    {
     "data": {
      "text/plain": [
       "(Figure(PyObject <Figure size 800x600 with 3 Axes>), PyObject <Axes: title={'center': 'hourly power repartition'}, ylabel='kW'>, PyObject <Axes: title={'center': 'H2 level'}, ylabel='kg'>)"
      ]
     },
     "execution_count": 46,
     "metadata": {},
     "output_type": "execute_result"
    }
   ],
   "source": [
    "plot_oper_traj(mg,traj)"
   ]
  },
  {
   "cell_type": "code",
   "execution_count": 6,
   "id": "4da1dd01-e71f-49c9-96ea-09a8ad0e5726",
   "metadata": {},
   "outputs": [
    {
     "ename": "LoadError",
     "evalue": "UndefVarError: `optim_mg` not defined",
     "output_type": "error",
     "traceback": [
      "UndefVarError: `optim_mg` not defined",
      "",
      "Stacktrace:",
      " [1] top-level scope",
      "   @ In[6]:4"
     ]
    }
   ],
   "source": [
    "algo = :GN_CRS2_LM # could be one of GN_CRS2_LM, GN_DIRECT, GN_ESCH, LN_SBPLX...\n",
    "shed_max = 0.001 # in [0,1]\n",
    "maxeval=100000\n",
    "xopt2, ret, numevals = optim_mg(x0, shed_max,dispatch_2, algo, maxeval)\n",
    "\n",
    "@printf(\"%s algo: %s after %d iterations. \\nx*=\", algo, ret, numevals)\n",
    "println(round.(xopt2*1000; digits=1)) # kW\n",
    "lcoe_opt, shed_rate_opt = obj_multi(xopt2,dispatch_2)\n",
    "println(\"LCOE*: \", lcoe_opt)\n",
    "println(\"shed*: \", shed_rate_opt)"
   ]
  },
  {
   "cell_type": "code",
   "execution_count": 48,
   "id": "46dbc313-3f17-47f1-8589-dddbb5d76f79",
   "metadata": {},
   "outputs": [
    {
     "data": {
      "text/plain": [
       "OperationStats with fields:\n",
       "- served_energy: 6.7682e6 kWh\n",
       "- shed_energy: 6775.0 kWh\n",
       "- shed_max: 1203.8 kW\n",
       "- shed_hours: 65.0 h\n",
       "- shed_duration_max: 11.0 h\n",
       "- shed_rate: 0.001 in [0,1]\n",
       "- gen_energy: 0.0 kWh\n",
       "- gen_hours: 0.0 h\n",
       "- gen_fuel: 0.0 L\n",
       "- fc_energy: 1.3541e6 kWh\n",
       "- fc_hours: 2843.0 h\n",
       "- h2_consumed: 84630.0 kg\n",
       "- h2_produced: 87968.0 kg\n",
       "- elyz_hours: 5421.0 h\n",
       "- elyz_consumed_energy: 4.9262e6 kWh\n",
       "- h2_chain_loss: 3.5719e6 kWh\n",
       "- storage_cycles: 46.307 \n",
       "- storage_char_energy: 8484.3 kWh\n",
       "- storage_dis_energy: 7844.2 kWh\n",
       "- storage_loss_energy: 816.42 kWh\n",
       "- spilled_energy: 534940.0 kWh\n",
       "- spilled_max: 1974.7 kW\n",
       "- spilled_rate: 0.049186 in [0,1]\n",
       "- renew_potential_energy: 1.0876e7 kWh\n",
       "- renew_energy: 1.0341e7 kWh\n",
       "- renew_rate: 1.0 in [0,1]\n"
      ]
     },
     "execution_count": 48,
     "metadata": {},
     "output_type": "execute_result"
    }
   ],
   "source": [
    "mg2, traj2, stats2, costs2 = simulate_microgrid(xopt2,dispatch_2)\n",
    "stats2"
   ]
  },
  {
   "cell_type": "code",
   "execution_count": 5,
   "id": "88c56bff-3c06-4532-b16f-40f58a0433c8",
   "metadata": {
    "tags": []
   },
   "outputs": [
    {
     "ename": "LoadError",
     "evalue": "UndefVarError: `plot_oper_traj` not defined",
     "output_type": "error",
     "traceback": [
      "UndefVarError: `plot_oper_traj` not defined",
      "",
      "Stacktrace:",
      " [1] top-level scope",
      "   @ In[5]:1"
     ]
    }
   ],
   "source": [
    "plot_oper_traj(mg2,traj2)"
   ]
  },
  {
   "cell_type": "code",
   "execution_count": null,
   "id": "49cb7f56-213d-4e3a-8c53-80a355889344",
   "metadata": {},
   "outputs": [],
   "source": []
  }
 ],
 "metadata": {
  "kernelspec": {
   "display_name": "Julia 1.9.3",
   "language": "julia",
   "name": "julia-1.9"
  },
  "language_info": {
   "file_extension": ".jl",
   "mimetype": "application/julia",
   "name": "julia",
   "version": "1.9.3"
  }
 },
 "nbformat": 4,
 "nbformat_minor": 5
}
