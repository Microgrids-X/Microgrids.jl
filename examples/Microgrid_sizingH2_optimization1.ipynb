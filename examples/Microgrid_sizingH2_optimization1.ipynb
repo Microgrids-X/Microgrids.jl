{
 "cells": [
  {
   "cell_type": "markdown",
   "id": "b14f854f-51e9-4253-8946-d7ca39628ed0",
   "metadata": {},
   "source": [
    "# Microgrid sizing optimization\n",
    "\n",
    "Following the first example about [Microgrid performance simulation](Microgrid_Wind-Solar.ipynb)\n",
    "using [Microgrids.jl](https://github.com/Microgrids-X/Microgrids.jl),\n",
    "this notebook delves into **optimal microgrid sizing**.\n",
    "This means finding the optimal size (rated power or energy) of each component by solving an optimization problem where the objective function is composed of Key Performance Indicators (KPIs) related to the economic and technical performance of the project.\n",
    "\n",
    "Like in the previous example, the sizing is done for a microgrid project with *wind* and *solar* sources, plus a *battery* and a *dispatchable generator*.\n",
    "\n",
    "<img alt='schematic of a microgrid with a symbolic representation of the notion of sizing' src='./images/microgrid_sizing - h2.png' style='height:18em'>\n",
    "\n",
    "The main steps of the optimal sizing process are:\n",
    "1. set up the problem (in particular loading project data like prices and time series)\n",
    "2. run the optimization\n",
    "3. analyze the results\n",
    "\n",
    "## About the optimization formulation and process\n",
    "\n",
    "### Optimization formulation\n",
    "\n",
    "In this illustrative sizing example, the optimization objective (criterion) is:\n",
    "- minimize the Levelized Costs of Electricity `lcoe` (€/kWh)\n",
    "- while keeping the load shedding rate below some threshold (ex.: shedding rate ≤ 1%)\n",
    "\n",
    "but other indicators could be used as well: rate of renewables above some threshold...\n",
    "\n",
    "The above problem is a constrained optimization problem. Since we'll use unconstrained optimization solvers, we will reformulate it as: objective = lcoe + penalty for excess of shedding.\n",
    "\n",
    "### Optimization process\n",
    "\n",
    "This is a “blackbox” type of optimization problem: the optimization algorithm calls iteratively the Microgrid simulator with sizings to be tested until convergence (or reaching the maximum allowed number of iterations):\n",
    "\n",
    "<img alt='schematic of microgrid sizing optimization process: iterations call of the simulator by optimizer' src='./images/MG_optim_diagram.png' style='height:18em'>\n",
    "\n",
    "The code is meant for using the [NLopt](https://nlopt.readthedocs.io/en/latest/) library of optimization solvers (through its [NLopt.jl](https://github.com/JuliaOpt/NLopt.jl/) wrapper), but it could be adapted to other optimizers with minor changes (see remark below about the modularity of the code)."
   ]
  },
  {
   "cell_type": "code",
   "execution_count": 1,
   "id": "c2f04250-290c-4c38-93e6-074702ec0700",
   "metadata": {
    "tags": []
   },
   "outputs": [],
   "source": [
    "using Microgrids\n",
    "using NLopt # optimization solvers\n",
    "using Printf # pretty print results\n",
    "using BenchmarkTools # for timing performance, optional"
   ]
  },
  {
   "cell_type": "markdown",
   "id": "5e20bad8-81a3-4a6b-8c1e-6848a20c0d55",
   "metadata": {},
   "source": [
    "## Load Microgrid project data\n",
    "\n",
    "Loading parameters and time series for a Microgrid project with *wind* and *solar* sources, plus a *battery* and a *dispatchable generator*. \n",
    "Values gathered from the [Microgrid_Wind-Solar.ipynb]((Microgrid_Wind-Solar.ipynb)) notebook."
   ]
  },
  {
   "cell_type": "code",
   "execution_count": 2,
   "id": "a078bb9d-37a9-45f0-bb00-4404a44dcb30",
   "metadata": {
    "tags": []
   },
   "outputs": [
    {
     "name": "stdout",
     "output_type": "stream",
     "text": [
      "Data definition for Microgrid with wind, solar, storage and generator...\n"
     ]
    }
   ],
   "source": [
    "include(\"./Microgrid_Wind-Solar_data.jl\");"
   ]
  },
  {
   "cell_type": "markdown",
   "id": "9431f37f-4a44-42f7-a017-4935125731f2",
   "metadata": {},
   "source": [
    "## Setting up the cost function (criterion) to be optimized\n",
    "\n",
    "The key coding objective is to **encapsulate** the microgrid simulators (`simulate` function of `Microgrids.jl` package) into an objective function that can be called by the optimization algorithm, that is which respects its expected interface (here NLopt).\n",
    "\n",
    "To increase the modularity which facilites using optimization solvers others that NLopt's we implement the encapsulation by **3 nested functions**:\n",
    "\n",
    "1. Simulation of Microgrid project described by a sizing vector `x` (vector input) → returns all simulation statistics\n",
    "2. Extract KPIs of interest to build a multi-objective criterion: here lcoe and shedding rate\n",
    "3. Combine these KPIs as one mono-objective criterion: here LCOE + penalty if shedding rate > shed_max\n",
    "   - and match the interface expected by NLopt's optimizers\n",
    "\n",
    "but if one cares more about compactness, this could be assembled into one single function."
   ]
  },
  {
   "cell_type": "markdown",
   "id": "adb0b6bb-54f7-4849-b1b0-b236681be8d9",
   "metadata": {},
   "source": [
    "### Wrapper of the Microgrid simulator\n",
    "\n",
    "accept a sizing vector `x`, then create all `Microgrids.jl` components and call `simulate`"
   ]
  },
  {
   "cell_type": "code",
   "execution_count": 3,
   "id": "b1b119b9-0e9c-447d-b708-ef64e11b0d0d",
   "metadata": {
    "tags": []
   },
   "outputs": [
    {
     "data": {
      "text/plain": [
       "simulate_microgrid"
      ]
     },
     "execution_count": 3,
     "metadata": {},
     "output_type": "execute_result"
    }
   ],
   "source": [
    "\"\"\"Simulate the performance of a Microgrid project of size `x`\n",
    "with x=[power_rated_gen, energy_rated_sto, power_rated_pv, power_rated_wind]\n",
    "\n",
    "Returns stats, costs\n",
    "\"\"\"\n",
    "    function simulate_microgrid(x)\n",
    "    project = Project(lifetime, discount_rate, timestep, \"€\")\n",
    "    # Split decision variables (converted MW → kW):\n",
    "    power_rated_gen = x[1]*1000\n",
    "    energy_rated_sto = x[2]*1000\n",
    "    power_rated_pv = x[3]*1000\n",
    "    power_rated_wind = x[4]*1000\n",
    "    power_rated_elyz = x[5]*1000\n",
    "    power_rated_fc = x[6]*1000\n",
    "    capacity_rated_hytank = x[7]*1000\n",
    "    \n",
    "\n",
    "    # Create components\n",
    "    gen = ProductionUnit(power_rated_gen,\n",
    "        fuel_intercept, fuel_slope, fuel_price,\n",
    "        investment_price_gen, om_price_gen, lifetime_gen,\n",
    "        load_ratio_min_gen, replacement_price_ratio,\n",
    "        salvage_price_ratio, input_unit_gen,output_unit_gen)\n",
    "    ftank = Tank(capacity_rated_ftank,investment_price_ftank, om_price_ftank,lifetime_ftank,loss_factor_ftank,fuel_ini_ratio,\n",
    "            fuel_min_ratio, fuel_max_ratio,replacement_price_ratio, salvage_price_ratio)\n",
    "    fuel_cell = ProductionUnit(power_rated_fc,cons_intercept_fc, cons_rate_fc,cons_price_fc,investment_price_fc, om_price_fc,lifetime_fc,\n",
    "                load_min_ratio_fc,replacement_price_ratio, salvage_price_ratio,input_unit_fc,output_unit_fc)\n",
    "    hytank = Tank(capacity_rated_hytank,investment_price_hytank, om_price_hytank,lifetime_hytank,loss_factor_hytank,LoH_ini_ratio,\n",
    "                LoH_min_ratio, LoH_max_ratio,replacement_price_ratio, salvage_price_ratio)\n",
    "    dispatchables = DispatchableCompound{Float64}([gen,], [fuel_cell])\n",
    "       tanks = TankCompound{Float64}(ftank,hytank)\n",
    "   \n",
    "    elyz = ProductionUnit(power_rated_elyz,cons_intercept_elyz,cons_slope_elyz,cons_price_elyz, investment_price_elyz, om_price_elyz, lifetime_elyz,\n",
    "    load_min_ratio_elyz,replacement_price_ratio, salvage_price_ratio,input_unit_elyz,output_unit_elyz)\n",
    "\n",
    "    batt = Battery(energy_rated_sto,\n",
    "        investment_price_sto, om_price_sto, lifetime_sto, lifetime_cycles,\n",
    "        charge_rate, discharge_rate, loss_factor_sto, SoC_min, SoC_ini,SoC_max,\n",
    "        replacement_price_ratio, salvage_price_ratio)\n",
    "    pv = Photovoltaic(power_rated_pv, irradiance,\n",
    "        investment_price_pv, om_price_pv,\n",
    "        lifetime_pv, derating_factor_pv,\n",
    "        replacement_price_ratio, salvage_price_ratio)\n",
    "    windgen = WindPower(power_rated_wind, cf_wind,\n",
    "        investment_price_wind, om_price_wind,\n",
    "        lifetime_wind,\n",
    "        replacement_price_ratio, salvage_price_ratio)\n",
    "    \n",
    "   mg = Microgrid(project, Pload,dispatchables,\n",
    "    [elyz,],tanks,batt, [\n",
    "        pv,\n",
    "        windgen\n",
    "        ]\n",
    "    )\n",
    "    # Launch simulation:\n",
    "    traj, stats, costs = simulate(mg)\n",
    "\n",
    "    return mg, traj ,stats, costs\n",
    "end"
   ]
  },
  {
   "cell_type": "code",
   "execution_count": 4,
   "id": "df58e986-633b-4d9c-8d25-dd1d6e8a2e9f",
   "metadata": {
    "tags": []
   },
   "outputs": [
    {
     "data": {
      "text/plain": [
       "0.0"
      ]
     },
     "execution_count": 4,
     "metadata": {},
     "output_type": "execute_result"
    }
   ],
   "source": [
    "capacity_rated_ftank"
   ]
  },
  {
   "cell_type": "markdown",
   "id": "e5321132-a5bf-467b-839b-99e36a2e781c",
   "metadata": {},
   "source": [
    "Test of the simulator wrapper (on a baseline sizing):"
   ]
  },
  {
   "cell_type": "code",
   "execution_count": 5,
   "id": "d765dc6a-eeda-4727-b259-479176670dc1",
   "metadata": {
    "tags": []
   },
   "outputs": [
    {
     "ename": "LoadError",
     "evalue": "type OperationStats has no field lcoe",
     "output_type": "error",
     "traceback": [
      "type OperationStats has no field lcoe",
      "",
      "Stacktrace:",
      " [1] getproperty(x::OperationStats, f::Symbol)",
      "   @ Base .\\Base.jl:37",
      " [2] top-level scope",
      "   @ In[5]:5"
     ]
    }
   ],
   "source": [
    "# Baseline sizing: same as in Microgrid_Wind-Solar.ipynb notebook\n",
    "x_base = [power_rated_gen, energy_rated_sto, power_rated_pv,power_rated_wind, power_rated_elyz,power_rated_fc ,capacity_rated_hytank]/1000.\n",
    "# run simulation:\n",
    "traj, stats, costs = simulate_microgrid(x_base)\n",
    "x_base, costs.lcoe, costs.npc/1e6"
   ]
  },
  {
   "cell_type": "markdown",
   "id": "6e51a19f-0f68-44e4-ae09-ad11806f5747",
   "metadata": {},
   "source": [
    "### Build the objective functions (criteria)\n",
    "\n",
    "- first bi-objective function x ↦ (lcoe, shedding rate)(x)\n",
    "- then wrapped into a mono objective x ↦ J(x) by using a penalty for the excess of shedding rate\n",
    "  - and match the interface expected by NLopt's optimizers"
   ]
  },
  {
   "cell_type": "code",
   "execution_count": 6,
   "id": "470f5630-322c-497f-bac9-beb87f014f71",
   "metadata": {
    "tags": []
   },
   "outputs": [
    {
     "data": {
      "text/plain": [
       "obj_multi"
      ]
     },
     "execution_count": 6,
     "metadata": {},
     "output_type": "execute_result"
    }
   ],
   "source": [
    "\"Multi-objective criterion for microgrid performance: lcoe, shedding rate\"\n",
    "function obj_multi(x)\n",
    "   mg, traj,stats, costs = simulate_microgrid(x)\n",
    "    # Extract KPIs of interest\n",
    "    lcoe = costs.lcoe # $/kWh\n",
    "    shed_rate = stats.shed_rate; # in [0,1]\n",
    "    return lcoe, shed_rate\n",
    "end"
   ]
  },
  {
   "cell_type": "code",
   "execution_count": 7,
   "id": "6b3eb2d2-1513-424b-baa0-a49ca5247bb4",
   "metadata": {
    "tags": []
   },
   "outputs": [
    {
     "data": {
      "text/plain": [
       "obj"
      ]
     },
     "execution_count": 7,
     "metadata": {},
     "output_type": "execute_result"
    }
   ],
   "source": [
    "\"\"\"Mono-objective criterion: LCOE + penalty if shedding rate > `shed_max`\n",
    "\n",
    "with signature adapted to NLopt with `grad` as 2nd argument\n",
    "\n",
    "load shedding penalty threshold `shed_max` should be in  [0,1[\n",
    "\"\"\"\n",
    "function obj(x, grad, shed_max, w_shed_max=1e5)\n",
    "    lcoe, shed_rate = obj_multi(x)\n",
    "    over_shed = shed_rate - shed_max\n",
    "    if over_shed > 0.0\n",
    "        penalty = w_shed_max*over_shed\n",
    "    else\n",
    "        penalty = 0.0\n",
    "    end\n",
    "    J = lcoe + penalty\n",
    "end"
   ]
  },
  {
   "cell_type": "markdown",
   "id": "c57f7af9-ea2f-40a8-b502-ba98b472410c",
   "metadata": {},
   "source": [
    "### Tests the objective functions\n",
    "\n",
    "Sizing being tested:\n",
    "- baseline sizing from the simulation notebook: perfect quality of service (QoS) with zero load shedding\n",
    "- baseline modified with a halved generator sizing: very good QoS with a bit of load shedding → not penalized\n",
    "- small PV and small wind generators only: low LCOE (i.e. the production-only LCOE of these sources) but but extremely bad QoS → huge penalty"
   ]
  },
  {
   "cell_type": "code",
   "execution_count": 8,
   "id": "8de2153d-559f-4a60-880e-e8ea5fa3b810",
   "metadata": {
    "tags": []
   },
   "outputs": [
    {
     "name": "stdout",
     "output_type": "stream",
     "text": [
      "Base. multi: (0.21571461172077722, 0.20552617597582035) mono: 19552.833312193754\n",
      "Shed. multi: (0.20827574936977203, 0.20552617597582035) mono: 19552.825873331403\n",
      "PV.   multi: (0.10149685980966677, 0.923547868561659) mono: 91354.8883530257\n",
      "Wind. multi: (0.10040264224635914, 0.74395737102815) mono: 73395.83750545724\n"
     ]
    }
   ],
   "source": [
    "# Test:\n",
    "shed_max = 0.01 # in [0,1]\n",
    "\n",
    "x_shed = [0, energy_rated_sto, power_rated_pv,power_rated_wind, power_rated_elyz,power_rated_fc ,capacity_rated_hytank]/1000.\n",
    "x_pv   = [0. 0. 500.   0. 0. 0. 0.]/1000.\n",
    "x_wind = [0. 0.   0. 500. 0. 0. 0.]/1000.\n",
    "\n",
    "println(\"Base. multi: \", obj_multi(x_base), \" mono: \", obj(x_base,[], shed_max))\n",
    "println(\"Shed. multi: \", obj_multi(x_shed), \" mono: \", obj(x_shed,[], shed_max))\n",
    "println(\"PV.   multi: \", obj_multi(x_pv), \" mono: \", obj(x_pv,[], shed_max))\n",
    "println(\"Wind. multi: \", obj_multi(x_wind), \" mono: \", obj(x_wind,[], shed_max))"
   ]
  },
  {
   "cell_type": "markdown",
   "id": "dfbf1ccf-a7df-474a-991c-9437bd83d8ab",
   "metadata": {},
   "source": [
    "## Optimization"
   ]
  },
  {
   "cell_type": "markdown",
   "id": "d15efd32-c2ab-4d9a-98cf-5918cdf0b9b1",
   "metadata": {},
   "source": [
    "### Setting up the optimization problem"
   ]
  },
  {
   "cell_type": "markdown",
   "id": "87ccea54-0d83-4b01-8f7e-de37c8dfa0d9",
   "metadata": {},
   "source": [
    "bounds of the design space and starting point: derived from maximal load power"
   ]
  },
  {
   "cell_type": "code",
   "execution_count": 9,
   "id": "5ac92d7e-5de1-4ddf-a050-6897dbc8af2d",
   "metadata": {
    "tags": []
   },
   "outputs": [
    {
     "data": {
      "text/plain": [
       "7-element Vector{Float64}:\n",
       "  0.0\n",
       " 17.07\n",
       " 25.605\n",
       "  8.535\n",
       " 34.14\n",
       "  2.0484\n",
       " 17.07"
      ]
     },
     "execution_count": 9,
     "metadata": {},
     "output_type": "execute_result"
    }
   ],
   "source": [
    "Pload_max = maximum(Pload)\n",
    "\n",
    "xmin = [0., 0., 1e-3, 0., 0., 0., 0.] # 1e-3 instead of 0.0, because LCOE is NaN if ther is exactly zero generation\n",
    "x0 = [0., 3.0, 3.0, 2.0, 1.0, 1.0, 5.0] * (Pload_max/1000)\n",
    "xmax = [0., 10.0, 15.0, 5.0, 20., 1.2 , 10. ] * (Pload_max/1000)"
   ]
  },
  {
   "cell_type": "markdown",
   "id": "6c2bc984-bae8-403f-8130-d50efc8f5717",
   "metadata": {},
   "source": [
    "Optionally ban some choices:"
   ]
  },
  {
   "cell_type": "code",
   "execution_count": 10,
   "id": "9f65e094-4c58-4e9b-b4ee-b626f6504f6c",
   "metadata": {
    "tags": []
   },
   "outputs": [],
   "source": [
    "# Solar power forbidden (optional)\n",
    "#x0[3] = 1e-3\n",
    "#xmax[3] = 1e-3\n",
    "# Wind power forbidden (optional)\n",
    "#x0[4] = 0.\n",
    "#xmax[4] = 0."
   ]
  },
  {
   "cell_type": "markdown",
   "id": "f1bd17b9-c02d-4280-8715-c46efe6c03f4",
   "metadata": {},
   "source": [
    "Check cost function on `xmin` and `xmax`"
   ]
  },
  {
   "cell_type": "code",
   "execution_count": 11,
   "id": "6d5ef67e-5d40-4bb0-a13d-65dc3d57bceb",
   "metadata": {
    "tags": []
   },
   "outputs": [
    {
     "data": {
      "text/plain": [
       "((0.10149685980963595, 0.9998470957371233), (1.2761120605599305, 8.262599201630023e-6))"
      ]
     },
     "execution_count": 11,
     "metadata": {},
     "output_type": "execute_result"
    }
   ],
   "source": [
    "obj_multi(xmin), obj_multi(xmax)"
   ]
  },
  {
   "cell_type": "markdown",
   "id": "3daceed1-2315-4eca-b7bd-b3a1e31cff09",
   "metadata": {
    "tags": []
   },
   "source": [
    "### Wrapper of the optimization process\n",
    "\n",
    "This is an optional step, but recommended to explore easily the impact of the many parameters taken by optimization algorithms.\n",
    "\n",
    "See [optimization termination conditions](https://nlopt.readthedocs.io/en/latest/NLopt_Introduction/#termination-conditions) in NLopt documention for the meaning of `xtol_rel`"
   ]
  },
  {
   "cell_type": "code",
   "execution_count": 12,
   "id": "08491363-e1ce-47d3-a425-4bc83888be12",
   "metadata": {
    "tags": []
   },
   "outputs": [
    {
     "data": {
      "text/plain": [
       "optim_mg"
      ]
     },
     "execution_count": 12,
     "metadata": {},
     "output_type": "execute_result"
    }
   ],
   "source": [
    "\"\"\"Optimize sizing of microgrid based on the `obj` function\n",
    "\n",
    "Parameters:\n",
    "- `x0`: initial sizing (for the algorithms which need them)\n",
    "- `shed_max`: load shedding penalty threshold (same as in `obj`)\n",
    "- `algo` could be one of LN_SBPLX, GN_DIRECT, GN_ESCH...\n",
    "- `maxeval`: maximum allowed number of calls to the objective function,\n",
    "  that is to the microgrid simulation\n",
    "- `xtol_rel`: termination condition based on relative change of sizing, see NLopt doc.\n",
    "- `srand`: random number generation seed (for algorithms which use some stochastic search)\n",
    "\n",
    "Problem bounds are taken as the global variables `xmin`, `xmax`,\n",
    "but could be added to the parameters as well.\n",
    "\"\"\"\n",
    "function optim_mg(x0, shed_max, algo=:LN_SBPLX, maxeval=1000, xtol_rel=1e-4, srand=1)\n",
    "    nx = length(x0) # number of optim variables\n",
    "    opt = Opt(algo, nx)\n",
    "    NLopt.srand(srand)\n",
    "    \n",
    "    opt.lower_bounds = xmin\n",
    "    opt.upper_bounds = xmax\n",
    "    opt.min_objective = (x, grad) -> obj(x, grad, shed_max)\n",
    "    opt.xtol_rel = xtol_rel\n",
    "    opt.maxeval = maxeval\n",
    "    \n",
    "    (fopt, xopt, ret) = optimize(opt, x0)\n",
    "    return xopt, ret, opt.numevals\n",
    "end"
   ]
  },
  {
   "cell_type": "markdown",
   "id": "11264431-19b1-4349-bc90-19d88bba1b87",
   "metadata": {},
   "source": [
    "### Run optimization & analyze results"
   ]
  },
  {
   "cell_type": "code",
   "execution_count": 13,
   "id": "d32fcbf4-42fc-42aa-a4ad-1b8ca24a984d",
   "metadata": {
    "tags": []
   },
   "outputs": [
    {
     "name": "stdout",
     "output_type": "stream",
     "text": [
      "GN_CRS2_LM algo: MAXEVAL_REACHED after 10000 iterations. \n",
      "x*=[0.0, 9764.2, 20727.4, 3356.4, 380.0, 1541.9, 16800.5]\n",
      "LCOE*: 0.5786213467955624\n",
      "shed*: 0.0\n"
     ]
    }
   ],
   "source": [
    "algo = :GN_CRS2_LM # could be one of GN_CRS2_LM, GN_DIRECT, GN_ESCH, LN_SBPLX...\n",
    "shed_max = 0. # in [0,1]\n",
    "maxeval=10000\n",
    "xopt, ret, numevals = optim_mg(x0, shed_max, algo, maxeval)\n",
    "\n",
    "@printf(\"%s algo: %s after %d iterations. \\nx*=\", algo, ret, numevals)\n",
    "println(round.(xopt*1000; digits=1)) # kW\n",
    "lcoe_opt, shed_rate_opt = obj_multi(xopt)\n",
    "println(\"LCOE*: \", lcoe_opt)\n",
    "println(\"shed*: \", shed_rate_opt)"
   ]
  },
  {
   "cell_type": "code",
   "execution_count": 24,
   "id": "6a763252-1a24-4d35-a8e8-b45d9da51341",
   "metadata": {
    "tags": []
   },
   "outputs": [
    {
     "name": "stdout",
     "output_type": "stream",
     "text": [
      "GN_CRS2_LM algo: MAXEVAL_REACHED after 10000 iterations. \n",
      "x*=[0.0, 3402.7, 2074.2, 2217.4, 1196.7, 1301.9, 16800.9]\n",
      "LCOE*: 0.20798206778104475\n",
      "shed*: 0.0009998209597289068\n"
     ]
    }
   ],
   "source": [
    "algo = :GN_CRS2_LM # could be one of GN_CRS2_LM, GN_DIRECT, GN_ESCH, LN_SBPLX...\n",
    "shed_max = 0.001 # in [0,1]\n",
    "maxeval=10000\n",
    "xopt, ret, numevals = optim_mg(x0, shed_max, algo, maxeval,1e-10,5)\n",
    "\n",
    "@printf(\"%s algo: %s after %d iterations. \\nx*=\", algo, ret, numevals)\n",
    "println(round.(xopt*1000; digits=1)) # kW\n",
    "lcoe_opt, shed_rate_opt = obj_multi(xopt)\n",
    "println(\"LCOE*: \", lcoe_opt)\n",
    "println(\"shed*: \", shed_rate_opt)"
   ]
  },
  {
   "cell_type": "markdown",
   "id": "58772966-74b1-431c-9f84-e8efe7352130",
   "metadata": {},
   "source": [
    "optional local \"polishing\":"
   ]
  },
  {
   "cell_type": "code",
   "execution_count": 25,
   "id": "78b3e3f8-0de8-47f3-a8a4-40358feef172",
   "metadata": {
    "tags": []
   },
   "outputs": [
    {
     "name": "stdout",
     "output_type": "stream",
     "text": [
      "LN_SBPLX polish: XTOL_REACHED after 239 iterations. \n",
      "x*=[0.0, 3402.5, 2074.2, 2217.4, 1196.6, 1301.8, 16801.0]\n",
      "LCOE*: 0.20798046348779503\n",
      "shed*: 0.000999888188853352\n"
     ]
    }
   ],
   "source": [
    "algo_polish = :LN_SBPLX\n",
    "xopt_polish, ret, numevals = optim_mg(xopt, shed_max, algo_polish)\n",
    "\n",
    "@printf(\"%s polish: %s after %d iterations. \\nx*=\", algo_polish, ret, numevals)\n",
    "println(round.(xopt_polish*1000; digits=1)) # kW\n",
    "lcoe_opt, shed_rate_opt = obj_multi(xopt_polish)\n",
    "println(\"LCOE*: \", lcoe_opt)\n",
    "println(\"shed*: \", shed_rate_opt)"
   ]
  },
  {
   "cell_type": "markdown",
   "id": "f543939c-c26d-40fb-aefa-129dff57ae1d",
   "metadata": {},
   "source": [
    "Retrieve all performance statistics of the optimized sizing"
   ]
  },
  {
   "cell_type": "code",
   "execution_count": 15,
   "id": "1e046d9e-21ec-4834-9bf3-5bc1c9be1f0a",
   "metadata": {
    "tags": []
   },
   "outputs": [
    {
     "ename": "LoadError",
     "evalue": "type OperationStats has no field npc",
     "output_type": "error",
     "traceback": [
      "type OperationStats has no field npc",
      "",
      "Stacktrace:",
      " [1] getproperty(x::OperationStats, f::Symbol)",
      "   @ Base .\\Base.jl:37",
      " [2] top-level scope",
      "   @ In[15]:2"
     ]
    }
   ],
   "source": [
    "traj_opt, stats_opt, costs_opt = simulate_microgrid(xopt_polish)\n",
    "@printf(\"NPC*: %.2f M\\$ (compared to %.2f M\\$ in baseline)\\n\", costs_opt.npc/1e6, costs.npc/1e6)\n",
    "@printf(\"rate of renewables: %.1f %%\\n\", stats_opt.renew_rate*100)\n",
    "# Display all operation statistics\n",
    "stats_opt"
   ]
  },
  {
   "cell_type": "markdown",
   "id": "464f74e6-2939-4bed-ac6f-87ec8ef99660",
   "metadata": {},
   "source": [
    "#### Summary of some results for 1% max shedding rate\n",
    "\n",
    "Global search algorithms:\n",
    "- **CRS2**: 0.190 720 \\$/kWh (with shedding ~ threshold).\n",
    "  x* = [889.0, 2013.0, 1570.9, 1354.0] → *best global algorithm choice so far, although effect of seed not studied*\n",
    "- **DIRECT**: 0.191 297 \\$/kWh (with shedding < threshold) in 1000 iter.\n",
    "  x* = [910.4, 1837.8, 1543.3, 1375.7] \n",
    "    - \"polishing\" with SBPLX: 0.190 650 \\$/kWh (with shedding ~ threshold) in 207 extra iter.\n",
    "      x* = [887.1, 1992.4, 1543.3, 1375.6]\n",
    "    - increasing DIRECT maxeval to 10k doesn't bring much improvement (0.191 258 \\$/kWh)\n",
    "      compared to SBPLX polishing\n",
    "- **ESCH**: 0.194 884 \\$/kWh with shedding OK (with shedding < threshold) in 1000 iter.\n",
    "  x* = [1028.1, 1769.6, 1420.5, 1365.1] → *much slower to converge than DIRECT or CRS*\n",
    "\n",
    "Local search algorithms:\n",
    "- **SUBPLX**: 0.190 630 \\$/kWh with (with shedding ~ threshold) **in 479 iter** (<maxeval).\n",
    "  x* = [888.6, 1873.5, 1558.5, 1355.9]\n",
    "  - very competitive, but too sensitive to initialization `x0`?"
   ]
  },
  {
   "cell_type": "markdown",
   "id": "6fec0632-2c4b-4683-8d53-c8062fd238d7",
   "metadata": {},
   "source": [
    "#### Case with perfect quality of service (QoS)\n",
    "\n",
    "Another optimization case with perfect quality of service (QoS), that is zero load shedding  "
   ]
  },
  {
   "cell_type": "code",
   "execution_count": null,
   "id": "8f4a08f2-96d5-47f1-a9fb-41a419051be8",
   "metadata": {
    "tags": []
   },
   "outputs": [],
   "source": [
    "algo = :GN_CRS2_LM # could be one of LN_SBPLX, GN_DIRECT, GN_CRS2_LM, GN_ESCH...\n",
    "shed_max = 0.00 # in [0,1]\n",
    "maxeval=1000\n",
    "xopt, ret, numevals = optim_mg(x0, shed_max, algo, maxeval)\n",
    "\n",
    "@printf(\"%s algo: %s after %d iterations. \\nx*=\", algo, ret, numevals)\n",
    "println(round.(xopt*1000; digits=1)) # kW\n",
    "lcoe_opt, shed_rate_opt = obj_multi(xopt)\n",
    "println(\"LCOE*: \", lcoe_opt)\n",
    "println(\"shed*: \", shed_rate_opt)"
   ]
  },
  {
   "cell_type": "code",
   "execution_count": 14,
   "id": "f2545f43-8dd2-4254-84a2-4f643f69a994",
   "metadata": {
    "tags": []
   },
   "outputs": [
    {
     "name": "stdout",
     "output_type": "stream",
     "text": [
      "LN_SBPLX polish: XTOL_REACHED after 477 iterations. \n",
      "x*=[0.0, 16138.7, 9004.4, 6778.6, 507.3, 1398.0, 1994.7]\n",
      "LCOE*: 0.6114079791076036\n",
      "shed*: 0.0\n"
     ]
    }
   ],
   "source": [
    "algo_polish = :LN_SBPLX\n",
    "xopt_polish, ret, numevals = optim_mg(xopt, shed_max, algo_polish)\n",
    "\n",
    "@printf(\"%s polish: %s after %d iterations. \\nx*=\", algo_polish, ret, numevals)\n",
    "println(round.(xopt_polish*1000; digits=1)) # kW\n",
    "lcoe_opt, shed_rate_opt = obj_multi(xopt_polish)\n",
    "println(\"LCOE*: \", lcoe_opt)\n",
    "println(\"shed*: \", shed_rate_opt)\n"
   ]
  },
  {
   "cell_type": "code",
   "execution_count": 28,
   "id": "ff55bbfb-dd3f-437c-b7b2-c9fa55dc9644",
   "metadata": {
    "tags": []
   },
   "outputs": [
    {
     "ename": "LoadError",
     "evalue": "UndefVarError: `costs_opt` not defined",
     "output_type": "error",
     "traceback": [
      "UndefVarError: `costs_opt` not defined",
      "",
      "Stacktrace:",
      " [1] top-level scope",
      "   @ In[28]:1"
     ]
    }
   ],
   "source": []
  },
  {
   "cell_type": "code",
   "execution_count": 19,
   "id": "d3f47b0a-7b0d-4556-892f-4a123244d1e0",
   "metadata": {
    "tags": []
   },
   "outputs": [
    {
     "data": {
      "text/plain": [
       "OperationStats with fields:\n",
       "- served_energy: 6.775e6 kWh\n",
       "- shed_energy: 0.0 kWh\n",
       "- shed_max: 0.0 kW\n",
       "- shed_hours: 0.0 h\n",
       "- shed_duration_max: 0.0 h\n",
       "- shed_rate: 0.0 in [0,1]\n",
       "- gen_energy: 0.0 kWh\n",
       "- gen_hours: 0.0 h\n",
       "- gen_fuel: 0.0 L\n",
       "- fc_energy: 103580.0 kWh\n",
       "- fc_hours: 143.0 h\n",
       "- h2_consumed: 6473.8 kg\n",
       "- h2_produced: 6954.6 kg\n",
       "- elyz_hours: 3920.0 h\n",
       "- elyz_consumed_energy: 389460.0 kWh\n",
       "- h2_chain_loss: 285850.0 kWh\n",
       "- storage_cycles: 41.344 \n",
       "- storage_char_energy: 726430.0 kWh\n",
       "- storage_dis_energy: 673370.0 kWh\n",
       "- storage_loss_energy: 69990.0 kWh\n",
       "- spilled_energy: 1.7264e7 kWh\n",
       "- spilled_max: 8847.8 kW\n",
       "- spilled_rate: 0.70818 in [0,1]\n",
       "- renew_potential_energy: 2.4378e7 kWh\n",
       "- renew_energy: 7.1139e6 kWh\n",
       "- renew_rate: 1.0 in [0,1]\n"
      ]
     },
     "execution_count": 19,
     "metadata": {},
     "output_type": "execute_result"
    }
   ],
   "source": [
    "mg, traj, stats, costs = simulate_microgrid(xopt)\n",
    "stats"
   ]
  },
  {
   "cell_type": "code",
   "execution_count": 29,
   "id": "f0843d0b-f0bf-4442-95bc-c5b9ae360720",
   "metadata": {
    "tags": []
   },
   "outputs": [
    {
     "data": {
      "text/plain": [
       "58.38101140623111"
      ]
     },
     "execution_count": 29,
     "metadata": {},
     "output_type": "execute_result"
    }
   ],
   "source": [
    "costs.npc/1e6"
   ]
  },
  {
   "cell_type": "code",
   "execution_count": 21,
   "id": "b01d2fab-2c1c-40fb-9903-0e602224e9e2",
   "metadata": {
    "tags": []
   },
   "outputs": [],
   "source": [
    "using Printf, CSV, DataFrames, Statistics\n",
    "using PyPlot\n",
    "with_plots = isdefined(Main, :PyPlot)\n",
    "td = collect((0:nsteps-1)/24) # time in days\n",
    "\n",
    "function plot_oper_traj(microgrid, oper_traj)\n",
    "    fig, (ax1, ax2) = plt.subplots(2,1, sharex=true)\n",
    "    ax1.plot(td, Pload, label=\"load\")\n",
    "    ax1.plot(td, oper_traj.Pfc, \"tab:red\", label=\"Pfc\")\n",
    "    ax1.plot(td, oper_traj.Prenew_pot, \"tab:orange\", label=\"ren\")\n",
    "    ax1.plot(td, oper_traj.Pelyz, \"tab:gray\", label=\"Pelyz\")\n",
    "    ax1.plot(td, oper_traj.Pfc, \"tab:pink\", label=\"Pfc\")\n",
    "     ax3=ax1.twinx()\n",
    "     ax3.set_ylim([0, 1.25])\n",
    "    ax3.plot(td, oper_traj.Ebatt[2:end]/(xopt[2]*1000), \"C2\")\n",
    "    \n",
    "    ax1.legend()\n",
    "    ax1.grid(true)\n",
    "    ax1.set(\n",
    "        ylabel=\"kW\"\n",
    "    )\n",
    "   \n",
    "    ax2.grid(true)\n",
    "    ax2.set(\n",
    "        title=\"H2 Tank level\",\n",
    "        xlabel=\"time (d)\",\n",
    "        ylabel=\"kWh\"\n",
    "       \n",
    "    )\n",
    "    ax2.plot(td, oper_traj.LoH[1:end-1]/(xopt[7]*1000), \"C2\")\n",
    "    \n",
    "    fig.tight_layout()\n",
    "    return fig, (ax1, ax2)\n",
    "end\n",
    "\n",
    "if with_plots\n",
    "    fig, (ax1, ax2) = plot_oper_traj(mg, traj)\n",
    "     ax1.set_ylim(0, 4250)\n",
    "    pygui(true)\n",
    "    plt.show()\n",
    "   \n",
    "end;"
   ]
  },
  {
   "cell_type": "markdown",
   "id": "6d4a8f44-eebd-49cd-bcf3-2e44fd3372c7",
   "metadata": {},
   "source": [
    "#### Performance (duration) of the optimization\n",
    "\n",
    "About 2 s for 10k iterations, i.e. 0.2 ms/iter."
   ]
  },
  {
   "cell_type": "code",
   "execution_count": null,
   "id": "9dc290cb-ac52-44db-8ee3-c54dce0fe4be",
   "metadata": {
    "tags": []
   },
   "outputs": [],
   "source": [
    "@time xopt, ret, numevals = optim_mg(x0, shed_max, :GN_DIRECT, 10000)"
   ]
  },
  {
   "cell_type": "markdown",
   "id": "ce32248d-39de-448a-829c-376e1eaaa550",
   "metadata": {},
   "source": [
    "Fact: optimization time relates to simulation time with Toptim ~ Tsim × neval\n",
    "\n",
    "[Benchmarktools](https://juliaci.github.io/BenchmarkTools.jl/)'s `@btime` is need for accurate timing of the simulator:"
   ]
  },
  {
   "cell_type": "code",
   "execution_count": 15,
   "id": "16330858-ca64-45e6-b641-d197924e401d",
   "metadata": {
    "tags": []
   },
   "outputs": [
    {
     "name": "stdout",
     "output_type": "stream",
     "text": [
      "  50.694 ms (899212 allocations: 26.56 MiB)\n"
     ]
    },
    {
     "data": {
      "text/plain": [
       "(0.32398700745291287, 0.0002557645932088728)"
      ]
     },
     "execution_count": 15,
     "metadata": {},
     "output_type": "execute_result"
    }
   ],
   "source": [
    "@btime obj_multi(x0)"
   ]
  },
  {
   "cell_type": "markdown",
   "id": "1df6cf8f-a878-4718-b8f8-a90a62aa9aee",
   "metadata": {},
   "source": [
    "## Optimization with Automatic Differentiation *(TO BE WRITTEN)*\n",
    "\n",
    "As demonstrated in our conference article:\n",
    "\n",
    "de Godoy Antunes, P. Haessig, C. Wang, and R. Chouhy Leborgne, “Optimal Microgrid Sizing using Gradient-based Algorithms with Automatic Differentiation,” ISGT Europe 2022, Novi Sad, Serbia, 2022. https://dx.doi.org/10.1109/ISGT-Europe54678.2022.9960498 https://hal.archives-ouvertes.fr/hal-03370004\n",
    "\n",
    "Gradient of optimization criteria computed with [ForwardDiff.jl](https://juliadiff.org/ForwardDiff.jl/stable/).\n",
    "This allows using **gradient-based optimization algorithms** like LBFGS or SLSQP (the latter supports constraints) which converge in less iterations.\n",
    "\n",
    "This requires using the \"relaxation parameter\" `ε` of the Microgrid simulator to smooth out some discontinuities.\n",
    "\n",
    "DOCUMENTATION TO BE WRITTEN"
   ]
  },
  {
   "cell_type": "code",
   "execution_count": 18,
   "id": "5d974d16-f0fc-4f9a-a48c-1f7b2bc48786",
   "metadata": {},
   "outputs": [
    {
     "name": "stdout",
     "output_type": "stream",
     "text": [
      "search: \u001b[0m\u001b[1ma\u001b[22m\u001b[0m\u001b[1mg\u001b[22m\u001b[0m\u001b[1mg\u001b[22m\u001b[0m\u001b[1mr\u001b[22m\u001b[0m\u001b[1me\u001b[22m\u001b[0m\u001b[1mg\u001b[22m\u001b[0m\u001b[1ma\u001b[22m\u001b[0m\u001b[1mt\u001b[22m\u001b[0m\u001b[1mi\u001b[22m\u001b[0m\u001b[1mo\u001b[22m\u001b[0m\u001b[1mn\u001b[22m \u001b[0m\u001b[1ma\u001b[22m\u001b[0m\u001b[1mg\u001b[22m\u001b[0m\u001b[1mg\u001b[22m\u001b[0m\u001b[1mr\u001b[22m\u001b[0m\u001b[1me\u001b[22m\u001b[0m\u001b[1mg\u001b[22m\u001b[0m\u001b[1ma\u001b[22m\u001b[0m\u001b[1mt\u001b[22me\n",
      "\n"
     ]
    },
    {
     "data": {
      "text/latex": [
       "\\begin{verbatim}\n",
       "aggregation(mg::Microgrid, oper_traj::OperationTraj, ε::Real=1.0)\n",
       "\\end{verbatim}\n",
       "Aggregate operation time series \\texttt{oper\\_traj} into yearly statistics for the the microgrid \\texttt{mg} (returned as an \\texttt{OperationStats} object).\n",
       "\n",
       "Discontinuous statistics can optionally be relaxed (smoothed) using the relaxation parameter \\texttt{ε}:\n",
       "\n",
       "\\begin{itemize}\n",
       "\\item 0.0 means no relaxation (default value)\n",
       "\n",
       "\n",
       "\\item 1.0 yields the strongest relaxation\n",
       "\n",
       "\\end{itemize}\n",
       "Using relaxation (\\texttt{ε} > 0) is recommended when using gradient-based optimization and then a “small enough” value between 0.05 and 0.30 is suggested.\n",
       "\n"
      ],
      "text/markdown": [
       "```\n",
       "aggregation(mg::Microgrid, oper_traj::OperationTraj, ε::Real=1.0)\n",
       "```\n",
       "\n",
       "Aggregate operation time series `oper_traj` into yearly statistics for the the microgrid `mg` (returned as an `OperationStats` object).\n",
       "\n",
       "Discontinuous statistics can optionally be relaxed (smoothed) using the relaxation parameter `ε`:\n",
       "\n",
       "  * 0.0 means no relaxation (default value)\n",
       "  * 1.0 yields the strongest relaxation\n",
       "\n",
       "Using relaxation (`ε` > 0) is recommended when using gradient-based optimization and then a “small enough” value between 0.05 and 0.30 is suggested.\n"
      ],
      "text/plain": [
       "\u001b[36m  aggregation(mg::Microgrid, oper_traj::OperationTraj, ε::Real=1.0)\u001b[39m\n",
       "\n",
       "  Aggregate operation time series \u001b[36moper_traj\u001b[39m into yearly statistics for the the\n",
       "  microgrid \u001b[36mmg\u001b[39m (returned as an \u001b[36mOperationStats\u001b[39m object).\n",
       "\n",
       "  Discontinuous statistics can optionally be relaxed (smoothed) using the\n",
       "  relaxation parameter \u001b[36mε\u001b[39m:\n",
       "\n",
       "    •  0.0 means no relaxation (default value)\n",
       "\n",
       "    •  1.0 yields the strongest relaxation\n",
       "\n",
       "  Using relaxation (\u001b[36mε\u001b[39m > 0) is recommended when using gradient-based\n",
       "  optimization and then a “small enough” value between 0.05 and 0.30 is\n",
       "  suggested."
      ]
     },
     "execution_count": 18,
     "metadata": {},
     "output_type": "execute_result"
    }
   ],
   "source": [
    "?aggregation"
   ]
  },
  {
   "cell_type": "markdown",
   "id": "37b788d2-a5c7-4444-9f45-fefa8929d6fe",
   "metadata": {},
   "source": [
    "---\n",
    "## *How we imagine the optimization interface in a future version...*\n",
    "\n",
    "Desirable feature: *dynamically select* which variables are optimized (e.g. using `getproperty` to dynamically access structure fields...)"
   ]
  },
  {
   "cell_type": "code",
   "execution_count": 19,
   "id": "2a51ac3b-4493-472b-8b0f-ac924edf5de7",
   "metadata": {
    "tags": []
   },
   "outputs": [
    {
     "data": {
      "text/plain": [
       "2-element Vector{Tuple{Vector{Symbol}, Float64, Float64, Float64}}:\n",
       " ([:generator, :power_rated], 1000.0, 0.0, 2000.0)\n",
       " ([:battery, :energy_max], 3000.0, 0.0, 6000.0)"
      ]
     },
     "execution_count": 19,
     "metadata": {},
     "output_type": "execute_result"
    }
   ],
   "source": [
    "#mg0 = baseline microgrid project, with given price and time series data\n",
    "opti_params = [ # list of :component/variable name, initial, min, max values\n",
    "    ([:generator,:power_rated], 1000.0, 0., 2000.), \n",
    "    ([:battery,:energy_max],    3000.0, 0., 6000.)\n",
    "]\n",
    "#optim_mg(mg0, opti_params)"
   ]
  }
 ],
 "metadata": {
  "kernelspec": {
   "display_name": "Julia 1.9.3",
   "language": "julia",
   "name": "julia-1.9"
  },
  "language_info": {
   "file_extension": ".jl",
   "mimetype": "application/julia",
   "name": "julia",
   "version": "1.9.3"
  }
 },
 "nbformat": 4,
 "nbformat_minor": 5
}
